{
 "cells": [
  {
   "cell_type": "markdown",
   "id": "03401290",
   "metadata": {},
   "source": [
    "# Прогнозирование температуры звезды с помощью нейронных сетей\n",
    "\n"
   ]
  },
  {
   "cell_type": "markdown",
   "id": "de435273",
   "metadata": {},
   "source": [
    "<div  style=\"border-radius: 10px; box-shadow: 2px 2px 2px; border: 1px solid; padding: 10px \">\n",
    "\n",
    "**Описание проекта**    \n",
    "Проект разрабатывается для обсерватории \"Небо на ладони\" с целью создания модели машинного обучения, способной предсказывать температуру на поверхности звезд по их характеристикам. Имеющиеся традиционные методы расчета температуры (закон смещения Вина, закон Стефана-Больцмана и спектральный анализ) требуют альтернативного решения для повышения точности измерений.\n",
    "\n",
    "**Цель проекта**\n",
    "Разработка нейронной сети, обеспечивающей прогнозирование абсолютной температуры звезды (в Кельвинах) с ошибкой RMSE не более 4500.\n",
    "\n",
    "**Задачи проекта**    \n",
    "    \n",
    "1. **Анализ и подготовка данных**\n",
    "   - Исследование распределения признаков\n",
    "   - Обработка пропусков и выбросов\n",
    "   - Нормализация числовых признаков\n",
    "   - Кодирование категориальных переменных\n",
    "   \n",
    "\n",
    "2. **Построение базовой модели**\n",
    "   - Разработка архитектуры нейросети\n",
    "   - Подбор гиперпараметров\n",
    "   - Обучение и валидация модели\n",
    "   \n",
    "\n",
    "3. **Оптимизация модели**\n",
    "   - Эксперименты с регуляризацией (Dropout)\n",
    "   - Сравнение различных архитектур\n",
    "   \n",
    "\n",
    "4. **Оценка результатов**\n",
    "   - Анализ метрик качества\n",
    "\n",
    "   \n",
    "\n",
    "**Данные**     \n",
    "Используется датасет с характеристиками 240 звезд, включающий:\n",
    "- Относительная светимость (L/Lo)\n",
    "- Относительный радиус (R/Ro)\n",
    "- Абсолютная звездная величина (Mv)\n",
    "- Цвет звезды (категориальный)\n",
    "- Тип звезды (категориальный)\n",
    "- Абсолютная температура (T(K)) - целевая переменная"
   ]
  },
  {
   "cell_type": "markdown",
   "id": "5cefaca7",
   "metadata": {},
   "source": [
    "## Импорты и функции"
   ]
  },
  {
   "cell_type": "code",
   "execution_count": 1,
   "id": "019764c0",
   "metadata": {
    "scrolled": false
   },
   "outputs": [
    {
     "name": "stdout",
     "output_type": "stream",
     "text": [
      "Looking in links: https://download.pytorch.org/whl/torch_stable.html\n",
      "Requirement already satisfied: torch==1.10.0+cpu in /home/jovyan/.local/lib/python3.9/site-packages (1.10.0+cpu)\n",
      "Requirement already satisfied: torchvision==0.11.0+cpu in /home/jovyan/.local/lib/python3.9/site-packages (0.11.0+cpu)\n",
      "Requirement already satisfied: torchaudio==0.10.0 in /home/jovyan/.local/lib/python3.9/site-packages (0.10.0+rocm4.1)\n",
      "Requirement already satisfied: typing-extensions in /opt/conda/lib/python3.9/site-packages (from torch==1.10.0+cpu) (4.3.0)\n",
      "Requirement already satisfied: pillow!=8.3.0,>=5.3.0 in /opt/conda/lib/python3.9/site-packages (from torchvision==0.11.0+cpu) (8.4.0)\n",
      "Requirement already satisfied: numpy in /opt/conda/lib/python3.9/site-packages (from torchvision==0.11.0+cpu) (1.21.1)\n"
     ]
    }
   ],
   "source": [
    "!pip install torch==1.10.0+cpu torchvision==0.11.0+cpu torchaudio==0.10.0 -f https://download.pytorch.org/whl/torch_stable.html --user\n"
   ]
  },
  {
   "cell_type": "code",
   "execution_count": 2,
   "id": "485d0d9c",
   "metadata": {
    "scrolled": true
   },
   "outputs": [
    {
     "name": "stdout",
     "output_type": "stream",
     "text": [
      "Note: you may need to restart the kernel to use updated packages.\n"
     ]
    }
   ],
   "source": [
    "pip install phik -q"
   ]
  },
  {
   "cell_type": "code",
   "execution_count": 3,
   "id": "5393129d",
   "metadata": {},
   "outputs": [
    {
     "name": "stdout",
     "output_type": "stream",
     "text": [
      "Note: you may need to restart the kernel to use updated packages.\n"
     ]
    }
   ],
   "source": [
    "pip install --upgrade scikit-learn -q"
   ]
  },
  {
   "cell_type": "code",
   "execution_count": 4,
   "id": "cfaa0fab",
   "metadata": {},
   "outputs": [
    {
     "name": "stdout",
     "output_type": "stream",
     "text": [
      "Note: you may need to restart the kernel to use updated packages.\n"
     ]
    }
   ],
   "source": [
    "pip install optuna -q"
   ]
  },
  {
   "cell_type": "code",
   "execution_count": 5,
   "id": "8669bdf3",
   "metadata": {},
   "outputs": [],
   "source": [
    "#Импортируем необходимые библиотеки для работы \n",
    "import pandas as pd\n",
    "from math import *\n",
    "import numpy as np\n",
    "from scipy import stats as st\n",
    "import optuna\n",
    "from optuna.samplers import TPESampler\n",
    "from sklearn.model_selection import train_test_split\n",
    "from sklearn.preprocessing import (StandardScaler, OneHotEncoder)\n",
    "from sklearn.metrics import mean_squared_error\n",
    "from sklearn.pipeline import Pipeline\n",
    "from sklearn.impute import SimpleImputer\n",
    "from sklearn.compose import ColumnTransformer\n",
    "import random\n",
    "from sklearn.preprocessing import PowerTransformer\n",
    "from sklearn.model_selection import StratifiedKFold\n",
    "from sklearn.model_selection import KFold\n",
    "\n",
    "# Графическое отображение\n",
    "import matplotlib.pyplot as plt\n",
    "import seaborn as sns\n",
    "import phik\n",
    "\n",
    "\n",
    "# Модели обучения\n",
    "import torch\n",
    "import torch.nn as nn\n",
    "import torchvision\n",
    "import torchvision.transforms as transforms\n",
    "\n",
    "from sklearn.model_selection import RandomizedSearchCV\n",
    "\n",
    "import warnings\n",
    "warnings.filterwarnings(\"ignore\")\n",
    "\n",
    "#Зададим константы\n",
    "TEST_SIZE = 0.25\n",
    "RANDOM_STATE = 40"
   ]
  },
  {
   "cell_type": "code",
   "execution_count": 6,
   "id": "e043faa7",
   "metadata": {},
   "outputs": [],
   "source": [
    "torch.manual_seed(1234)\n",
    "input_size = 28*28\n",
    "hidden_size = 800\n",
    "num_classes = 10\n",
    "num_epochs = 1\n",
    "batch_size = 100\n",
    "learning_rate = 0.001"
   ]
  },
  {
   "cell_type": "markdown",
   "id": "45ca716b",
   "metadata": {},
   "source": [
    "### Функции"
   ]
  },
  {
   "cell_type": "code",
   "execution_count": 7,
   "id": "4969d337",
   "metadata": {},
   "outputs": [],
   "source": [
    "# Функция для отображения информации о датасете\n",
    "def show_info(df):\n",
    "    print('Количество строк выборки составляет:',df.shape[0],'\\n')\n",
    "    display('Первые пять строк', df.head())\n",
    "    print('Общая информация о данных\\n')\n",
    "    print(df.info())\n",
    "    display('Описание',df.describe().T)\n",
    "    print('Количество явных дубликатов составляет',df.duplicated().sum())"
   ]
  },
  {
   "cell_type": "code",
   "execution_count": 8,
   "id": "3f9e9f43",
   "metadata": {},
   "outputs": [],
   "source": [
    "#Функция для отображения уникальных значений в категориальных данных для поиска неявных дубликатов\n",
    "def category_hide_duplicates(df):\n",
    "    \n",
    "    # Получаем список категориальных столбцов\n",
    "    cat_col_names = df.select_dtypes(include='object').columns.tolist()\n",
    "    \n",
    "    # Проходим по каждому категориальному столбцу\n",
    "    for col in cat_col_names:\n",
    "        print(f\"{col}:\")\n",
    "        print(df[col].unique()) \n",
    "        print('КОЛИЧЕСТВО УНИКАЛЬНЫХ ЗНАЧЕНИЙ:', df[col].nunique()) \n",
    "        print('=' * 50) "
   ]
  },
  {
   "cell_type": "code",
   "execution_count": 9,
   "id": "8d957e13",
   "metadata": {},
   "outputs": [],
   "source": [
    "#Функция отображения гистограм и боксплотов для исследовательского анализа\n",
    "def search_plot(df_col, title_name, bins):\n",
    "\n",
    "    mean = df_col.mean()\n",
    "    median = df_col.median()\n",
    "    \n",
    "    fig, ax = plt.subplots(2, 1, figsize=(10, 10))\n",
    "    fig.suptitle(f\"{title_name}\", fontsize=13)\n",
    "    \n",
    "    sns.histplot(df_col, bins=bins, kde=True, ax=ax[0])\n",
    "    ax[0].set_title('Гистограмма', fontsize=10)\n",
    "    ax[0].set_xlabel(title_name)\n",
    "    ax[0].set_ylabel('Частота')\n",
    "    ax[0].grid(True)\n",
    "    \n",
    "    ax[0].axvline(mean, color='red', linestyle='--', label=f'Среднее = {mean:.2f}')\n",
    "    ax[0].axvline(median, color='purple', linestyle='-.', label=f'Медиана = {median:.2f}')\n",
    "    ax[0].legend()\n",
    "\n",
    "    sns.boxplot(x=df_col, ax=ax[1], color='pink')\n",
    "    ax[1].set_title('Диаграмма размаха', fontsize=10)\n",
    "    ax[1].axvline(median, color='green', linestyle='-.')\n",
    "    ax[1].grid(True)\n",
    "\n",
    "    plt.tight_layout(rect=[0, 0, 1, 0.95])\n",
    "    plt.show()\n",
    "    \n",
    "    \n",
    "    display(df_col.describe().T)\n",
    "    print('')\n",
    "    \n",
    "    stat, p = st.shapiro(df_col)\n",
    "    alpha = 0.05  # Уровень значимости\n",
    "    if p > alpha:\n",
    "        print(\"По тесту Шапиро-Уилка: Распределение похоже на нормальное\")\n",
    "    else:\n",
    "        print(\"По тесту Шапиро-Уилка: Распределение отличается от нормального\")"
   ]
  },
  {
   "cell_type": "code",
   "execution_count": 10,
   "id": "baf7bc4b",
   "metadata": {},
   "outputs": [],
   "source": [
    "def search_сategory(df,col):\n",
    "    \n",
    "    ratio = round(df.groupby(col)[col].count()/df[col].count()*100)\n",
    "    \n",
    "    ratio.plot(\n",
    "    kind = 'pie',\n",
    "    autopct='%1.1f%%',\n",
    "    labels = ratio.index,\n",
    "    figsize=(6,6),\n",
    "    title = 'Круговая диаграмма соотношения признаков в данных '+ col,\n",
    "    ylabel = '',\n",
    "    colors=sns.color_palette('pastel'),\n",
    "    fontsize = 12\n",
    "    )"
   ]
  },
  {
   "cell_type": "code",
   "execution_count": 11,
   "id": "d11f8295",
   "metadata": {},
   "outputs": [],
   "source": [
    "def discrete_search_plot(df_col, title_name):\n",
    "\n",
    "    plt.figure(figsize=(12, 8))\n",
    "    sns.color_palette(\"crest\", as_cmap=True)\n",
    "    \n",
    "    fig = sns.countplot(df_col, x = title_name, edgecolor='black')\n",
    "    fig.set_title(title_name, fontsize=14)\n",
    "    fig.set_xlabel(title_name)\n",
    "    fig.set_ylabel('Количество')\n",
    "    fig.grid(True)\n",
    "\n",
    "\n",
    "\n",
    "    plt.show()"
   ]
  },
  {
   "cell_type": "code",
   "execution_count": 12,
   "id": "b9329f5c",
   "metadata": {},
   "outputs": [],
   "source": [
    "def scatter_show(df):\n",
    "    ### Создадим список  признаков \n",
    "    col = list(df.columns.drop('temperature'))\n",
    "\n",
    "    # Построение диаграмм рассеяния\n",
    "    plt.figure(figsize=(15, 20))\n",
    "\n",
    "    for i, k in enumerate(col, 1):\n",
    "        plt.subplot(4, 2, i)\n",
    "        sns.scatterplot(\n",
    "            data=df,\n",
    "            y=k,\n",
    "            x='temperature',\n",
    "#            hue = name_of_feature,\n",
    "            alpha=0.7\n",
    "        )\n",
    "        plt.title(f'Температура звезд, {k}')\n",
    "\n",
    "    plt.show()"
   ]
  },
  {
   "cell_type": "code",
   "execution_count": 13,
   "id": "7ed0be65",
   "metadata": {},
   "outputs": [],
   "source": [
    "def comparation_bar(predict, bar=72):\n",
    "    x = np.arange(bar)\n",
    "    plt.figure(figsize = (15,8))\n",
    "    plt.bar(x, predict[:bar], width = 0.6, color = 'orange', edgecolor = 'black', label='Предсказание', alpha=0.5)\n",
    "    plt.bar(x, y_test[:bar], width = 0.3, color = 'skyblue', edgecolor = 'black', label='Действительное значение')\n",
    "    plt.title('Сравнение предсказания и действительных температур')\n",
    "    plt.ylabel('Температура звезды')\n",
    "    plt.xlabel('Номер звезды')\n",
    "    plt.legend()\n",
    "    plt.grid(axis='y')\n",
    "    plt.show()"
   ]
  },
  {
   "cell_type": "markdown",
   "id": "corresponding-armstrong",
   "metadata": {
    "ExecuteTime": {
     "end_time": "2022-05-05T04:58:05.692448Z",
     "start_time": "2022-05-05T04:58:05.688565Z"
    }
   },
   "source": [
    "## Загрузка данных"
   ]
  },
  {
   "cell_type": "code",
   "execution_count": 14,
   "id": "1810d5a7",
   "metadata": {},
   "outputs": [],
   "source": [
    "try:\n",
    "    df = pd.read_csv('/datasets/6_class.csv', sep =',')\n",
    "except:\n",
    "    df = pd.read_csv('6_class.csv', sep =',')\n",
    "\n",
    "    \n",
    "    \n",
    "df_raw = df.shape[0]"
   ]
  },
  {
   "cell_type": "code",
   "execution_count": 15,
   "id": "spectacular-folder",
   "metadata": {
    "scrolled": true
   },
   "outputs": [
    {
     "name": "stdout",
     "output_type": "stream",
     "text": [
      "Количество строк выборки составляет: 240 \n",
      "\n"
     ]
    },
    {
     "data": {
      "text/plain": [
       "'Первые пять строк'"
      ]
     },
     "metadata": {},
     "output_type": "display_data"
    },
    {
     "data": {
      "text/html": [
       "<div>\n",
       "<style scoped>\n",
       "    .dataframe tbody tr th:only-of-type {\n",
       "        vertical-align: middle;\n",
       "    }\n",
       "\n",
       "    .dataframe tbody tr th {\n",
       "        vertical-align: top;\n",
       "    }\n",
       "\n",
       "    .dataframe thead th {\n",
       "        text-align: right;\n",
       "    }\n",
       "</style>\n",
       "<table border=\"1\" class=\"dataframe\">\n",
       "  <thead>\n",
       "    <tr style=\"text-align: right;\">\n",
       "      <th></th>\n",
       "      <th>Unnamed: 0</th>\n",
       "      <th>Temperature (K)</th>\n",
       "      <th>Luminosity(L/Lo)</th>\n",
       "      <th>Radius(R/Ro)</th>\n",
       "      <th>Absolute magnitude(Mv)</th>\n",
       "      <th>Star type</th>\n",
       "      <th>Star color</th>\n",
       "    </tr>\n",
       "  </thead>\n",
       "  <tbody>\n",
       "    <tr>\n",
       "      <th>0</th>\n",
       "      <td>0</td>\n",
       "      <td>3068</td>\n",
       "      <td>0.002400</td>\n",
       "      <td>0.1700</td>\n",
       "      <td>16.12</td>\n",
       "      <td>0</td>\n",
       "      <td>Red</td>\n",
       "    </tr>\n",
       "    <tr>\n",
       "      <th>1</th>\n",
       "      <td>1</td>\n",
       "      <td>3042</td>\n",
       "      <td>0.000500</td>\n",
       "      <td>0.1542</td>\n",
       "      <td>16.60</td>\n",
       "      <td>0</td>\n",
       "      <td>Red</td>\n",
       "    </tr>\n",
       "    <tr>\n",
       "      <th>2</th>\n",
       "      <td>2</td>\n",
       "      <td>2600</td>\n",
       "      <td>0.000300</td>\n",
       "      <td>0.1020</td>\n",
       "      <td>18.70</td>\n",
       "      <td>0</td>\n",
       "      <td>Red</td>\n",
       "    </tr>\n",
       "    <tr>\n",
       "      <th>3</th>\n",
       "      <td>3</td>\n",
       "      <td>2800</td>\n",
       "      <td>0.000200</td>\n",
       "      <td>0.1600</td>\n",
       "      <td>16.65</td>\n",
       "      <td>0</td>\n",
       "      <td>Red</td>\n",
       "    </tr>\n",
       "    <tr>\n",
       "      <th>4</th>\n",
       "      <td>4</td>\n",
       "      <td>1939</td>\n",
       "      <td>0.000138</td>\n",
       "      <td>0.1030</td>\n",
       "      <td>20.06</td>\n",
       "      <td>0</td>\n",
       "      <td>Red</td>\n",
       "    </tr>\n",
       "  </tbody>\n",
       "</table>\n",
       "</div>"
      ],
      "text/plain": [
       "   Unnamed: 0  Temperature (K)  Luminosity(L/Lo)  Radius(R/Ro)  \\\n",
       "0           0             3068          0.002400        0.1700   \n",
       "1           1             3042          0.000500        0.1542   \n",
       "2           2             2600          0.000300        0.1020   \n",
       "3           3             2800          0.000200        0.1600   \n",
       "4           4             1939          0.000138        0.1030   \n",
       "\n",
       "   Absolute magnitude(Mv)  Star type Star color  \n",
       "0                   16.12          0        Red  \n",
       "1                   16.60          0        Red  \n",
       "2                   18.70          0        Red  \n",
       "3                   16.65          0        Red  \n",
       "4                   20.06          0        Red  "
      ]
     },
     "metadata": {},
     "output_type": "display_data"
    },
    {
     "name": "stdout",
     "output_type": "stream",
     "text": [
      "Общая информация о данных\n",
      "\n",
      "<class 'pandas.core.frame.DataFrame'>\n",
      "RangeIndex: 240 entries, 0 to 239\n",
      "Data columns (total 7 columns):\n",
      " #   Column                  Non-Null Count  Dtype  \n",
      "---  ------                  --------------  -----  \n",
      " 0   Unnamed: 0              240 non-null    int64  \n",
      " 1   Temperature (K)         240 non-null    int64  \n",
      " 2   Luminosity(L/Lo)        240 non-null    float64\n",
      " 3   Radius(R/Ro)            240 non-null    float64\n",
      " 4   Absolute magnitude(Mv)  240 non-null    float64\n",
      " 5   Star type               240 non-null    int64  \n",
      " 6   Star color              240 non-null    object \n",
      "dtypes: float64(3), int64(3), object(1)\n",
      "memory usage: 13.2+ KB\n",
      "None\n"
     ]
    },
    {
     "data": {
      "text/plain": [
       "'Описание'"
      ]
     },
     "metadata": {},
     "output_type": "display_data"
    },
    {
     "data": {
      "text/html": [
       "<div>\n",
       "<style scoped>\n",
       "    .dataframe tbody tr th:only-of-type {\n",
       "        vertical-align: middle;\n",
       "    }\n",
       "\n",
       "    .dataframe tbody tr th {\n",
       "        vertical-align: top;\n",
       "    }\n",
       "\n",
       "    .dataframe thead th {\n",
       "        text-align: right;\n",
       "    }\n",
       "</style>\n",
       "<table border=\"1\" class=\"dataframe\">\n",
       "  <thead>\n",
       "    <tr style=\"text-align: right;\">\n",
       "      <th></th>\n",
       "      <th>count</th>\n",
       "      <th>mean</th>\n",
       "      <th>std</th>\n",
       "      <th>min</th>\n",
       "      <th>25%</th>\n",
       "      <th>50%</th>\n",
       "      <th>75%</th>\n",
       "      <th>max</th>\n",
       "    </tr>\n",
       "  </thead>\n",
       "  <tbody>\n",
       "    <tr>\n",
       "      <th>Unnamed: 0</th>\n",
       "      <td>240.0</td>\n",
       "      <td>119.500000</td>\n",
       "      <td>69.426220</td>\n",
       "      <td>0.00000</td>\n",
       "      <td>59.750000</td>\n",
       "      <td>119.5000</td>\n",
       "      <td>179.2500</td>\n",
       "      <td>239.00</td>\n",
       "    </tr>\n",
       "    <tr>\n",
       "      <th>Temperature (K)</th>\n",
       "      <td>240.0</td>\n",
       "      <td>10497.462500</td>\n",
       "      <td>9552.425037</td>\n",
       "      <td>1939.00000</td>\n",
       "      <td>3344.250000</td>\n",
       "      <td>5776.0000</td>\n",
       "      <td>15055.5000</td>\n",
       "      <td>40000.00</td>\n",
       "    </tr>\n",
       "    <tr>\n",
       "      <th>Luminosity(L/Lo)</th>\n",
       "      <td>240.0</td>\n",
       "      <td>107188.361635</td>\n",
       "      <td>179432.244940</td>\n",
       "      <td>0.00008</td>\n",
       "      <td>0.000865</td>\n",
       "      <td>0.0705</td>\n",
       "      <td>198050.0000</td>\n",
       "      <td>849420.00</td>\n",
       "    </tr>\n",
       "    <tr>\n",
       "      <th>Radius(R/Ro)</th>\n",
       "      <td>240.0</td>\n",
       "      <td>237.157781</td>\n",
       "      <td>517.155763</td>\n",
       "      <td>0.00840</td>\n",
       "      <td>0.102750</td>\n",
       "      <td>0.7625</td>\n",
       "      <td>42.7500</td>\n",
       "      <td>1948.50</td>\n",
       "    </tr>\n",
       "    <tr>\n",
       "      <th>Absolute magnitude(Mv)</th>\n",
       "      <td>240.0</td>\n",
       "      <td>4.382396</td>\n",
       "      <td>10.532512</td>\n",
       "      <td>-11.92000</td>\n",
       "      <td>-6.232500</td>\n",
       "      <td>8.3130</td>\n",
       "      <td>13.6975</td>\n",
       "      <td>20.06</td>\n",
       "    </tr>\n",
       "    <tr>\n",
       "      <th>Star type</th>\n",
       "      <td>240.0</td>\n",
       "      <td>2.500000</td>\n",
       "      <td>1.711394</td>\n",
       "      <td>0.00000</td>\n",
       "      <td>1.000000</td>\n",
       "      <td>2.5000</td>\n",
       "      <td>4.0000</td>\n",
       "      <td>5.00</td>\n",
       "    </tr>\n",
       "  </tbody>\n",
       "</table>\n",
       "</div>"
      ],
      "text/plain": [
       "                        count           mean            std         min  \\\n",
       "Unnamed: 0              240.0     119.500000      69.426220     0.00000   \n",
       "Temperature (K)         240.0   10497.462500    9552.425037  1939.00000   \n",
       "Luminosity(L/Lo)        240.0  107188.361635  179432.244940     0.00008   \n",
       "Radius(R/Ro)            240.0     237.157781     517.155763     0.00840   \n",
       "Absolute magnitude(Mv)  240.0       4.382396      10.532512   -11.92000   \n",
       "Star type               240.0       2.500000       1.711394     0.00000   \n",
       "\n",
       "                                25%        50%          75%        max  \n",
       "Unnamed: 0                59.750000   119.5000     179.2500     239.00  \n",
       "Temperature (K)         3344.250000  5776.0000   15055.5000   40000.00  \n",
       "Luminosity(L/Lo)           0.000865     0.0705  198050.0000  849420.00  \n",
       "Radius(R/Ro)               0.102750     0.7625      42.7500    1948.50  \n",
       "Absolute magnitude(Mv)    -6.232500     8.3130      13.6975      20.06  \n",
       "Star type                  1.000000     2.5000       4.0000       5.00  "
      ]
     },
     "metadata": {},
     "output_type": "display_data"
    },
    {
     "name": "stdout",
     "output_type": "stream",
     "text": [
      "Количество явных дубликатов составляет 0\n"
     ]
    }
   ],
   "source": [
    "show_info(df)"
   ]
  },
  {
   "cell_type": "markdown",
   "id": "a54dbfe2",
   "metadata": {},
   "source": [
    "### Подытог загрузки данных\n",
    "\n",
    "**Объем данных**:\n",
    "- Выборка содержит 240 наблюдений (звезд)\n",
    "- Пропуски и дубликаты отсутствуют\n",
    "\n",
    "**Ключевые характеристики**:\n",
    "\n",
    "- Температура, светимость и радиус имеет большой разброс и стандартное отклонение. Для эффективног о обучения необходимо отмасштабировать данные. Также можно попробовать создать новые признаки через логарифмирование\n",
    "\n",
    "**Категориальные признаки:**\n",
    "  - 6 типов звезд (кодированы числами 0-5) --> перевести в категориальный признак т.к. тип звезды неисчеслим\n",
    "  - цвет звезды  --> проверить на скрытые дубликаты\n",
    "\n",
    "\n",
    "Столбец `Unnamed: 0` Можно поставить индексом или удалить."
   ]
  },
  {
   "cell_type": "markdown",
   "id": "simple-subdivision",
   "metadata": {},
   "source": [
    "## Предобработка и анализ данных"
   ]
  },
  {
   "cell_type": "code",
   "execution_count": 16,
   "id": "flush-dream",
   "metadata": {},
   "outputs": [],
   "source": [
    "df = df.set_index('Unnamed: 0')"
   ]
  },
  {
   "cell_type": "code",
   "execution_count": 17,
   "id": "0afeeca9",
   "metadata": {},
   "outputs": [],
   "source": [
    "# Переименую колонки для удобства в работе\n",
    "df.columns = ['temperature', 'luminosity', 'radius','mv', 'star_type', 'star_color']"
   ]
  },
  {
   "cell_type": "code",
   "execution_count": 18,
   "id": "10936267",
   "metadata": {},
   "outputs": [],
   "source": [
    "df['star_type'] = df['star_type'].astype('object')"
   ]
  },
  {
   "cell_type": "markdown",
   "id": "43d32127",
   "metadata": {},
   "source": [
    "### Скрытые дубликаты"
   ]
  },
  {
   "cell_type": "code",
   "execution_count": 19,
   "id": "9168eb16",
   "metadata": {
    "scrolled": true
   },
   "outputs": [
    {
     "name": "stdout",
     "output_type": "stream",
     "text": [
      "star_type:\n",
      "[0 1 2 3 4 5]\n",
      "КОЛИЧЕСТВО УНИКАЛЬНЫХ ЗНАЧЕНИЙ: 6\n",
      "==================================================\n",
      "star_color:\n",
      "['Red' 'Blue White' 'White' 'Yellowish White' 'Blue white'\n",
      " 'Pale yellow orange' 'Blue' 'Blue-white' 'Whitish' 'yellow-white'\n",
      " 'Orange' 'White-Yellow' 'white' 'Blue ' 'yellowish' 'Yellowish'\n",
      " 'Orange-Red' 'Blue white ' 'Blue-White']\n",
      "КОЛИЧЕСТВО УНИКАЛЬНЫХ ЗНАЧЕНИЙ: 19\n",
      "==================================================\n"
     ]
    }
   ],
   "source": [
    "category_hide_duplicates(df)"
   ]
  },
  {
   "cell_type": "markdown",
   "id": "d7ce0aec",
   "metadata": {},
   "source": [
    "Заметны скрытые дубликаты в цветах звезд. Приведем в порядок"
   ]
  },
  {
   "cell_type": "code",
   "execution_count": 20,
   "id": "2cc475e6",
   "metadata": {},
   "outputs": [],
   "source": [
    "df['star_color'] = (df['star_color']\n",
    "                    .str.lower()\n",
    "                    .str.strip()\n",
    "                    .str.replace(r'[\\s-]+', '-', regex=True)\n",
    "                   )\n",
    "\n"
   ]
  },
  {
   "cell_type": "code",
   "execution_count": 21,
   "id": "5aa1c97f",
   "metadata": {},
   "outputs": [],
   "source": [
    "color_mapping = {\n",
    "    'yellowish-white': 'yellow-white',\n",
    "    'white-yellow': 'yellow-white',\n",
    "    'pale-yellow-orange': 'orange-yellow',\n",
    "    'whitish': 'white',\n",
    "    'yellowish': 'yellow',\n",
    "}\n",
    "df['star_color'] = df['star_color'].replace(color_mapping)"
   ]
  },
  {
   "cell_type": "code",
   "execution_count": 22,
   "id": "307b6fe8",
   "metadata": {
    "scrolled": false
   },
   "outputs": [
    {
     "name": "stdout",
     "output_type": "stream",
     "text": [
      "star_type:\n",
      "[0 1 2 3 4 5]\n",
      "КОЛИЧЕСТВО УНИКАЛЬНЫХ ЗНАЧЕНИЙ: 6\n",
      "==================================================\n",
      "star_color:\n",
      "['red' 'blue-white' 'white' 'yellow-white' 'orange-yellow' 'blue' 'orange'\n",
      " 'yellow' 'orange-red']\n",
      "КОЛИЧЕСТВО УНИКАЛЬНЫХ ЗНАЧЕНИЙ: 9\n",
      "==================================================\n"
     ]
    }
   ],
   "source": [
    "category_hide_duplicates(df)"
   ]
  },
  {
   "cell_type": "markdown",
   "id": "ce3c0bb8",
   "metadata": {},
   "source": [
    "Скрытые дубликаты отсутствуют"
   ]
  },
  {
   "cell_type": "code",
   "execution_count": 23,
   "id": "bad7b259",
   "metadata": {
    "scrolled": false
   },
   "outputs": [
    {
     "data": {
      "text/plain": [
       "red              112\n",
       "blue              56\n",
       "blue-white        41\n",
       "white             12\n",
       "yellow-white      12\n",
       "yellow             3\n",
       "orange             2\n",
       "orange-yellow      1\n",
       "orange-red         1\n",
       "Name: star_color, dtype: int64"
      ]
     },
     "execution_count": 23,
     "metadata": {},
     "output_type": "execute_result"
    }
   ],
   "source": [
    "df['star_color'].value_counts()"
   ]
  },
  {
   "cell_type": "code",
   "execution_count": 24,
   "id": "2ffbfa8e",
   "metadata": {},
   "outputs": [],
   "source": [
    "color_mapping_2 = {\n",
    "#    'yellow': 'other',\n",
    "    'orange-yellow': 'orange',\n",
    "#    'orange': 'other',\n",
    "    'orange-red': 'orange',\n",
    "#    'white':'other',\n",
    "#    'yellow-white':'other'\n",
    "}\n",
    "df['star_color'] = df['star_color'].replace(color_mapping_2)"
   ]
  },
  {
   "cell_type": "code",
   "execution_count": 25,
   "id": "895aceda",
   "metadata": {},
   "outputs": [
    {
     "data": {
      "text/plain": [
       "red             112\n",
       "blue             56\n",
       "blue-white       41\n",
       "white            12\n",
       "yellow-white     12\n",
       "orange            4\n",
       "yellow            3\n",
       "Name: star_color, dtype: int64"
      ]
     },
     "execution_count": 25,
     "metadata": {},
     "output_type": "execute_result"
    }
   ],
   "source": [
    "df['star_color'].value_counts()"
   ]
  },
  {
   "cell_type": "markdown",
   "id": "7f339ab3",
   "metadata": {},
   "source": [
    "создадим новые признаки, прологарифмированные значения светимости и радиуса"
   ]
  },
  {
   "cell_type": "code",
   "execution_count": 26,
   "id": "23c173cf",
   "metadata": {},
   "outputs": [],
   "source": [
    "cols_to_log = ['luminosity', 'radius']\n",
    "for col in cols_to_log:\n",
    "    df[f'log_{col}'] = np.log(df[col])"
   ]
  },
  {
   "cell_type": "markdown",
   "id": "37ef48e3",
   "metadata": {},
   "source": [
    "### Исследовтельский анализ"
   ]
  },
  {
   "cell_type": "code",
   "execution_count": 27,
   "id": "fee69a19",
   "metadata": {
    "scrolled": false
   },
   "outputs": [
    {
     "data": {
      "image/png": "[encoded data removed]",
      "text/plain": [
       "<Figure size 720x720 with 2 Axes>"
      ]
     },
     "metadata": {
      "needs_background": "light"
     },
     "output_type": "display_data"
    },
    {
     "data": {
      "text/plain": [
       "count      240.000000\n",
       "mean     10497.462500\n",
       "std       9552.425037\n",
       "min       1939.000000\n",
       "25%       3344.250000\n",
       "50%       5776.000000\n",
       "75%      15055.500000\n",
       "max      40000.000000\n",
       "Name: temperature, dtype: float64"
      ]
     },
     "metadata": {},
     "output_type": "display_data"
    },
    {
     "name": "stdout",
     "output_type": "stream",
     "text": [
      "\n",
      "По тесту Шапиро-Уилка: Распределение отличается от нормального\n"
     ]
    }
   ],
   "source": [
    "search_plot(df['temperature'],'Температура звезды',25)"
   ]
  },
  {
   "cell_type": "markdown",
   "id": "43fe6578",
   "metadata": {},
   "source": [
    "Данные распределены неравномерно и есть выбросы со звездами с большой температурой.\n",
    "Обрезать данные не будем, так как их и так очень мало\n",
    "\n",
    "---"
   ]
  },
  {
   "cell_type": "code",
   "execution_count": 28,
   "id": "4af2e7aa",
   "metadata": {
    "scrolled": false
   },
   "outputs": [
    {
     "data": {
      "image/png": "[encoded data removed]",
      "text/plain": [
       "<Figure size 720x720 with 2 Axes>"
      ]
     },
     "metadata": {
      "needs_background": "light"
     },
     "output_type": "display_data"
    },
    {
     "data": {
      "text/plain": [
       "count       240.000000\n",
       "mean     107188.361635\n",
       "std      179432.244940\n",
       "min           0.000080\n",
       "25%           0.000865\n",
       "50%           0.070500\n",
       "75%      198050.000000\n",
       "max      849420.000000\n",
       "Name: luminosity, dtype: float64"
      ]
     },
     "metadata": {},
     "output_type": "display_data"
    },
    {
     "name": "stdout",
     "output_type": "stream",
     "text": [
      "\n",
      "По тесту Шапиро-Уилка: Распределение отличается от нормального\n"
     ]
    }
   ],
   "source": [
    "search_plot(df['luminosity'],'Светимость звезды',25)"
   ]
  },
  {
   "cell_type": "markdown",
   "id": "665d4e88",
   "metadata": {},
   "source": [
    "Со светимостью такая же проблема, как и в предыдущем пункте\n",
    "\n",
    "----"
   ]
  },
  {
   "cell_type": "code",
   "execution_count": 29,
   "id": "1770df74",
   "metadata": {
    "scrolled": false
   },
   "outputs": [
    {
     "data": {
      "image/png": "[encoded data removed]",
      "text/plain": [
       "<Figure size 720x720 with 2 Axes>"
      ]
     },
     "metadata": {
      "needs_background": "light"
     },
     "output_type": "display_data"
    },
    {
     "data": {
      "text/plain": [
       "count     240.000000\n",
       "mean      237.157781\n",
       "std       517.155763\n",
       "min         0.008400\n",
       "25%         0.102750\n",
       "50%         0.762500\n",
       "75%        42.750000\n",
       "max      1948.500000\n",
       "Name: radius, dtype: float64"
      ]
     },
     "metadata": {},
     "output_type": "display_data"
    },
    {
     "name": "stdout",
     "output_type": "stream",
     "text": [
      "\n",
      "По тесту Шапиро-Уилка: Распределение отличается от нормального\n"
     ]
    }
   ],
   "source": [
    "search_plot(df['radius'],'Радиус звезды',30)"
   ]
  },
  {
   "cell_type": "markdown",
   "id": "d1119cb9",
   "metadata": {},
   "source": [
    "Выбросы наблюдаются и здесь, но такие размеры имеют место быть, удалять не будем\n",
    "\n",
    "---"
   ]
  },
  {
   "cell_type": "code",
   "execution_count": 30,
   "id": "dca7fcae",
   "metadata": {
    "scrolled": false
   },
   "outputs": [
    {
     "data": {
      "image/png": "[encoded data removed]",
      "text/plain": [
       "<Figure size 720x720 with 2 Axes>"
      ]
     },
     "metadata": {
      "needs_background": "light"
     },
     "output_type": "display_data"
    },
    {
     "data": {
      "text/plain": [
       "count    240.000000\n",
       "mean       4.382396\n",
       "std       10.532512\n",
       "min      -11.920000\n",
       "25%       -6.232500\n",
       "50%        8.313000\n",
       "75%       13.697500\n",
       "max       20.060000\n",
       "Name: mv, dtype: float64"
      ]
     },
     "metadata": {},
     "output_type": "display_data"
    },
    {
     "name": "stdout",
     "output_type": "stream",
     "text": [
      "\n",
      "По тесту Шапиро-Уилка: Распределение отличается от нормального\n"
     ]
    }
   ],
   "source": [
    "search_plot(df['mv'],'Абсолютная звёздная величина',30)"
   ]
  },
  {
   "cell_type": "markdown",
   "id": "13cdfd0e",
   "metadata": {},
   "source": [
    "Здесь данные распределены равномернее, чем в предыдущих пунктах. Можно отметить, что на графике двух вершинное распределение\n",
    "\n",
    "---"
   ]
  },
  {
   "cell_type": "code",
   "execution_count": 31,
   "id": "ba7107a3",
   "metadata": {
    "scrolled": false
   },
   "outputs": [
    {
     "data": {
      "image/png": "[encoded data removed]",
      "text/plain": [
       "<Figure size 864x576 with 1 Axes>"
      ]
     },
     "metadata": {
      "needs_background": "light"
     },
     "output_type": "display_data"
    }
   ],
   "source": [
    "discrete_search_plot(df['star_type'].astype(int),'Тип звезды')"
   ]
  },
  {
   "cell_type": "markdown",
   "id": "4641b2a0",
   "metadata": {},
   "source": [
    "В выборке тип звезды сбалансирован\n",
    "\n",
    "----"
   ]
  },
  {
   "cell_type": "code",
   "execution_count": 32,
   "id": "a6670177",
   "metadata": {},
   "outputs": [
    {
     "data": {
      "image/png": "[encoded data removed]",
      "text/plain": [
       "<Figure size 432x432 with 1 Axes>"
      ]
     },
     "metadata": {},
     "output_type": "display_data"
    }
   ],
   "source": [
    "search_сategory(df,'star_color')"
   ]
  },
  {
   "cell_type": "markdown",
   "id": "58df5d25",
   "metadata": {},
   "source": [
    "Мажорный класс цвета является красным, остальная половина выборки распределена между тремя цветами. При подготовке данных будем стратифицировать данный признак для лучшего обучения модели\n",
    "\n",
    "---"
   ]
  },
  {
   "cell_type": "code",
   "execution_count": 33,
   "id": "05e8b0b0",
   "metadata": {
    "scrolled": false
   },
   "outputs": [
    {
     "data": {
      "image/png": "[encoded data removed]",
      "text/plain": [
       "<Figure size 1296x1152 with 2 Axes>"
      ]
     },
     "metadata": {
      "needs_background": "light"
     },
     "output_type": "display_data"
    }
   ],
   "source": [
    "phik_matrix = (\n",
    "    df\n",
    "    .phik_matrix(interval_cols=df.select_dtypes(include='number')\n",
    "    .columns.tolist())\n",
    ")\n",
    "\n",
    "plt.figure(figsize=(18, 16))\n",
    "sns.heatmap(phik_matrix, annot=True, fmt='.2f', cmap='coolwarm')\n",
    "plt.title('Корреляционная матрица')\n",
    "plt.show()"
   ]
  },
  {
   "cell_type": "markdown",
   "id": "93e36dee",
   "metadata": {},
   "source": [
    "Наиболее коррелируемые с целевым признаком оказались(>0.7):   \n",
    "1) цвет звезды    \n",
    "2) абсолютная звёздная величина    \n",
    "3) логарифмированные значения светимости    "
   ]
  },
  {
   "cell_type": "code",
   "execution_count": 34,
   "id": "9405d251",
   "metadata": {
    "scrolled": false
   },
   "outputs": [
    {
     "data": {
      "image/png": "[encoded data removed]",
      "text/plain": [
       "<Figure size 1080x1440 with 7 Axes>"
      ]
     },
     "metadata": {
      "needs_background": "light"
     },
     "output_type": "display_data"
    }
   ],
   "source": [
    "scatter_show(df)"
   ]
  },
  {
   "cell_type": "markdown",
   "id": "05e432e7",
   "metadata": {},
   "source": [
    "Зависимость между параметрами и целевой переменной   \n",
    "1) **Цвет звезды:**\n",
    "- красный и желтый имееют низкие температуры по сранению с остальными звездами\n",
    "- синие звезды самые горячие, но имеюю большой диапазон разброса (от 5К до 40К)\n",
    "- белые и желтые звезды в диапазоне от 5 до 30 К    \n",
    "\n",
    "2) **Тип звезды:**     \n",
    "- коричневый карлик и красный карлик самые низкие по температуре звезды \n",
    "\n",
    "3) **Светимость и радиус:**\n",
    "- сами по себе значения не дают четкого представления зависимости от целевой переменной\n",
    "- прологарифмированные значения выделили на кластеры и можно сказать, что с log-radius выше 1 звезды распределены с температурой до 40 К. (-3,1) до 10 К, -3 и ниже от 7К до 25К\n",
    "- самые горячие звезды имеют высокую светимость    \n",
    "\n",
    "4) **Абсолютная звёздная величина:**   \n",
    "- самые горячие звезды имеют значения от -10 до 0"
   ]
  },
  {
   "cell_type": "markdown",
   "id": "5e1c54bb",
   "metadata": {},
   "source": [
    "## Подготовка данных"
   ]
  },
  {
   "cell_type": "code",
   "execution_count": 35,
   "id": "5f5f3887",
   "metadata": {},
   "outputs": [],
   "source": [
    "df_train = df.copy()"
   ]
  },
  {
   "cell_type": "code",
   "execution_count": 36,
   "id": "9c98d5aa",
   "metadata": {},
   "outputs": [
    {
     "data": {
      "text/html": [
       "<div>\n",
       "<style scoped>\n",
       "    .dataframe tbody tr th:only-of-type {\n",
       "        vertical-align: middle;\n",
       "    }\n",
       "\n",
       "    .dataframe tbody tr th {\n",
       "        vertical-align: top;\n",
       "    }\n",
       "\n",
       "    .dataframe thead th {\n",
       "        text-align: right;\n",
       "    }\n",
       "</style>\n",
       "<table border=\"1\" class=\"dataframe\">\n",
       "  <thead>\n",
       "    <tr style=\"text-align: right;\">\n",
       "      <th></th>\n",
       "      <th>temperature</th>\n",
       "      <th>luminosity</th>\n",
       "      <th>radius</th>\n",
       "      <th>mv</th>\n",
       "      <th>star_type</th>\n",
       "      <th>star_color</th>\n",
       "      <th>log_luminosity</th>\n",
       "      <th>log_radius</th>\n",
       "    </tr>\n",
       "    <tr>\n",
       "      <th>Unnamed: 0</th>\n",
       "      <th></th>\n",
       "      <th></th>\n",
       "      <th></th>\n",
       "      <th></th>\n",
       "      <th></th>\n",
       "      <th></th>\n",
       "      <th></th>\n",
       "      <th></th>\n",
       "    </tr>\n",
       "  </thead>\n",
       "  <tbody>\n",
       "    <tr>\n",
       "      <th>0</th>\n",
       "      <td>3068</td>\n",
       "      <td>0.002400</td>\n",
       "      <td>0.1700</td>\n",
       "      <td>16.12</td>\n",
       "      <td>0</td>\n",
       "      <td>red</td>\n",
       "      <td>-6.032287</td>\n",
       "      <td>-1.771957</td>\n",
       "    </tr>\n",
       "    <tr>\n",
       "      <th>1</th>\n",
       "      <td>3042</td>\n",
       "      <td>0.000500</td>\n",
       "      <td>0.1542</td>\n",
       "      <td>16.60</td>\n",
       "      <td>0</td>\n",
       "      <td>red</td>\n",
       "      <td>-7.600902</td>\n",
       "      <td>-1.869505</td>\n",
       "    </tr>\n",
       "    <tr>\n",
       "      <th>2</th>\n",
       "      <td>2600</td>\n",
       "      <td>0.000300</td>\n",
       "      <td>0.1020</td>\n",
       "      <td>18.70</td>\n",
       "      <td>0</td>\n",
       "      <td>red</td>\n",
       "      <td>-8.111728</td>\n",
       "      <td>-2.282782</td>\n",
       "    </tr>\n",
       "    <tr>\n",
       "      <th>3</th>\n",
       "      <td>2800</td>\n",
       "      <td>0.000200</td>\n",
       "      <td>0.1600</td>\n",
       "      <td>16.65</td>\n",
       "      <td>0</td>\n",
       "      <td>red</td>\n",
       "      <td>-8.517193</td>\n",
       "      <td>-1.832581</td>\n",
       "    </tr>\n",
       "    <tr>\n",
       "      <th>4</th>\n",
       "      <td>1939</td>\n",
       "      <td>0.000138</td>\n",
       "      <td>0.1030</td>\n",
       "      <td>20.06</td>\n",
       "      <td>0</td>\n",
       "      <td>red</td>\n",
       "      <td>-8.888257</td>\n",
       "      <td>-2.273026</td>\n",
       "    </tr>\n",
       "  </tbody>\n",
       "</table>\n",
       "</div>"
      ],
      "text/plain": [
       "            temperature  luminosity  radius     mv star_type star_color  \\\n",
       "Unnamed: 0                                                                \n",
       "0                  3068    0.002400  0.1700  16.12         0        red   \n",
       "1                  3042    0.000500  0.1542  16.60         0        red   \n",
       "2                  2600    0.000300  0.1020  18.70         0        red   \n",
       "3                  2800    0.000200  0.1600  16.65         0        red   \n",
       "4                  1939    0.000138  0.1030  20.06         0        red   \n",
       "\n",
       "            log_luminosity  log_radius  \n",
       "Unnamed: 0                              \n",
       "0                -6.032287   -1.771957  \n",
       "1                -7.600902   -1.869505  \n",
       "2                -8.111728   -2.282782  \n",
       "3                -8.517193   -1.832581  \n",
       "4                -8.888257   -2.273026  "
      ]
     },
     "execution_count": 36,
     "metadata": {},
     "output_type": "execute_result"
    }
   ],
   "source": [
    "df_train.head()"
   ]
  },
  {
   "cell_type": "code",
   "execution_count": 37,
   "id": "989ba28b",
   "metadata": {},
   "outputs": [],
   "source": [
    "num_cols = ['luminosity', 'radius', 'mv','log_luminosity','log_radius']\n",
    "for col in num_cols:\n",
    "    pt = PowerTransformer(method='yeo-johnson', standardize=False)\n",
    "    df_train[col] = pt.fit_transform(df[[col]])"
   ]
  },
  {
   "cell_type": "code",
   "execution_count": 38,
   "id": "73b97da5",
   "metadata": {},
   "outputs": [],
   "source": [
    "X, y = df_train.drop('temperature',axis=1), df_train['temperature']"
   ]
  },
  {
   "cell_type": "code",
   "execution_count": 39,
   "id": "ce4d9b27",
   "metadata": {},
   "outputs": [],
   "source": [
    "X_train, X_test, y_train, y_test = train_test_split(\n",
    "    X,\n",
    "    y,\n",
    "    test_size = 0.1, \n",
    "    random_state = RANDOM_STATE,\n",
    "    shuffle=True,\n",
    "    stratify = X['star_color']\n",
    ")"
   ]
  },
  {
   "cell_type": "code",
   "execution_count": 40,
   "id": "25899f0e",
   "metadata": {},
   "outputs": [
    {
     "name": "stdout",
     "output_type": "stream",
     "text": [
      "Размер тестовой выборки: 24\n"
     ]
    }
   ],
   "source": [
    "test_num = y_test.shape[0]\n",
    "print('Размер тестовой выборки:',test_num)"
   ]
  },
  {
   "cell_type": "code",
   "execution_count": 41,
   "id": "4594372e",
   "metadata": {},
   "outputs": [],
   "source": [
    "num_columns = X_train.select_dtypes(include='number').columns.tolist()\n",
    "ohe_columns = X_train.select_dtypes(include='object').columns.tolist()"
   ]
  },
  {
   "cell_type": "code",
   "execution_count": 42,
   "id": "03e89f89",
   "metadata": {},
   "outputs": [],
   "source": [
    "ohe_pipe = Pipeline(\n",
    "    [\n",
    "        (\n",
    "            'SimpleImputer_ohe',\n",
    "            SimpleImputer(missing_values=np.nan, strategy='most_frequent')\n",
    "        ),\n",
    "        (\n",
    "            'ohe',\n",
    "            OneHotEncoder(handle_unknown='ignore', drop='first',sparse_output=False)\n",
    "        )\n",
    "    ]\n",
    ")"
   ]
  },
  {
   "cell_type": "code",
   "execution_count": 43,
   "id": "ab09cbe5",
   "metadata": {},
   "outputs": [],
   "source": [
    "data_preprocessor = ColumnTransformer(\n",
    "    [\n",
    "        ('ohe', ohe_pipe, ohe_columns),\n",
    "        ('num', StandardScaler(), num_columns),\n",
    "        ], remainder='passthrough'\n",
    ")"
   ]
  },
  {
   "cell_type": "code",
   "execution_count": 44,
   "id": "d684f4e8",
   "metadata": {},
   "outputs": [],
   "source": [
    "# Масштабируем количественнык данные\n",
    "data_preprocessor.fit(X_train)\n",
    "\n",
    "X_train = data_preprocessor.transform(X_train)\n",
    "X_test = data_preprocessor.transform(X_test)"
   ]
  },
  {
   "cell_type": "code",
   "execution_count": 45,
   "id": "795fff94",
   "metadata": {},
   "outputs": [],
   "source": [
    "# Преобразуем данные в тензоры\n",
    "X_train = torch.FloatTensor(X_train)\n",
    "X_test = torch.FloatTensor(X_test)\n",
    "y_train = torch.FloatTensor(y_train.values)\n",
    "y_test = torch.FloatTensor(y_test.values)"
   ]
  },
  {
   "cell_type": "markdown",
   "id": "funded-electric",
   "metadata": {},
   "source": [
    "## Построение базовой нейронной сети"
   ]
  },
  {
   "cell_type": "markdown",
   "id": "81164142",
   "metadata": {},
   "source": [
    "Был выбран размер батча равный единице, так как с увеличением предсказания ухудшались. Проблема в маленькой выборке датасета и ненормальным распределении данных"
   ]
  },
  {
   "cell_type": "code",
   "execution_count": 46,
   "id": "7a1b5277",
   "metadata": {},
   "outputs": [],
   "source": [
    "input_size = X_train.shape[1]  \n",
    "hidden_size1 = 187\n",
    "hidden_size2 = 194\n",
    "hidden_size3 = 127\n",
    "hidden_size4 = 253\n",
    "output_size = 1\n",
    "batch_size = 1\n",
    "learning_rate = 0.001\n",
    "num_epochs = 30\n",
    "\n",
    "random.seed(2)\n",
    "np.random.seed(2)\n",
    "torch.manual_seed(2)\n",
    "torch.use_deterministic_algorithms(True)"
   ]
  },
  {
   "cell_type": "code",
   "execution_count": 47,
   "id": "0e5fd3f1",
   "metadata": {},
   "outputs": [],
   "source": [
    "# 3. Определение модели с ПРАВИЛЬНЫМИ размерностями\n",
    "class StarTemperaturePredictor(nn.Module):\n",
    "    def __init__(self, input_dim):\n",
    "        super(StarTemperaturePredictor, self).__init__()\n",
    "        self.fc1 = nn.Linear(input_dim, hidden_size1)  # Используем input_dim\n",
    "        self.relu = nn.ReLU()\n",
    "        self.fc2 = nn.Linear(hidden_size1, hidden_size2)\n",
    "        self.relu2 = nn.ReLU()\n",
    "        self.fc3 = nn.Linear(hidden_size2, hidden_size3)\n",
    "        self.relu3 = nn.ReLU()\n",
    "        self.fc4 = nn.Linear(hidden_size3, hidden_size4)\n",
    "        self.relu4 = nn.ReLU()\n",
    "        self.fc5 = nn.Linear(hidden_size4, output_size)\n",
    "        \n",
    "        \n",
    "    def forward(self, x):\n",
    "        x = self.fc1(x)\n",
    "        x = self.relu(x)\n",
    "        x = self.fc2(x)\n",
    "        x = self.relu(x)\n",
    "        x = self.fc3(x)\n",
    "        x = self.relu3(x)\n",
    "        x = self.fc4(x)\n",
    "        x = self.relu4(x)\n",
    "        x = self.fc5(x)\n",
    "        return x"
   ]
  },
  {
   "cell_type": "code",
   "execution_count": 48,
   "id": "3101e3b9",
   "metadata": {
    "scrolled": true
   },
   "outputs": [
    {
     "name": "stdout",
     "output_type": "stream",
     "text": [
      "\n",
      "Архитектура модели:\n",
      "StarTemperaturePredictor(\n",
      "  (fc1): Linear(in_features=16, out_features=187, bias=True)\n",
      "  (relu): ReLU()\n",
      "  (fc2): Linear(in_features=187, out_features=194, bias=True)\n",
      "  (relu2): ReLU()\n",
      "  (fc3): Linear(in_features=194, out_features=127, bias=True)\n",
      "  (relu3): ReLU()\n",
      "  (fc4): Linear(in_features=127, out_features=253, bias=True)\n",
      "  (relu4): ReLU()\n",
      "  (fc5): Linear(in_features=253, out_features=1, bias=True)\n",
      ")\n"
     ]
    }
   ],
   "source": [
    "model = StarTemperaturePredictor(input_size)\n",
    "#Проверяем архитектуру модели\n",
    "print(\"\\nАрхитектура модели:\")\n",
    "print(model)"
   ]
  },
  {
   "cell_type": "code",
   "execution_count": 49,
   "id": "db19a19e",
   "metadata": {
    "scrolled": false
   },
   "outputs": [
    {
     "name": "stdout",
     "output_type": "stream",
     "text": [
      "\n",
      "Начало обучения...\n",
      "Epoch   0 | Loss: 110747968.8563 | Test RMSE: 7706.96\n",
      "Epoch  10 | Loss: 20410446.2992 | Test RMSE: 4833.07\n",
      "Epoch  20 | Loss: 17417943.3602 | Test RMSE: 4246.79\n",
      "Epoch  29 | Loss: 16103403.5514 | Test RMSE: 3919.61\n"
     ]
    }
   ],
   "source": [
    "# 6. Обучение модели\n",
    "criterion = nn.MSELoss()\n",
    "optimizer = torch.optim.Adam(model.parameters(), lr=learning_rate)\n",
    "\n",
    "print(\"\\nНачало обучения...\")\n",
    "train_losses = []\n",
    "test_losses = []\n",
    "for epoch in range(num_epochs):\n",
    "    model.train()\n",
    "    total_loss = 0\n",
    "    \n",
    "    # Перемешиваем данные каждый эпох\n",
    "    permutation = torch.randperm(X_train.size(0))\n",
    "    \n",
    "    for i in range(0, X_train.size(0), batch_size):\n",
    "        # Получаем батч\n",
    "        indices = permutation[i:i+batch_size]\n",
    "        X_batch = X_train[indices]\n",
    "        y_batch = y_train[indices]\n",
    "        \n",
    "        # Обнуляем градиенты\n",
    "        optimizer.zero_grad()\n",
    "        \n",
    "        # Прямой проход\n",
    "        preds = model(X_batch)\n",
    "        \n",
    "        # Вычисление потерь\n",
    "        loss = criterion(preds, y_batch)\n",
    "        \n",
    "        # Обратный проход\n",
    "        loss.backward()\n",
    "        optimizer.step()\n",
    "        \n",
    "        total_loss += loss.item()\n",
    "        # Сохраняем train loss\n",
    "    avg_train_loss = total_loss / len(X_train)\n",
    "    train_losses.append(avg_train_loss)\n",
    "    \n",
    "    with torch.no_grad():\n",
    "        test_preds = model(X_test)\n",
    "        rmse = mean_squared_error(y_test, test_preds.numpy())**0.5\n",
    "        test_losses.append(rmse**2)\n",
    "    \n",
    "    # Валидация\n",
    "    if epoch % 10 == 0 or epoch == num_epochs - 1:\n",
    "        model.eval()\n",
    "        with torch.no_grad():\n",
    "            test_preds = model(X_test)\n",
    "            rmse = mean_squared_error(y_test, test_preds.numpy())**0.5\n",
    "            \n",
    "            print(f'Epoch {epoch:3d} | Loss: {total_loss/len(X_train):.4f} | Test RMSE: {rmse:.2f}')"
   ]
  },
  {
   "cell_type": "code",
   "execution_count": 50,
   "id": "5e635fea",
   "metadata": {
    "scrolled": false
   },
   "outputs": [
    {
     "data": {
      "image/png": "[encoded data removed]",
      "text/plain": [
       "<Figure size 720x432 with 1 Axes>"
      ]
     },
     "metadata": {
      "needs_background": "light"
     },
     "output_type": "display_data"
    }
   ],
   "source": [
    "train_losses_sqrt = [x**0.5 for x in train_losses]\n",
    "test_losses_sqrt = [x**0.5 for x in test_losses]\n",
    "# Построение графика\n",
    "plt.figure(figsize=(10, 6))\n",
    "plt.plot(train_losses_sqrt, label='Train Loss', color='blue')\n",
    "plt.plot(test_losses_sqrt, label='Test Loss', color='red')\n",
    "plt.xlabel('Epoch')\n",
    "plt.ylabel('Loss')\n",
    "plt.title('Train vs Test Loss')\n",
    "plt.legend()\n",
    "plt.grid(True)\n",
    "plt.show()"
   ]
  },
  {
   "cell_type": "markdown",
   "id": "f48234ee",
   "metadata": {},
   "source": [
    "Хорошее начальное обучение: и train, и test loss резко снижаются в первые эпохи\n",
    "\n",
    "Тестовая ошибка ниже тренировочной:\n",
    "Это может быть связано с небольшим размером тестовой выборки или с тем, что тестовые данные менее сложные.\n",
    "\n",
    "Отсутствие явного переобучения:\n",
    "Тестовая ошибка не начинает расти после достижения минимума, а скорее колеблется, что говорит о том, что модель не сильно переобучается."
   ]
  },
  {
   "cell_type": "code",
   "execution_count": 51,
   "id": "83142f3e",
   "metadata": {
    "scrolled": false
   },
   "outputs": [
    {
     "data": {
      "image/png": "[encoded data removed]",
      "text/plain": [
       "<Figure size 1080x576 with 1 Axes>"
      ]
     },
     "metadata": {
      "needs_background": "light"
     },
     "output_type": "display_data"
    }
   ],
   "source": [
    "comparation_bar(test_preds.data.flatten(),bar=test_num)"
   ]
  },
  {
   "cell_type": "markdown",
   "id": "881c8c85",
   "metadata": {},
   "source": [
    "Для большинства звезд предсказанные значения примерно соответствуют реальным.\n",
    "Ошибки возникают на звездах с высокой температурой(от 10к и выше)."
   ]
  },
  {
   "cell_type": "markdown",
   "id": "growing-supply",
   "metadata": {},
   "source": [
    "## Улучшение нейронной сети"
   ]
  },
  {
   "cell_type": "markdown",
   "id": "12f5b7b2",
   "metadata": {},
   "source": [
    "Так как размер батча равен единице, то поробую улучшить модель с помощью dropout"
   ]
  },
  {
   "cell_type": "code",
   "execution_count": 52,
   "id": "384407a6",
   "metadata": {},
   "outputs": [],
   "source": [
    "class StarTemperaturePredictorTuning(nn.Module):\n",
    "    def __init__(self, input_dim, dropout_prob=0.3):\n",
    "        super(StarTemperaturePredictorTuning, self).__init__()\n",
    "        self.fc1 = nn.Linear(input_dim, hidden_size1)\n",
    "        self.relu1 = nn.ReLU()\n",
    "        self.dropout1 = nn.Dropout(dropout_prob)\n",
    "        \n",
    "        self.fc2 = nn.Linear(hidden_size1, hidden_size2)\n",
    "        self.relu2 = nn.ReLU()\n",
    "        self.dropout2 = nn.Dropout(dropout_prob)\n",
    "        \n",
    "        self.fc3 = nn.Linear(hidden_size2, hidden_size3)\n",
    "        self.relu3 = nn.ReLU()\n",
    "        self.dropout3 = nn.Dropout(dropout_prob)\n",
    "        \n",
    "        self.fc4 = nn.Linear(hidden_size3, hidden_size4)\n",
    "        self.relu4 = nn.ReLU()\n",
    "        self.dropout4 = nn.Dropout(dropout_prob)\n",
    "        \n",
    "        self.fc5 = nn.Linear(hidden_size4, output_size)\n",
    "        \n",
    "    def forward(self, x):\n",
    "        x = self.fc1(x)\n",
    "        x = self.relu1(x)\n",
    "        x = self.dropout1(x)\n",
    "        \n",
    "        x = self.fc2(x)\n",
    "        x = self.relu2(x)\n",
    "        x = self.dropout2(x)\n",
    "        \n",
    "        x = self.fc3(x)\n",
    "        x = self.relu3(x)\n",
    "        x = self.dropout3(x)\n",
    "        \n",
    "        x = self.fc4(x)\n",
    "        x = self.relu4(x)\n",
    "        x = self.dropout4(x)\n",
    "        \n",
    "        x = self.fc5(x)\n",
    "        return x"
   ]
  },
  {
   "cell_type": "code",
   "execution_count": 53,
   "id": "c95101e1",
   "metadata": {},
   "outputs": [],
   "source": [
    "model_2 = StarTemperaturePredictorTuning(input_size, dropout_prob=0.1)"
   ]
  },
  {
   "cell_type": "code",
   "execution_count": 54,
   "id": "0cfe11ae",
   "metadata": {
    "scrolled": true
   },
   "outputs": [
    {
     "name": "stdout",
     "output_type": "stream",
     "text": [
      "\n",
      "Начало обучения...\n",
      "Epoch   0 | Loss: 119514069.3339 | Test RMSE: 8076.06\n",
      "Epoch  10 | Loss: 20679646.2142 | Test RMSE: 4414.94\n",
      "Epoch  20 | Loss: 18233047.9555 | Test RMSE: 4234.94\n",
      "Epoch  29 | Loss: 18330389.2040 | Test RMSE: 4660.49\n"
     ]
    }
   ],
   "source": [
    "# Обучение модели\n",
    "criterion = nn.MSELoss()\n",
    "optimizer_2 = torch.optim.Adam(model_2.parameters(), lr=learning_rate)\n",
    "\n",
    "print(\"\\nНачало обучения...\")\n",
    "train_losses = []\n",
    "test_losses = []\n",
    "for epoch in range(num_epochs):\n",
    "    model_2.train()\n",
    "    total_loss = 0\n",
    "    \n",
    "    # Перемешиваем данные каждый эпох\n",
    "    permutation = torch.randperm(X_train.size(0))\n",
    "    \n",
    "    for i in range(0, X_train.size(0), batch_size):\n",
    "        # Получаем батч\n",
    "        indices = permutation[i:i+batch_size]\n",
    "        X_batch = X_train[indices]\n",
    "        y_batch = y_train[indices]\n",
    "        \n",
    "        # Обнуляем градиенты\n",
    "        optimizer_2.zero_grad()\n",
    "        \n",
    "        # Прямой проход\n",
    "        preds = model_2(X_batch)\n",
    "        \n",
    "        # Вычисление потерь\n",
    "        loss = criterion(preds, y_batch)\n",
    "        \n",
    "        # Обратный проход\n",
    "        loss.backward()\n",
    "        optimizer_2.step()\n",
    "        \n",
    "        total_loss += loss.item()\n",
    "        \n",
    "    # Сохраняем train loss для графика\n",
    "    avg_train_loss = total_loss / len(X_train)\n",
    "    train_losses.append(avg_train_loss)\n",
    "    \n",
    "    # Сохраняем test loss для графика\n",
    "    with torch.no_grad():\n",
    "        test_preds = model_2(X_test)\n",
    "        rmse = mean_squared_error(y_test, test_preds.numpy())**0.5\n",
    "        test_losses.append(rmse**2)\n",
    "    \n",
    "    \n",
    "    # Валидация\n",
    "    if epoch % 10 == 0 or epoch == num_epochs - 1:\n",
    "        model_2.eval()\n",
    "        with torch.no_grad():\n",
    "            test_preds_2 = model_2(X_test)\n",
    "            rmse = mean_squared_error(y_test, test_preds_2.numpy())**0.5\n",
    "            print(f'Epoch {epoch:3d} | Loss: {total_loss/len(X_train):.4f} | Test RMSE: {rmse:.2f}')\n",
    "              "
   ]
  },
  {
   "cell_type": "code",
   "execution_count": 55,
   "id": "2b1c8544",
   "metadata": {
    "scrolled": false
   },
   "outputs": [
    {
     "data": {
      "image/png": "[encoded data removed]",
      "text/plain": [
       "<Figure size 720x432 with 1 Axes>"
      ]
     },
     "metadata": {
      "needs_background": "light"
     },
     "output_type": "display_data"
    }
   ],
   "source": [
    "train_losses_sqrt = [x**0.5 for x in train_losses]\n",
    "test_losses_sqrt = [x**0.5 for x in test_losses]\n",
    "# Построение графика\n",
    "plt.figure(figsize=(10, 6))\n",
    "plt.plot(train_losses_sqrt, label='Train Loss', color='blue')\n",
    "plt.plot(test_losses_sqrt, label='Test Loss', color='red')\n",
    "plt.xlabel('Epoch')\n",
    "plt.ylabel('Loss')\n",
    "plt.title('Train vs Test Loss')\n",
    "plt.legend()\n",
    "plt.grid(True)\n",
    "plt.show()"
   ]
  },
  {
   "cell_type": "markdown",
   "id": "cafcc2a3",
   "metadata": {},
   "source": [
    "По сравнению с прошлым графиком явно заметно, что на тесте результаты менее стабильные и разброс амплитуднее"
   ]
  },
  {
   "cell_type": "code",
   "execution_count": 56,
   "id": "74155eb6",
   "metadata": {
    "scrolled": false
   },
   "outputs": [
    {
     "data": {
      "image/png": "[encoded data removed]",
      "text/plain": [
       "<Figure size 1080x576 with 1 Axes>"
      ]
     },
     "metadata": {
      "needs_background": "light"
     },
     "output_type": "display_data"
    }
   ],
   "source": [
    "comparation_bar(test_preds_2.data.flatten(),bar=test_num)"
   ]
  },
  {
   "cell_type": "markdown",
   "id": "414b8b9c",
   "metadata": {},
   "source": [
    "Аналогичная ситуация. Ошибки возникают на звездах с высокой температурой. На звездах с низкой темпераурой ошибки очень маленькие"
   ]
  },
  {
   "cell_type": "markdown",
   "id": "accurate-infrastructure",
   "metadata": {},
   "source": [
    "## Выводы"
   ]
  },
  {
   "cell_type": "markdown",
   "id": "2e52d13b",
   "metadata": {},
   "source": [
    "<div  style=\"border-radius: 10px; box-shadow: 2px 2px 2px; border: 1px solid; padding: 10px \">\n",
    "\n",
    "  \n",
    "1. **Был проведен анализ и подготовка данных**:\n",
    "   - выборка очень маленькая \n",
    "   - данные имеют выбросы\n",
    "   - пропуски отстуствуют\n",
    "   - устранены неявные дубликаты, и укрупнен признак цвета звезды\n",
    "   \n",
    "\n",
    "2. **Построена базовой модель нейронной сети**\n",
    "   - Нейросеть имеет 4 скрытых слоя\n",
    "   - Размер батча равен 1, 30 эпох\n",
    "   - Метрики на тесте составили **RMSE: 3919**\n",
    "   \n",
    "\n",
    "3. **Оптимизация модели**   \n",
    "   - Выставлена регуляризацией (Dropout = 0.1)  \n",
    "   - Метрики на тесте составили **RMSE: 4660**  \n",
    "   - График на train/test loss стал более амлитудный  \n",
    "   \n",
    "\n",
    "4. **Итог**   \n",
    "Лучшей моделью стала базовая. Данная модель выполнила задание и показала RMSE меньше 4500.     \n",
    "По графику сравнений предсказаний можно сделать вывод, что модель ошибается на выбросах, где значения температуры очень высокие. Улучшить модель можно, увеличив размерность датасета    \n",
    "\n",
    "   \n"
   ]
  },
  {
   "cell_type": "code",
   "execution_count": null,
   "id": "c520e218",
   "metadata": {},
   "outputs": [],
   "source": []
  }
 ],
 "metadata": {
  "ExecuteTimeLog": [
   {
    "duration": 2435,
    "start_time": "2025-06-01T12:43:31.358Z"
   },
   {
    "duration": 2490,
    "start_time": "2025-06-01T12:43:41.248Z"
   },
   {
    "duration": 1222,
    "start_time": "2025-06-01T12:43:53.967Z"
   },
   {
    "duration": 6,
    "start_time": "2025-06-01T12:44:11.827Z"
   },
   {
    "duration": 22703,
    "start_time": "2025-06-02T14:46:08.534Z"
   },
   {
    "duration": 2861,
    "start_time": "2025-06-02T14:46:31.240Z"
   },
   {
    "duration": 3564,
    "start_time": "2025-06-02T14:46:34.103Z"
   },
   {
    "duration": 2158,
    "start_time": "2025-06-02T14:48:00.674Z"
   },
   {
    "duration": 1916,
    "start_time": "2025-06-02T14:48:37.014Z"
   },
   {
    "duration": 5,
    "start_time": "2025-06-02T14:52:55.903Z"
   },
   {
    "duration": 3,
    "start_time": "2025-06-02T14:53:11.034Z"
   },
   {
    "duration": 7,
    "start_time": "2025-06-02T14:53:39.374Z"
   },
   {
    "duration": 4,
    "start_time": "2025-06-02T14:54:09.744Z"
   },
   {
    "duration": 6,
    "start_time": "2025-06-02T14:54:20.413Z"
   },
   {
    "duration": 203,
    "start_time": "2025-06-02T14:58:55.382Z"
   },
   {
    "duration": 19,
    "start_time": "2025-06-02T14:59:56.022Z"
   },
   {
    "duration": 65,
    "start_time": "2025-06-02T15:00:11.452Z"
   },
   {
    "duration": 17,
    "start_time": "2025-06-02T15:00:18.482Z"
   },
   {
    "duration": 48,
    "start_time": "2025-06-02T15:00:42.772Z"
   },
   {
    "duration": 28,
    "start_time": "2025-06-02T15:00:50.692Z"
   },
   {
    "duration": 45,
    "start_time": "2025-06-02T15:00:52.152Z"
   },
   {
    "duration": 4,
    "start_time": "2025-06-02T15:16:17.968Z"
   },
   {
    "duration": 4,
    "start_time": "2025-06-02T15:16:28.858Z"
   },
   {
    "duration": 11,
    "start_time": "2025-06-02T15:18:33.897Z"
   },
   {
    "duration": 12,
    "start_time": "2025-06-02T15:18:47.627Z"
   },
   {
    "duration": 15,
    "start_time": "2025-06-02T15:20:05.627Z"
   },
   {
    "duration": 3,
    "start_time": "2025-06-02T15:20:17.147Z"
   },
   {
    "duration": 4,
    "start_time": "2025-06-02T15:20:21.107Z"
   },
   {
    "duration": 2,
    "start_time": "2025-06-02T15:20:29.537Z"
   },
   {
    "duration": 17,
    "start_time": "2025-06-02T15:21:16.527Z"
   },
   {
    "duration": 3,
    "start_time": "2025-06-02T15:22:25.667Z"
   },
   {
    "duration": 9,
    "start_time": "2025-06-02T15:22:55.997Z"
   },
   {
    "duration": 7,
    "start_time": "2025-06-02T15:24:12.026Z"
   },
   {
    "duration": 5,
    "start_time": "2025-06-02T15:28:27.344Z"
   },
   {
    "duration": 8,
    "start_time": "2025-06-02T15:28:33.605Z"
   },
   {
    "duration": 6,
    "start_time": "2025-06-02T15:30:12.385Z"
   },
   {
    "duration": 6,
    "start_time": "2025-06-02T15:30:18.854Z"
   },
   {
    "duration": 5,
    "start_time": "2025-06-02T15:31:13.774Z"
   },
   {
    "duration": 7,
    "start_time": "2025-06-02T15:31:15.085Z"
   },
   {
    "duration": 23,
    "start_time": "2025-06-02T16:16:33.233Z"
   },
   {
    "duration": 4,
    "start_time": "2025-06-02T16:17:13.693Z"
   },
   {
    "duration": 700,
    "start_time": "2025-06-02T16:17:57.546Z"
   },
   {
    "duration": 548,
    "start_time": "2025-06-02T16:18:17.703Z"
   },
   {
    "duration": 523,
    "start_time": "2025-06-02T16:18:24.822Z"
   },
   {
    "duration": 528,
    "start_time": "2025-06-02T16:18:57.483Z"
   },
   {
    "duration": 523,
    "start_time": "2025-06-02T16:19:07.973Z"
   },
   {
    "duration": 485,
    "start_time": "2025-06-02T16:19:38.132Z"
   },
   {
    "duration": 598,
    "start_time": "2025-06-02T16:20:16.442Z"
   },
   {
    "duration": 608,
    "start_time": "2025-06-02T16:20:34.172Z"
   },
   {
    "duration": 570,
    "start_time": "2025-06-02T16:20:45.563Z"
   },
   {
    "duration": 713,
    "start_time": "2025-06-02T16:21:38.332Z"
   },
   {
    "duration": 158,
    "start_time": "2025-06-02T16:25:19.091Z"
   },
   {
    "duration": 21,
    "start_time": "2025-06-02T16:26:41.662Z"
   },
   {
    "duration": 152,
    "start_time": "2025-06-02T16:27:02.001Z"
   },
   {
    "duration": 12,
    "start_time": "2025-06-02T16:41:50.267Z"
   },
   {
    "duration": 2288,
    "start_time": "2025-06-02T16:41:56.187Z"
   },
   {
    "duration": 4,
    "start_time": "2025-06-02T16:44:54.647Z"
   },
   {
    "duration": 119,
    "start_time": "2025-06-02T16:45:29.416Z"
   },
   {
    "duration": 4,
    "start_time": "2025-06-02T16:47:29.976Z"
   },
   {
    "duration": 1919,
    "start_time": "2025-06-02T16:47:31.216Z"
   },
   {
    "duration": 4,
    "start_time": "2025-06-02T16:49:33.066Z"
   },
   {
    "duration": 1316,
    "start_time": "2025-06-02T16:49:34.135Z"
   },
   {
    "duration": 6,
    "start_time": "2025-06-02T16:50:26.526Z"
   },
   {
    "duration": 1965,
    "start_time": "2025-06-02T16:50:27.355Z"
   },
   {
    "duration": 4,
    "start_time": "2025-06-02T16:50:40.735Z"
   },
   {
    "duration": 2156,
    "start_time": "2025-06-02T16:50:41.505Z"
   },
   {
    "duration": 5,
    "start_time": "2025-06-02T16:52:15.815Z"
   },
   {
    "duration": 11,
    "start_time": "2025-06-02T16:52:18.705Z"
   },
   {
    "duration": 865,
    "start_time": "2025-06-02T16:52:22.484Z"
   },
   {
    "duration": 5,
    "start_time": "2025-06-02T16:52:55.195Z"
   },
   {
    "duration": 19,
    "start_time": "2025-06-02T16:52:56.015Z"
   },
   {
    "duration": 4,
    "start_time": "2025-06-02T16:53:21.085Z"
   },
   {
    "duration": 21,
    "start_time": "2025-06-02T16:53:21.825Z"
   },
   {
    "duration": 4,
    "start_time": "2025-06-02T16:53:30.855Z"
   },
   {
    "duration": 758,
    "start_time": "2025-06-02T16:53:32.965Z"
   },
   {
    "duration": 4,
    "start_time": "2025-06-02T16:54:25.765Z"
   },
   {
    "duration": 4,
    "start_time": "2025-06-02T16:54:29.545Z"
   },
   {
    "duration": 972,
    "start_time": "2025-06-02T16:54:30.225Z"
   },
   {
    "duration": 4,
    "start_time": "2025-06-02T16:55:53.085Z"
   },
   {
    "duration": 980,
    "start_time": "2025-06-02T16:56:02.025Z"
   },
   {
    "duration": 5,
    "start_time": "2025-06-02T16:56:29.444Z"
   },
   {
    "duration": 979,
    "start_time": "2025-06-02T16:56:35.505Z"
   },
   {
    "duration": 1136,
    "start_time": "2025-06-02T16:58:45.314Z"
   },
   {
    "duration": 23777,
    "start_time": "2025-06-03T15:18:05.416Z"
   },
   {
    "duration": 3084,
    "start_time": "2025-06-03T15:18:29.195Z"
   },
   {
    "duration": 3775,
    "start_time": "2025-06-03T15:18:32.281Z"
   },
   {
    "duration": 2329,
    "start_time": "2025-06-03T15:18:36.058Z"
   },
   {
    "duration": 0,
    "start_time": "2025-06-03T15:18:38.390Z"
   },
   {
    "duration": 0,
    "start_time": "2025-06-03T15:18:38.392Z"
   },
   {
    "duration": 0,
    "start_time": "2025-06-03T15:18:38.393Z"
   },
   {
    "duration": 0,
    "start_time": "2025-06-03T15:18:38.394Z"
   },
   {
    "duration": 0,
    "start_time": "2025-06-03T15:18:38.396Z"
   },
   {
    "duration": 0,
    "start_time": "2025-06-03T15:18:38.397Z"
   },
   {
    "duration": 0,
    "start_time": "2025-06-03T15:18:38.399Z"
   },
   {
    "duration": 1,
    "start_time": "2025-06-03T15:18:38.400Z"
   },
   {
    "duration": 0,
    "start_time": "2025-06-03T15:18:38.402Z"
   },
   {
    "duration": 0,
    "start_time": "2025-06-03T15:18:38.403Z"
   },
   {
    "duration": 0,
    "start_time": "2025-06-03T15:18:38.405Z"
   },
   {
    "duration": 0,
    "start_time": "2025-06-03T15:18:38.406Z"
   },
   {
    "duration": 0,
    "start_time": "2025-06-03T15:18:38.408Z"
   },
   {
    "duration": 0,
    "start_time": "2025-06-03T15:18:38.409Z"
   },
   {
    "duration": 0,
    "start_time": "2025-06-03T15:18:38.440Z"
   },
   {
    "duration": 0,
    "start_time": "2025-06-03T15:18:38.442Z"
   },
   {
    "duration": 0,
    "start_time": "2025-06-03T15:18:38.443Z"
   },
   {
    "duration": 0,
    "start_time": "2025-06-03T15:18:38.444Z"
   },
   {
    "duration": 0,
    "start_time": "2025-06-03T15:18:38.446Z"
   },
   {
    "duration": 0,
    "start_time": "2025-06-03T15:18:38.447Z"
   },
   {
    "duration": 0,
    "start_time": "2025-06-03T15:18:38.449Z"
   },
   {
    "duration": 0,
    "start_time": "2025-06-03T15:18:38.450Z"
   },
   {
    "duration": 0,
    "start_time": "2025-06-03T15:18:38.452Z"
   },
   {
    "duration": 0,
    "start_time": "2025-06-03T15:18:38.453Z"
   },
   {
    "duration": 0,
    "start_time": "2025-06-03T15:18:38.454Z"
   },
   {
    "duration": 0,
    "start_time": "2025-06-03T15:18:38.455Z"
   },
   {
    "duration": 0,
    "start_time": "2025-06-03T15:18:38.457Z"
   },
   {
    "duration": 0,
    "start_time": "2025-06-03T15:18:38.458Z"
   },
   {
    "duration": 0,
    "start_time": "2025-06-03T15:18:38.460Z"
   },
   {
    "duration": 0,
    "start_time": "2025-06-03T15:18:38.461Z"
   },
   {
    "duration": 0,
    "start_time": "2025-06-03T15:18:38.463Z"
   },
   {
    "duration": 0,
    "start_time": "2025-06-03T15:18:38.464Z"
   },
   {
    "duration": 1186,
    "start_time": "2025-06-03T15:20:46.265Z"
   },
   {
    "duration": 5,
    "start_time": "2025-06-03T15:20:47.453Z"
   },
   {
    "duration": 25,
    "start_time": "2025-06-03T15:20:47.459Z"
   },
   {
    "duration": 9,
    "start_time": "2025-06-03T15:20:47.486Z"
   },
   {
    "duration": 9,
    "start_time": "2025-06-03T15:20:49.055Z"
   },
   {
    "duration": 4,
    "start_time": "2025-06-03T15:20:49.225Z"
   },
   {
    "duration": 4,
    "start_time": "2025-06-03T15:20:49.395Z"
   },
   {
    "duration": 4,
    "start_time": "2025-06-03T15:20:49.555Z"
   },
   {
    "duration": 107,
    "start_time": "2025-06-03T15:20:49.875Z"
   },
   {
    "duration": 9,
    "start_time": "2025-06-03T15:20:50.035Z"
   },
   {
    "duration": 8,
    "start_time": "2025-06-03T15:20:50.536Z"
   },
   {
    "duration": 955,
    "start_time": "2025-06-03T15:21:05.185Z"
   },
   {
    "duration": 3,
    "start_time": "2025-06-03T15:21:07.065Z"
   },
   {
    "duration": 4,
    "start_time": "2025-06-03T15:21:07.245Z"
   },
   {
    "duration": 4,
    "start_time": "2025-06-03T15:21:07.586Z"
   },
   {
    "duration": 4,
    "start_time": "2025-06-03T15:21:07.755Z"
   },
   {
    "duration": 8,
    "start_time": "2025-06-03T15:21:07.905Z"
   },
   {
    "duration": 4,
    "start_time": "2025-06-03T15:21:08.085Z"
   },
   {
    "duration": 5,
    "start_time": "2025-06-03T15:21:08.245Z"
   },
   {
    "duration": 4,
    "start_time": "2025-06-03T15:21:08.425Z"
   },
   {
    "duration": 30,
    "start_time": "2025-06-03T15:21:08.765Z"
   },
   {
    "duration": 51,
    "start_time": "2025-06-03T15:21:08.955Z"
   },
   {
    "duration": 4,
    "start_time": "2025-06-03T15:21:09.475Z"
   },
   {
    "duration": 4,
    "start_time": "2025-06-03T15:21:09.655Z"
   },
   {
    "duration": 4,
    "start_time": "2025-06-03T15:21:09.835Z"
   },
   {
    "duration": 7,
    "start_time": "2025-06-03T15:21:10.195Z"
   },
   {
    "duration": 5,
    "start_time": "2025-06-03T15:21:10.555Z"
   },
   {
    "duration": 4,
    "start_time": "2025-06-03T15:21:10.736Z"
   },
   {
    "duration": 7,
    "start_time": "2025-06-03T15:21:10.915Z"
   },
   {
    "duration": 6,
    "start_time": "2025-06-03T15:21:11.255Z"
   },
   {
    "duration": 638,
    "start_time": "2025-06-03T15:21:11.615Z"
   },
   {
    "duration": 587,
    "start_time": "2025-06-03T15:21:12.255Z"
   },
   {
    "duration": 596,
    "start_time": "2025-06-03T15:21:12.843Z"
   },
   {
    "duration": 583,
    "start_time": "2025-06-03T15:21:13.441Z"
   },
   {
    "duration": 279,
    "start_time": "2025-06-03T15:21:14.026Z"
   },
   {
    "duration": 138,
    "start_time": "2025-06-03T15:21:14.307Z"
   },
   {
    "duration": 1014,
    "start_time": "2025-06-03T15:21:14.446Z"
   },
   {
    "duration": 4,
    "start_time": "2025-06-03T15:21:15.461Z"
   },
   {
    "duration": 897,
    "start_time": "2025-06-03T15:21:15.467Z"
   },
   {
    "duration": 3,
    "start_time": "2025-06-03T15:21:16.367Z"
   },
   {
    "duration": 136,
    "start_time": "2025-06-03T15:21:16.372Z"
   },
   {
    "duration": 0,
    "start_time": "2025-06-03T15:21:16.509Z"
   },
   {
    "duration": 0,
    "start_time": "2025-06-03T15:21:16.510Z"
   },
   {
    "duration": 0,
    "start_time": "2025-06-03T15:21:16.512Z"
   },
   {
    "duration": 15,
    "start_time": "2025-06-03T15:22:30.765Z"
   },
   {
    "duration": 21,
    "start_time": "2025-06-03T15:22:50.105Z"
   },
   {
    "duration": 13,
    "start_time": "2025-06-03T15:24:11.715Z"
   },
   {
    "duration": 4,
    "start_time": "2025-06-03T15:25:05.915Z"
   },
   {
    "duration": 11,
    "start_time": "2025-06-03T15:25:12.565Z"
   },
   {
    "duration": 5,
    "start_time": "2025-06-03T15:25:22.924Z"
   },
   {
    "duration": 16,
    "start_time": "2025-06-03T15:26:13.614Z"
   },
   {
    "duration": 4,
    "start_time": "2025-06-03T15:26:37.075Z"
   },
   {
    "duration": 7,
    "start_time": "2025-06-03T15:26:40.933Z"
   },
   {
    "duration": 6,
    "start_time": "2025-06-03T15:27:45.074Z"
   },
   {
    "duration": 3,
    "start_time": "2025-06-03T15:27:52.264Z"
   },
   {
    "duration": 5,
    "start_time": "2025-06-03T15:27:57.585Z"
   },
   {
    "duration": 13,
    "start_time": "2025-06-03T15:28:25.123Z"
   },
   {
    "duration": 45,
    "start_time": "2025-06-03T15:29:14.124Z"
   },
   {
    "duration": 18,
    "start_time": "2025-06-03T15:29:17.124Z"
   },
   {
    "duration": 6929,
    "start_time": "2025-06-03T15:29:34.803Z"
   },
   {
    "duration": 21,
    "start_time": "2025-06-03T15:29:45.393Z"
   },
   {
    "duration": 14,
    "start_time": "2025-06-03T15:30:19.943Z"
   },
   {
    "duration": 3130,
    "start_time": "2025-06-03T15:30:24.923Z"
   },
   {
    "duration": 49,
    "start_time": "2025-06-03T15:30:34.273Z"
   },
   {
    "duration": 2547,
    "start_time": "2025-06-03T15:30:42.903Z"
   },
   {
    "duration": 3053,
    "start_time": "2025-06-03T15:30:45.453Z"
   },
   {
    "duration": 2564,
    "start_time": "2025-06-03T15:30:48.508Z"
   },
   {
    "duration": 2149,
    "start_time": "2025-06-03T15:30:51.075Z"
   },
   {
    "duration": 3,
    "start_time": "2025-06-03T15:30:53.226Z"
   },
   {
    "duration": 80,
    "start_time": "2025-06-03T15:30:53.231Z"
   },
   {
    "duration": 48,
    "start_time": "2025-06-03T15:30:53.312Z"
   },
   {
    "duration": 18,
    "start_time": "2025-06-03T15:30:53.362Z"
   },
   {
    "duration": 8,
    "start_time": "2025-06-03T15:30:53.382Z"
   },
   {
    "duration": 24,
    "start_time": "2025-06-03T15:30:53.394Z"
   },
   {
    "duration": 9,
    "start_time": "2025-06-03T15:30:53.420Z"
   },
   {
    "duration": 17,
    "start_time": "2025-06-03T15:30:53.430Z"
   },
   {
    "duration": 33,
    "start_time": "2025-06-03T15:30:53.449Z"
   },
   {
    "duration": 56,
    "start_time": "2025-06-03T15:30:53.485Z"
   },
   {
    "duration": 5,
    "start_time": "2025-06-03T15:30:53.542Z"
   },
   {
    "duration": 10,
    "start_time": "2025-06-03T15:30:53.548Z"
   },
   {
    "duration": 12,
    "start_time": "2025-06-03T15:30:53.560Z"
   },
   {
    "duration": 11,
    "start_time": "2025-06-03T15:30:53.573Z"
   },
   {
    "duration": 16,
    "start_time": "2025-06-03T15:30:53.586Z"
   },
   {
    "duration": 117,
    "start_time": "2025-06-03T15:30:53.604Z"
   },
   {
    "duration": 12,
    "start_time": "2025-06-03T15:30:53.723Z"
   },
   {
    "duration": 25,
    "start_time": "2025-06-03T15:30:53.737Z"
   },
   {
    "duration": 614,
    "start_time": "2025-06-03T15:30:53.763Z"
   },
   {
    "duration": 566,
    "start_time": "2025-06-03T15:30:54.379Z"
   },
   {
    "duration": 711,
    "start_time": "2025-06-03T15:30:54.947Z"
   },
   {
    "duration": 591,
    "start_time": "2025-06-03T15:30:55.660Z"
   },
   {
    "duration": 171,
    "start_time": "2025-06-03T15:30:56.253Z"
   },
   {
    "duration": 149,
    "start_time": "2025-06-03T15:30:56.427Z"
   },
   {
    "duration": 1059,
    "start_time": "2025-06-03T15:30:56.577Z"
   },
   {
    "duration": 4,
    "start_time": "2025-06-03T15:30:57.638Z"
   },
   {
    "duration": 1236,
    "start_time": "2025-06-03T15:30:57.644Z"
   },
   {
    "duration": 67,
    "start_time": "2025-06-03T15:30:58.882Z"
   },
   {
    "duration": 39,
    "start_time": "2025-06-03T15:30:58.950Z"
   },
   {
    "duration": 51,
    "start_time": "2025-06-03T15:30:58.991Z"
   },
   {
    "duration": 23,
    "start_time": "2025-06-03T15:30:59.044Z"
   },
   {
    "duration": 18,
    "start_time": "2025-06-03T15:30:59.069Z"
   },
   {
    "duration": 3,
    "start_time": "2025-06-03T15:31:51.633Z"
   },
   {
    "duration": 28,
    "start_time": "2025-06-03T15:33:46.901Z"
   },
   {
    "duration": 26,
    "start_time": "2025-06-03T15:35:00.092Z"
   },
   {
    "duration": 4,
    "start_time": "2025-06-03T15:35:54.182Z"
   },
   {
    "duration": 4,
    "start_time": "2025-06-03T15:36:06.841Z"
   },
   {
    "duration": 27,
    "start_time": "2025-06-03T15:37:18.221Z"
   },
   {
    "duration": 6,
    "start_time": "2025-06-03T15:37:26.112Z"
   },
   {
    "duration": 4,
    "start_time": "2025-06-03T15:37:26.941Z"
   },
   {
    "duration": 4,
    "start_time": "2025-06-03T15:39:03.361Z"
   },
   {
    "duration": 3,
    "start_time": "2025-06-03T15:42:15.661Z"
   },
   {
    "duration": 4,
    "start_time": "2025-06-03T15:43:01.400Z"
   },
   {
    "duration": 4,
    "start_time": "2025-06-03T15:43:17.071Z"
   },
   {
    "duration": 5,
    "start_time": "2025-06-03T15:45:50.370Z"
   },
   {
    "duration": 121,
    "start_time": "2025-06-03T15:46:47.320Z"
   },
   {
    "duration": 12,
    "start_time": "2025-06-03T15:47:02.500Z"
   },
   {
    "duration": 4,
    "start_time": "2025-06-03T15:47:26.109Z"
   },
   {
    "duration": 3,
    "start_time": "2025-06-03T15:47:35.100Z"
   },
   {
    "duration": 4,
    "start_time": "2025-06-03T15:48:35.940Z"
   },
   {
    "duration": 13,
    "start_time": "2025-06-03T15:50:24.130Z"
   },
   {
    "duration": 4,
    "start_time": "2025-06-03T15:50:41.520Z"
   },
   {
    "duration": 15,
    "start_time": "2025-06-03T15:50:43.940Z"
   },
   {
    "duration": 15,
    "start_time": "2025-06-03T15:50:57.650Z"
   },
   {
    "duration": 16,
    "start_time": "2025-06-03T15:51:41.609Z"
   },
   {
    "duration": 14,
    "start_time": "2025-06-03T15:56:07.869Z"
   },
   {
    "duration": 14,
    "start_time": "2025-06-03T15:56:52.169Z"
   },
   {
    "duration": 13,
    "start_time": "2025-06-03T15:57:02.729Z"
   },
   {
    "duration": 34,
    "start_time": "2025-06-03T15:57:18.299Z"
   },
   {
    "duration": 5,
    "start_time": "2025-06-03T15:59:18.652Z"
   },
   {
    "duration": 5,
    "start_time": "2025-06-03T15:59:21.669Z"
   },
   {
    "duration": 3,
    "start_time": "2025-06-03T15:59:22.859Z"
   },
   {
    "duration": 3,
    "start_time": "2025-06-03T15:59:23.489Z"
   },
   {
    "duration": 25,
    "start_time": "2025-06-03T15:59:24.089Z"
   },
   {
    "duration": 4,
    "start_time": "2025-06-03T15:59:24.679Z"
   },
   {
    "duration": 4,
    "start_time": "2025-06-03T15:59:25.319Z"
   },
   {
    "duration": 4,
    "start_time": "2025-06-03T15:59:26.329Z"
   },
   {
    "duration": 15,
    "start_time": "2025-06-03T15:59:54.678Z"
   },
   {
    "duration": 5,
    "start_time": "2025-06-03T16:00:15.039Z"
   },
   {
    "duration": 5,
    "start_time": "2025-06-03T16:00:20.818Z"
   },
   {
    "duration": 4,
    "start_time": "2025-06-03T16:05:22.497Z"
   },
   {
    "duration": 31,
    "start_time": "2025-06-03T16:11:34.766Z"
   },
   {
    "duration": 31,
    "start_time": "2025-06-03T16:13:03.316Z"
   },
   {
    "duration": 19,
    "start_time": "2025-06-03T16:14:22.016Z"
   },
   {
    "duration": 37,
    "start_time": "2025-06-03T16:16:10.767Z"
   },
   {
    "duration": 5,
    "start_time": "2025-06-03T16:17:39.995Z"
   },
   {
    "duration": 5,
    "start_time": "2025-06-03T16:18:07.975Z"
   },
   {
    "duration": 4,
    "start_time": "2025-06-03T16:18:33.216Z"
   },
   {
    "duration": 3,
    "start_time": "2025-06-03T16:18:36.166Z"
   },
   {
    "duration": 50,
    "start_time": "2025-06-03T16:18:37.405Z"
   },
   {
    "duration": 43,
    "start_time": "2025-06-03T16:18:39.556Z"
   },
   {
    "duration": 3,
    "start_time": "2025-06-03T16:19:09.486Z"
   },
   {
    "duration": 6,
    "start_time": "2025-06-03T16:19:23.716Z"
   },
   {
    "duration": 5,
    "start_time": "2025-06-03T16:19:30.086Z"
   },
   {
    "duration": 14,
    "start_time": "2025-06-03T16:20:04.925Z"
   },
   {
    "duration": 3,
    "start_time": "2025-06-03T16:20:17.955Z"
   },
   {
    "duration": 22,
    "start_time": "2025-06-03T16:20:30.625Z"
   },
   {
    "duration": 21,
    "start_time": "2025-06-03T16:20:41.334Z"
   },
   {
    "duration": 5,
    "start_time": "2025-06-03T16:20:58.246Z"
   },
   {
    "duration": 25,
    "start_time": "2025-06-03T16:21:04.025Z"
   },
   {
    "duration": 486,
    "start_time": "2025-06-03T16:21:34.395Z"
   },
   {
    "duration": 520,
    "start_time": "2025-06-03T16:21:43.026Z"
   },
   {
    "duration": 536,
    "start_time": "2025-06-03T16:21:51.685Z"
   },
   {
    "duration": 528,
    "start_time": "2025-06-03T16:21:55.875Z"
   },
   {
    "duration": 549,
    "start_time": "2025-06-03T16:21:59.746Z"
   },
   {
    "duration": 534,
    "start_time": "2025-06-03T16:22:01.866Z"
   },
   {
    "duration": 645,
    "start_time": "2025-06-03T16:22:03.275Z"
   },
   {
    "duration": 559,
    "start_time": "2025-06-03T16:22:05.175Z"
   },
   {
    "duration": 5,
    "start_time": "2025-06-03T16:22:25.785Z"
   },
   {
    "duration": 5,
    "start_time": "2025-06-03T16:22:40.304Z"
   },
   {
    "duration": 561,
    "start_time": "2025-06-03T16:22:43.995Z"
   },
   {
    "duration": 5,
    "start_time": "2025-06-03T16:22:58.215Z"
   },
   {
    "duration": 961,
    "start_time": "2025-06-03T16:23:01.395Z"
   },
   {
    "duration": 5,
    "start_time": "2025-06-03T16:23:08.414Z"
   },
   {
    "duration": 10626,
    "start_time": "2025-06-03T16:23:10.625Z"
   },
   {
    "duration": 5,
    "start_time": "2025-06-03T16:23:32.095Z"
   },
   {
    "duration": 975,
    "start_time": "2025-06-03T16:23:34.375Z"
   },
   {
    "duration": 4,
    "start_time": "2025-06-03T16:23:50.535Z"
   },
   {
    "duration": 897,
    "start_time": "2025-06-03T16:23:52.255Z"
   },
   {
    "duration": 764,
    "start_time": "2025-06-03T16:23:55.395Z"
   },
   {
    "duration": 4,
    "start_time": "2025-06-03T16:25:31.785Z"
   },
   {
    "duration": 984,
    "start_time": "2025-06-03T16:25:34.555Z"
   },
   {
    "duration": 5,
    "start_time": "2025-06-03T16:25:53.494Z"
   },
   {
    "duration": 5,
    "start_time": "2025-06-03T16:25:55.534Z"
   },
   {
    "duration": 3,
    "start_time": "2025-06-03T16:25:56.680Z"
   },
   {
    "duration": 920,
    "start_time": "2025-06-03T16:25:57.727Z"
   },
   {
    "duration": 5,
    "start_time": "2025-06-03T16:28:34.394Z"
   },
   {
    "duration": 859,
    "start_time": "2025-06-03T16:28:37.204Z"
   },
   {
    "duration": 5,
    "start_time": "2025-06-03T17:17:34.809Z"
   },
   {
    "duration": 833,
    "start_time": "2025-06-03T17:17:37.519Z"
   },
   {
    "duration": 4,
    "start_time": "2025-06-03T17:17:45.520Z"
   },
   {
    "duration": 5,
    "start_time": "2025-06-03T17:17:46.339Z"
   },
   {
    "duration": 3,
    "start_time": "2025-06-03T17:17:46.910Z"
   },
   {
    "duration": 990,
    "start_time": "2025-06-03T17:17:47.459Z"
   },
   {
    "duration": 5,
    "start_time": "2025-06-03T17:18:49.849Z"
   },
   {
    "duration": 859,
    "start_time": "2025-06-03T17:18:51.889Z"
   },
   {
    "duration": 5,
    "start_time": "2025-06-03T17:19:03.208Z"
   },
   {
    "duration": 4,
    "start_time": "2025-06-03T17:19:10.389Z"
   },
   {
    "duration": 5,
    "start_time": "2025-06-03T17:19:11.008Z"
   },
   {
    "duration": 3,
    "start_time": "2025-06-03T17:19:11.649Z"
   },
   {
    "duration": 1374,
    "start_time": "2025-06-03T17:19:12.299Z"
   },
   {
    "duration": 4,
    "start_time": "2025-06-03T17:19:24.509Z"
   },
   {
    "duration": 5,
    "start_time": "2025-06-03T17:19:25.119Z"
   },
   {
    "duration": 4,
    "start_time": "2025-06-03T17:19:25.688Z"
   },
   {
    "duration": 1420,
    "start_time": "2025-06-03T17:19:26.619Z"
   },
   {
    "duration": 4,
    "start_time": "2025-06-03T17:19:45.488Z"
   },
   {
    "duration": 4,
    "start_time": "2025-06-03T17:19:46.189Z"
   },
   {
    "duration": 3,
    "start_time": "2025-06-03T17:19:46.888Z"
   },
   {
    "duration": 1338,
    "start_time": "2025-06-03T17:19:47.628Z"
   },
   {
    "duration": 5,
    "start_time": "2025-06-03T17:24:12.357Z"
   },
   {
    "duration": 5,
    "start_time": "2025-06-03T17:24:13.098Z"
   },
   {
    "duration": 3,
    "start_time": "2025-06-03T17:24:13.678Z"
   },
   {
    "duration": 588,
    "start_time": "2025-06-03T17:24:14.458Z"
   },
   {
    "duration": 4,
    "start_time": "2025-06-03T17:24:55.638Z"
   },
   {
    "duration": 5,
    "start_time": "2025-06-03T17:24:56.297Z"
   },
   {
    "duration": 3,
    "start_time": "2025-06-03T17:24:56.867Z"
   },
   {
    "duration": 13833,
    "start_time": "2025-06-03T17:24:57.478Z"
   },
   {
    "duration": 23997,
    "start_time": "2025-06-05T14:37:53.451Z"
   },
   {
    "duration": 7681,
    "start_time": "2025-06-05T14:38:17.450Z"
   },
   {
    "duration": 6846,
    "start_time": "2025-06-05T14:38:25.133Z"
   },
   {
    "duration": 922,
    "start_time": "2025-06-05T14:38:31.981Z"
   },
   {
    "duration": 0,
    "start_time": "2025-06-05T14:38:32.904Z"
   },
   {
    "duration": 3933,
    "start_time": "2025-06-05T14:38:48.894Z"
   },
   {
    "duration": 2341,
    "start_time": "2025-06-05T14:38:52.830Z"
   },
   {
    "duration": 3,
    "start_time": "2025-06-05T14:38:57.775Z"
   },
   {
    "duration": 4,
    "start_time": "2025-06-05T14:38:58.675Z"
   },
   {
    "duration": 4,
    "start_time": "2025-06-05T14:38:59.795Z"
   },
   {
    "duration": 4,
    "start_time": "2025-06-05T14:39:00.415Z"
   },
   {
    "duration": 8,
    "start_time": "2025-06-05T14:39:02.266Z"
   },
   {
    "duration": 4,
    "start_time": "2025-06-05T14:39:02.496Z"
   },
   {
    "duration": 6,
    "start_time": "2025-06-05T14:39:02.675Z"
   },
   {
    "duration": 6,
    "start_time": "2025-06-05T14:39:02.845Z"
   },
   {
    "duration": 31,
    "start_time": "2025-06-05T14:39:03.165Z"
   },
   {
    "duration": 54,
    "start_time": "2025-06-05T14:39:03.345Z"
   },
   {
    "duration": 4,
    "start_time": "2025-06-05T14:39:04.055Z"
   },
   {
    "duration": 3,
    "start_time": "2025-06-05T14:39:04.235Z"
   },
   {
    "duration": 4,
    "start_time": "2025-06-05T14:39:04.414Z"
   },
   {
    "duration": 7,
    "start_time": "2025-06-05T14:39:05.005Z"
   },
   {
    "duration": 5,
    "start_time": "2025-06-05T14:39:07.715Z"
   },
   {
    "duration": 5,
    "start_time": "2025-06-05T14:39:08.246Z"
   },
   {
    "duration": 7,
    "start_time": "2025-06-05T14:39:10.755Z"
   },
   {
    "duration": 6,
    "start_time": "2025-06-05T14:39:49.395Z"
   },
   {
    "duration": 4,
    "start_time": "2025-06-05T14:44:12.489Z"
   },
   {
    "duration": 7,
    "start_time": "2025-06-05T14:44:20.298Z"
   },
   {
    "duration": 149,
    "start_time": "2025-06-05T14:44:39.438Z"
   },
   {
    "duration": 742,
    "start_time": "2025-06-05T14:45:48.178Z"
   },
   {
    "duration": 11,
    "start_time": "2025-06-05T14:45:50.398Z"
   },
   {
    "duration": 4,
    "start_time": "2025-06-05T14:45:53.267Z"
   },
   {
    "duration": 8,
    "start_time": "2025-06-05T14:48:25.983Z"
   },
   {
    "duration": 6,
    "start_time": "2025-06-05T14:48:27.353Z"
   },
   {
    "duration": 4,
    "start_time": "2025-06-05T14:48:27.984Z"
   },
   {
    "duration": 3,
    "start_time": "2025-06-05T14:48:28.643Z"
   },
   {
    "duration": 128,
    "start_time": "2025-06-05T14:48:29.934Z"
   },
   {
    "duration": 5,
    "start_time": "2025-06-05T14:48:31.593Z"
   },
   {
    "duration": 4,
    "start_time": "2025-06-05T14:48:32.293Z"
   },
   {
    "duration": 6,
    "start_time": "2025-06-05T14:49:22.723Z"
   },
   {
    "duration": 676,
    "start_time": "2025-06-05T14:49:26.202Z"
   },
   {
    "duration": 634,
    "start_time": "2025-06-05T14:49:29.143Z"
   },
   {
    "duration": 614,
    "start_time": "2025-06-05T14:49:30.342Z"
   },
   {
    "duration": 126,
    "start_time": "2025-06-05T14:49:32.343Z"
   },
   {
    "duration": 1117,
    "start_time": "2025-06-05T14:49:34.363Z"
   },
   {
    "duration": 1067,
    "start_time": "2025-06-05T14:50:06.783Z"
   },
   {
    "duration": 13,
    "start_time": "2025-06-05T14:50:21.752Z"
   },
   {
    "duration": 4,
    "start_time": "2025-06-05T14:50:23.243Z"
   },
   {
    "duration": 8,
    "start_time": "2025-06-05T14:50:24.612Z"
   },
   {
    "duration": 6,
    "start_time": "2025-06-05T14:50:25.523Z"
   },
   {
    "duration": 3,
    "start_time": "2025-06-05T14:50:26.233Z"
   },
   {
    "duration": 4,
    "start_time": "2025-06-05T14:50:26.902Z"
   },
   {
    "duration": 30,
    "start_time": "2025-06-05T14:50:27.712Z"
   },
   {
    "duration": 4,
    "start_time": "2025-06-05T14:50:28.803Z"
   },
   {
    "duration": 4,
    "start_time": "2025-06-05T14:50:29.533Z"
   },
   {
    "duration": 4,
    "start_time": "2025-06-05T14:50:30.373Z"
   },
   {
    "duration": 171,
    "start_time": "2025-06-05T14:50:36.913Z"
   },
   {
    "duration": 8,
    "start_time": "2025-06-05T14:51:02.432Z"
   },
   {
    "duration": 4,
    "start_time": "2025-06-05T14:51:10.023Z"
   },
   {
    "duration": 7,
    "start_time": "2025-06-05T14:51:10.833Z"
   },
   {
    "duration": 6,
    "start_time": "2025-06-05T14:51:11.762Z"
   },
   {
    "duration": 3,
    "start_time": "2025-06-05T14:51:12.873Z"
   },
   {
    "duration": 4,
    "start_time": "2025-06-05T14:51:13.612Z"
   },
   {
    "duration": 26,
    "start_time": "2025-06-05T14:51:17.103Z"
   },
   {
    "duration": 4,
    "start_time": "2025-06-05T14:51:17.802Z"
   },
   {
    "duration": 4,
    "start_time": "2025-06-05T14:51:18.493Z"
   },
   {
    "duration": 6,
    "start_time": "2025-06-05T14:51:19.183Z"
   },
   {
    "duration": 4,
    "start_time": "2025-06-05T14:51:20.922Z"
   },
   {
    "duration": 5,
    "start_time": "2025-06-05T14:51:24.062Z"
   },
   {
    "duration": 5,
    "start_time": "2025-06-05T14:51:25.073Z"
   },
   {
    "duration": 14,
    "start_time": "2025-06-05T14:51:26.172Z"
   },
   {
    "duration": 17,
    "start_time": "2025-06-05T14:51:27.753Z"
   },
   {
    "duration": 5,
    "start_time": "2025-06-05T14:51:54.082Z"
   },
   {
    "duration": 3,
    "start_time": "2025-06-05T14:51:55.043Z"
   },
   {
    "duration": 18,
    "start_time": "2025-06-05T14:51:57.063Z"
   },
   {
    "duration": 16,
    "start_time": "2025-06-05T14:52:15.562Z"
   },
   {
    "duration": 17,
    "start_time": "2025-06-05T14:52:37.722Z"
   },
   {
    "duration": 16,
    "start_time": "2025-06-05T14:52:46.853Z"
   },
   {
    "duration": 35,
    "start_time": "2025-06-05T14:52:54.543Z"
   },
   {
    "duration": 6529,
    "start_time": "2025-06-05T14:53:02.203Z"
   },
   {
    "duration": 4,
    "start_time": "2025-06-05T14:53:27.212Z"
   },
   {
    "duration": 5,
    "start_time": "2025-06-05T14:53:28.602Z"
   },
   {
    "duration": 12,
    "start_time": "2025-06-05T14:53:29.742Z"
   },
   {
    "duration": 3,
    "start_time": "2025-06-05T14:53:40.222Z"
   },
   {
    "duration": 3,
    "start_time": "2025-06-05T14:53:41.402Z"
   },
   {
    "duration": 22,
    "start_time": "2025-06-05T14:53:43.842Z"
   },
   {
    "duration": 15,
    "start_time": "2025-06-05T14:53:46.312Z"
   },
   {
    "duration": 5,
    "start_time": "2025-06-05T14:54:22.582Z"
   },
   {
    "duration": 6,
    "start_time": "2025-06-05T14:54:23.282Z"
   },
   {
    "duration": 3,
    "start_time": "2025-06-05T14:54:23.852Z"
   },
   {
    "duration": 3,
    "start_time": "2025-06-05T14:54:24.402Z"
   },
   {
    "duration": 28,
    "start_time": "2025-06-05T14:54:24.951Z"
   },
   {
    "duration": 4,
    "start_time": "2025-06-05T14:54:25.541Z"
   },
   {
    "duration": 4,
    "start_time": "2025-06-05T14:54:26.071Z"
   },
   {
    "duration": 3,
    "start_time": "2025-06-05T14:54:26.672Z"
   },
   {
    "duration": 5,
    "start_time": "2025-06-05T14:54:28.521Z"
   },
   {
    "duration": 5,
    "start_time": "2025-06-05T14:54:30.352Z"
   },
   {
    "duration": 5,
    "start_time": "2025-06-05T14:54:31.421Z"
   },
   {
    "duration": 3,
    "start_time": "2025-06-05T14:54:33.692Z"
   },
   {
    "duration": 6586,
    "start_time": "2025-06-05T14:54:35.682Z"
   },
   {
    "duration": 12,
    "start_time": "2025-06-05T14:56:19.102Z"
   },
   {
    "duration": 4,
    "start_time": "2025-06-05T14:56:57.442Z"
   },
   {
    "duration": 14,
    "start_time": "2025-06-05T14:57:08.972Z"
   },
   {
    "duration": 20,
    "start_time": "2025-06-05T14:57:17.281Z"
   },
   {
    "duration": 4,
    "start_time": "2025-06-05T14:57:18.731Z"
   },
   {
    "duration": 7,
    "start_time": "2025-06-05T14:57:19.821Z"
   },
   {
    "duration": 6,
    "start_time": "2025-06-05T14:57:20.471Z"
   },
   {
    "duration": 4,
    "start_time": "2025-06-05T14:57:21.321Z"
   },
   {
    "duration": 4,
    "start_time": "2025-06-05T14:57:21.951Z"
   },
   {
    "duration": 28,
    "start_time": "2025-06-05T14:57:22.690Z"
   },
   {
    "duration": 4,
    "start_time": "2025-06-05T14:57:23.261Z"
   },
   {
    "duration": 4,
    "start_time": "2025-06-05T14:57:24.021Z"
   },
   {
    "duration": 4,
    "start_time": "2025-06-05T14:57:25.101Z"
   },
   {
    "duration": 5,
    "start_time": "2025-06-05T14:57:26.770Z"
   },
   {
    "duration": 5,
    "start_time": "2025-06-05T14:57:28.261Z"
   },
   {
    "duration": 5,
    "start_time": "2025-06-05T14:57:29.031Z"
   },
   {
    "duration": 3,
    "start_time": "2025-06-05T14:57:30.071Z"
   },
   {
    "duration": 6765,
    "start_time": "2025-06-05T14:57:31.011Z"
   },
   {
    "duration": 28,
    "start_time": "2025-06-05T14:59:27.721Z"
   },
   {
    "duration": 5,
    "start_time": "2025-06-05T14:59:31.245Z"
   },
   {
    "duration": 4,
    "start_time": "2025-06-05T14:59:35.045Z"
   },
   {
    "duration": 6,
    "start_time": "2025-06-05T14:59:35.595Z"
   },
   {
    "duration": 6,
    "start_time": "2025-06-05T14:59:36.435Z"
   },
   {
    "duration": 4,
    "start_time": "2025-06-05T14:59:40.835Z"
   },
   {
    "duration": 4,
    "start_time": "2025-06-05T14:59:46.065Z"
   },
   {
    "duration": 4,
    "start_time": "2025-06-05T14:59:53.304Z"
   },
   {
    "duration": 2,
    "start_time": "2025-06-05T14:59:54.075Z"
   },
   {
    "duration": 28,
    "start_time": "2025-06-05T14:59:55.005Z"
   },
   {
    "duration": 4,
    "start_time": "2025-06-05T14:59:55.695Z"
   },
   {
    "duration": 4,
    "start_time": "2025-06-05T14:59:56.415Z"
   },
   {
    "duration": 3,
    "start_time": "2025-06-05T14:59:57.285Z"
   },
   {
    "duration": 5,
    "start_time": "2025-06-05T14:59:58.684Z"
   },
   {
    "duration": 5,
    "start_time": "2025-06-05T15:00:01.295Z"
   },
   {
    "duration": 5,
    "start_time": "2025-06-05T15:00:02.085Z"
   },
   {
    "duration": 4,
    "start_time": "2025-06-05T15:00:03.804Z"
   },
   {
    "duration": 6519,
    "start_time": "2025-06-05T15:00:04.624Z"
   },
   {
    "duration": 5,
    "start_time": "2025-06-05T15:00:19.305Z"
   },
   {
    "duration": 5,
    "start_time": "2025-06-05T15:00:20.515Z"
   },
   {
    "duration": 5,
    "start_time": "2025-06-05T15:00:21.295Z"
   },
   {
    "duration": 3,
    "start_time": "2025-06-05T15:00:22.465Z"
   },
   {
    "duration": 805,
    "start_time": "2025-06-05T15:00:23.355Z"
   },
   {
    "duration": 4,
    "start_time": "2025-06-05T15:01:03.085Z"
   },
   {
    "duration": 5,
    "start_time": "2025-06-05T15:01:04.595Z"
   },
   {
    "duration": 5,
    "start_time": "2025-06-05T15:01:05.394Z"
   },
   {
    "duration": 5,
    "start_time": "2025-06-05T15:01:09.954Z"
   },
   {
    "duration": 804,
    "start_time": "2025-06-05T15:01:10.834Z"
   },
   {
    "duration": 5,
    "start_time": "2025-06-05T15:04:23.704Z"
   },
   {
    "duration": 5,
    "start_time": "2025-06-05T15:04:25.604Z"
   },
   {
    "duration": 6,
    "start_time": "2025-06-05T15:04:27.744Z"
   },
   {
    "duration": 3,
    "start_time": "2025-06-05T15:04:28.474Z"
   },
   {
    "duration": 4,
    "start_time": "2025-06-05T15:04:29.183Z"
   },
   {
    "duration": 26,
    "start_time": "2025-06-05T15:04:29.844Z"
   },
   {
    "duration": 4,
    "start_time": "2025-06-05T15:04:30.974Z"
   },
   {
    "duration": 4,
    "start_time": "2025-06-05T15:04:31.753Z"
   },
   {
    "duration": 3,
    "start_time": "2025-06-05T15:04:32.575Z"
   },
   {
    "duration": 5,
    "start_time": "2025-06-05T15:04:34.643Z"
   },
   {
    "duration": 6,
    "start_time": "2025-06-05T15:04:37.034Z"
   },
   {
    "duration": 5,
    "start_time": "2025-06-05T15:04:38.153Z"
   },
   {
    "duration": 4,
    "start_time": "2025-06-05T15:04:39.174Z"
   },
   {
    "duration": 845,
    "start_time": "2025-06-05T15:04:40.263Z"
   },
   {
    "duration": 2410,
    "start_time": "2025-06-05T15:05:05.643Z"
   },
   {
    "duration": 2449,
    "start_time": "2025-06-05T15:05:08.055Z"
   },
   {
    "duration": 3053,
    "start_time": "2025-06-05T15:05:10.506Z"
   },
   {
    "duration": 2603,
    "start_time": "2025-06-05T15:05:13.561Z"
   },
   {
    "duration": 2056,
    "start_time": "2025-06-05T15:05:16.167Z"
   },
   {
    "duration": 3,
    "start_time": "2025-06-05T15:05:18.225Z"
   },
   {
    "duration": 10,
    "start_time": "2025-06-05T15:05:18.235Z"
   },
   {
    "duration": 4,
    "start_time": "2025-06-05T15:05:18.246Z"
   },
   {
    "duration": 4,
    "start_time": "2025-06-05T15:05:18.252Z"
   },
   {
    "duration": 9,
    "start_time": "2025-06-05T15:05:18.257Z"
   },
   {
    "duration": 7,
    "start_time": "2025-06-05T15:05:18.268Z"
   },
   {
    "duration": 8,
    "start_time": "2025-06-05T15:05:18.276Z"
   },
   {
    "duration": 7,
    "start_time": "2025-06-05T15:05:18.285Z"
   },
   {
    "duration": 24,
    "start_time": "2025-06-05T15:05:18.295Z"
   },
   {
    "duration": 54,
    "start_time": "2025-06-05T15:05:18.320Z"
   },
   {
    "duration": 15,
    "start_time": "2025-06-05T15:05:18.375Z"
   },
   {
    "duration": 5,
    "start_time": "2025-06-05T15:05:18.391Z"
   },
   {
    "duration": 4,
    "start_time": "2025-06-05T15:05:18.397Z"
   },
   {
    "duration": 9,
    "start_time": "2025-06-05T15:05:18.402Z"
   },
   {
    "duration": 22,
    "start_time": "2025-06-05T15:05:18.413Z"
   },
   {
    "duration": 4,
    "start_time": "2025-06-05T15:05:18.437Z"
   },
   {
    "duration": 103,
    "start_time": "2025-06-05T15:05:18.443Z"
   },
   {
    "duration": 86,
    "start_time": "2025-06-05T15:05:18.547Z"
   },
   {
    "duration": 4,
    "start_time": "2025-06-05T15:05:18.635Z"
   },
   {
    "duration": 7,
    "start_time": "2025-06-05T15:05:18.641Z"
   },
   {
    "duration": 25,
    "start_time": "2025-06-05T15:05:18.650Z"
   },
   {
    "duration": 583,
    "start_time": "2025-06-05T15:05:18.677Z"
   },
   {
    "duration": 554,
    "start_time": "2025-06-05T15:05:19.262Z"
   },
   {
    "duration": 643,
    "start_time": "2025-06-05T15:05:19.817Z"
   },
   {
    "duration": 579,
    "start_time": "2025-06-05T15:05:20.461Z"
   },
   {
    "duration": 163,
    "start_time": "2025-06-05T15:05:21.041Z"
   },
   {
    "duration": 125,
    "start_time": "2025-06-05T15:05:21.205Z"
   },
   {
    "duration": 1664,
    "start_time": "2025-06-05T15:05:21.332Z"
   },
   {
    "duration": 41,
    "start_time": "2025-06-05T15:05:22.997Z"
   },
   {
    "duration": 1030,
    "start_time": "2025-06-05T15:05:23.040Z"
   },
   {
    "duration": 11,
    "start_time": "2025-06-05T15:05:24.072Z"
   },
   {
    "duration": 31,
    "start_time": "2025-06-05T15:05:24.085Z"
   },
   {
    "duration": 19,
    "start_time": "2025-06-05T15:05:24.118Z"
   },
   {
    "duration": 18,
    "start_time": "2025-06-05T15:05:24.139Z"
   },
   {
    "duration": 13,
    "start_time": "2025-06-05T15:05:24.159Z"
   },
   {
    "duration": 11,
    "start_time": "2025-06-05T15:05:24.177Z"
   },
   {
    "duration": 12,
    "start_time": "2025-06-05T15:05:24.189Z"
   },
   {
    "duration": 31,
    "start_time": "2025-06-05T15:05:24.203Z"
   },
   {
    "duration": 4,
    "start_time": "2025-06-05T15:05:24.236Z"
   },
   {
    "duration": 4,
    "start_time": "2025-06-05T15:05:24.241Z"
   },
   {
    "duration": 5,
    "start_time": "2025-06-05T15:05:24.247Z"
   },
   {
    "duration": 12,
    "start_time": "2025-06-05T15:05:24.253Z"
   },
   {
    "duration": 4,
    "start_time": "2025-06-05T15:05:24.266Z"
   },
   {
    "duration": 5,
    "start_time": "2025-06-05T15:05:24.272Z"
   },
   {
    "duration": 9,
    "start_time": "2025-06-05T15:05:24.279Z"
   },
   {
    "duration": 789,
    "start_time": "2025-06-05T15:05:24.289Z"
   },
   {
    "duration": 5,
    "start_time": "2025-06-05T15:06:02.693Z"
   },
   {
    "duration": 6,
    "start_time": "2025-06-05T15:06:03.523Z"
   },
   {
    "duration": 4,
    "start_time": "2025-06-05T15:06:04.212Z"
   },
   {
    "duration": 4,
    "start_time": "2025-06-05T15:06:04.762Z"
   },
   {
    "duration": 28,
    "start_time": "2025-06-05T15:06:05.332Z"
   },
   {
    "duration": 5,
    "start_time": "2025-06-05T15:06:06.342Z"
   },
   {
    "duration": 4,
    "start_time": "2025-06-05T15:06:07.762Z"
   },
   {
    "duration": 4,
    "start_time": "2025-06-05T15:06:09.483Z"
   },
   {
    "duration": 4,
    "start_time": "2025-06-05T15:06:10.943Z"
   },
   {
    "duration": 6,
    "start_time": "2025-06-05T15:06:11.572Z"
   },
   {
    "duration": 4,
    "start_time": "2025-06-05T15:06:12.222Z"
   },
   {
    "duration": 3,
    "start_time": "2025-06-05T15:06:13.202Z"
   },
   {
    "duration": 1134,
    "start_time": "2025-06-05T15:06:14.552Z"
   },
   {
    "duration": 5,
    "start_time": "2025-06-05T15:06:31.802Z"
   },
   {
    "duration": 6,
    "start_time": "2025-06-05T15:06:32.523Z"
   },
   {
    "duration": 3,
    "start_time": "2025-06-05T15:06:33.063Z"
   },
   {
    "duration": 3,
    "start_time": "2025-06-05T15:06:33.642Z"
   },
   {
    "duration": 28,
    "start_time": "2025-06-05T15:06:34.192Z"
   },
   {
    "duration": 4,
    "start_time": "2025-06-05T15:06:34.763Z"
   },
   {
    "duration": 3,
    "start_time": "2025-06-05T15:06:35.323Z"
   },
   {
    "duration": 4,
    "start_time": "2025-06-05T15:06:35.942Z"
   },
   {
    "duration": 5,
    "start_time": "2025-06-05T15:06:37.202Z"
   },
   {
    "duration": 5,
    "start_time": "2025-06-05T15:06:37.782Z"
   },
   {
    "duration": 5,
    "start_time": "2025-06-05T15:06:38.372Z"
   },
   {
    "duration": 3,
    "start_time": "2025-06-05T15:06:39.393Z"
   },
   {
    "duration": 811,
    "start_time": "2025-06-05T15:06:40.172Z"
   },
   {
    "duration": 8,
    "start_time": "2025-06-05T15:07:50.282Z"
   },
   {
    "duration": 9,
    "start_time": "2025-06-05T15:08:45.042Z"
   },
   {
    "duration": 8,
    "start_time": "2025-06-05T15:09:45.462Z"
   },
   {
    "duration": 8,
    "start_time": "2025-06-05T15:10:12.611Z"
   },
   {
    "duration": 178,
    "start_time": "2025-06-05T15:10:42.401Z"
   },
   {
    "duration": 21,
    "start_time": "2025-06-05T15:11:00.751Z"
   },
   {
    "duration": 11,
    "start_time": "2025-06-05T15:11:34.931Z"
   },
   {
    "duration": 21,
    "start_time": "2025-06-05T15:12:40.530Z"
   },
   {
    "duration": 6,
    "start_time": "2025-06-05T15:13:00.851Z"
   },
   {
    "duration": 5,
    "start_time": "2025-06-05T15:13:03.160Z"
   },
   {
    "duration": 7,
    "start_time": "2025-06-05T15:13:04.030Z"
   },
   {
    "duration": 3,
    "start_time": "2025-06-05T15:13:04.851Z"
   },
   {
    "duration": 3,
    "start_time": "2025-06-05T15:13:06.471Z"
   },
   {
    "duration": 27,
    "start_time": "2025-06-05T15:13:09.940Z"
   },
   {
    "duration": 4,
    "start_time": "2025-06-05T15:13:12.901Z"
   },
   {
    "duration": 4,
    "start_time": "2025-06-05T15:13:15.331Z"
   },
   {
    "duration": 12,
    "start_time": "2025-06-05T15:13:35.190Z"
   },
   {
    "duration": 29,
    "start_time": "2025-06-05T15:13:37.371Z"
   },
   {
    "duration": 4,
    "start_time": "2025-06-05T15:13:40.221Z"
   },
   {
    "duration": 5,
    "start_time": "2025-06-05T15:13:40.821Z"
   },
   {
    "duration": 6,
    "start_time": "2025-06-05T15:13:41.581Z"
   },
   {
    "duration": 3,
    "start_time": "2025-06-05T15:13:42.431Z"
   },
   {
    "duration": 3,
    "start_time": "2025-06-05T15:13:43.001Z"
   },
   {
    "duration": 27,
    "start_time": "2025-06-05T15:13:43.641Z"
   },
   {
    "duration": 4,
    "start_time": "2025-06-05T15:13:44.994Z"
   },
   {
    "duration": 4,
    "start_time": "2025-06-05T15:13:46.141Z"
   },
   {
    "duration": 3,
    "start_time": "2025-06-05T15:13:49.731Z"
   },
   {
    "duration": 28,
    "start_time": "2025-06-05T15:14:17.160Z"
   },
   {
    "duration": 4,
    "start_time": "2025-06-05T15:14:23.170Z"
   },
   {
    "duration": 5,
    "start_time": "2025-06-05T15:14:29.390Z"
   },
   {
    "duration": 13,
    "start_time": "2025-06-05T15:14:40.190Z"
   },
   {
    "duration": 11,
    "start_time": "2025-06-05T15:14:56.020Z"
   },
   {
    "duration": 25,
    "start_time": "2025-06-05T15:14:56.810Z"
   },
   {
    "duration": 6,
    "start_time": "2025-06-05T15:14:57.451Z"
   },
   {
    "duration": 6,
    "start_time": "2025-06-05T15:14:58.070Z"
   },
   {
    "duration": 7,
    "start_time": "2025-06-05T15:14:58.690Z"
   },
   {
    "duration": 3,
    "start_time": "2025-06-05T15:14:59.320Z"
   },
   {
    "duration": 3,
    "start_time": "2025-06-05T15:14:59.890Z"
   },
   {
    "duration": 24,
    "start_time": "2025-06-05T15:15:00.611Z"
   },
   {
    "duration": 5,
    "start_time": "2025-06-05T15:15:01.352Z"
   },
   {
    "duration": 3,
    "start_time": "2025-06-05T15:15:02.021Z"
   },
   {
    "duration": 4,
    "start_time": "2025-06-05T15:15:02.690Z"
   },
   {
    "duration": 32,
    "start_time": "2025-06-05T15:15:12.460Z"
   },
   {
    "duration": 35,
    "start_time": "2025-06-05T15:16:53.250Z"
   },
   {
    "duration": 5,
    "start_time": "2025-06-05T15:17:41.440Z"
   },
   {
    "duration": 5,
    "start_time": "2025-06-05T15:17:42.420Z"
   },
   {
    "duration": 4,
    "start_time": "2025-06-05T15:17:43.210Z"
   },
   {
    "duration": 3,
    "start_time": "2025-06-05T15:17:58.299Z"
   },
   {
    "duration": 791,
    "start_time": "2025-06-05T15:17:59.490Z"
   },
   {
    "duration": 13,
    "start_time": "2025-06-05T15:20:23.239Z"
   },
   {
    "duration": 25,
    "start_time": "2025-06-05T15:20:24.919Z"
   },
   {
    "duration": 4,
    "start_time": "2025-06-05T15:20:26.269Z"
   },
   {
    "duration": 6,
    "start_time": "2025-06-05T15:20:26.999Z"
   },
   {
    "duration": 8,
    "start_time": "2025-06-05T15:20:28.889Z"
   },
   {
    "duration": 3,
    "start_time": "2025-06-05T15:20:31.060Z"
   },
   {
    "duration": 4,
    "start_time": "2025-06-05T15:20:31.729Z"
   },
   {
    "duration": 30,
    "start_time": "2025-06-05T15:20:33.779Z"
   },
   {
    "duration": 5,
    "start_time": "2025-06-05T15:20:40.239Z"
   },
   {
    "duration": 6,
    "start_time": "2025-06-05T15:21:31.479Z"
   },
   {
    "duration": 5,
    "start_time": "2025-06-05T15:21:55.309Z"
   },
   {
    "duration": 6,
    "start_time": "2025-06-05T15:21:56.049Z"
   },
   {
    "duration": 4,
    "start_time": "2025-06-05T15:21:56.558Z"
   },
   {
    "duration": 3,
    "start_time": "2025-06-05T15:21:57.098Z"
   },
   {
    "duration": 25,
    "start_time": "2025-06-05T15:21:57.659Z"
   },
   {
    "duration": 4,
    "start_time": "2025-06-05T15:21:58.178Z"
   },
   {
    "duration": 4,
    "start_time": "2025-06-05T15:21:58.789Z"
   },
   {
    "duration": 12,
    "start_time": "2025-06-05T15:21:59.649Z"
   },
   {
    "duration": 12,
    "start_time": "2025-06-05T15:22:21.689Z"
   },
   {
    "duration": 12,
    "start_time": "2025-06-05T15:23:50.308Z"
   },
   {
    "duration": 5,
    "start_time": "2025-06-05T15:24:01.179Z"
   },
   {
    "duration": 5,
    "start_time": "2025-06-05T15:24:13.519Z"
   },
   {
    "duration": 13,
    "start_time": "2025-06-05T15:25:12.619Z"
   },
   {
    "duration": 5,
    "start_time": "2025-06-05T15:25:21.658Z"
   },
   {
    "duration": 5,
    "start_time": "2025-06-05T15:25:28.268Z"
   },
   {
    "duration": 4,
    "start_time": "2025-06-05T15:29:17.058Z"
   },
   {
    "duration": 12,
    "start_time": "2025-06-05T15:29:36.748Z"
   },
   {
    "duration": 3,
    "start_time": "2025-06-05T15:29:43.628Z"
   },
   {
    "duration": 12,
    "start_time": "2025-06-05T15:29:49.957Z"
   },
   {
    "duration": 12,
    "start_time": "2025-06-05T15:30:35.667Z"
   },
   {
    "duration": 4,
    "start_time": "2025-06-05T15:31:21.597Z"
   },
   {
    "duration": 3,
    "start_time": "2025-06-05T15:31:30.078Z"
   },
   {
    "duration": 13,
    "start_time": "2025-06-05T15:32:06.827Z"
   },
   {
    "duration": 104500,
    "start_time": "2025-06-05T15:32:57.347Z"
   },
   {
    "duration": 28,
    "start_time": "2025-06-05T15:36:13.336Z"
   },
   {
    "duration": 5,
    "start_time": "2025-06-05T15:36:14.047Z"
   },
   {
    "duration": 5,
    "start_time": "2025-06-05T15:36:14.597Z"
   },
   {
    "duration": 6,
    "start_time": "2025-06-05T15:36:15.117Z"
   },
   {
    "duration": 3,
    "start_time": "2025-06-05T15:36:15.637Z"
   },
   {
    "duration": 3,
    "start_time": "2025-06-05T15:36:16.187Z"
   },
   {
    "duration": 3,
    "start_time": "2025-06-05T15:36:16.707Z"
   },
   {
    "duration": 26,
    "start_time": "2025-06-05T15:36:18.047Z"
   },
   {
    "duration": 5,
    "start_time": "2025-06-05T15:36:18.627Z"
   },
   {
    "duration": 41,
    "start_time": "2025-06-05T15:36:46.687Z"
   },
   {
    "duration": 1454,
    "start_time": "2025-06-05T15:37:44.856Z"
   },
   {
    "duration": 18,
    "start_time": "2025-06-05T15:38:37.917Z"
   },
   {
    "duration": 44,
    "start_time": "2025-06-05T15:38:38.626Z"
   },
   {
    "duration": 5,
    "start_time": "2025-06-05T15:38:42.326Z"
   },
   {
    "duration": 3,
    "start_time": "2025-06-05T15:38:43.667Z"
   },
   {
    "duration": 4,
    "start_time": "2025-06-05T15:38:44.547Z"
   },
   {
    "duration": 8,
    "start_time": "2025-06-05T15:38:49.316Z"
   },
   {
    "duration": 5,
    "start_time": "2025-06-05T15:38:54.666Z"
   },
   {
    "duration": 5,
    "start_time": "2025-06-05T15:38:56.376Z"
   },
   {
    "duration": 7,
    "start_time": "2025-06-05T15:38:57.547Z"
   },
   {
    "duration": 7,
    "start_time": "2025-06-05T15:39:01.666Z"
   },
   {
    "duration": 6,
    "start_time": "2025-06-05T15:39:14.146Z"
   },
   {
    "duration": 6,
    "start_time": "2025-06-05T15:39:15.255Z"
   },
   {
    "duration": 4,
    "start_time": "2025-06-05T15:41:12.486Z"
   },
   {
    "duration": 7,
    "start_time": "2025-06-05T15:41:13.155Z"
   },
   {
    "duration": 6,
    "start_time": "2025-06-05T15:44:15.025Z"
   },
   {
    "duration": 696,
    "start_time": "2025-06-05T15:44:17.066Z"
   },
   {
    "duration": 972,
    "start_time": "2025-06-05T15:44:20.296Z"
   },
   {
    "duration": 4,
    "start_time": "2025-06-05T15:44:32.356Z"
   },
   {
    "duration": 911,
    "start_time": "2025-06-05T15:44:34.396Z"
   },
   {
    "duration": 12,
    "start_time": "2025-06-05T15:44:36.865Z"
   },
   {
    "duration": 12,
    "start_time": "2025-06-05T15:46:15.376Z"
   },
   {
    "duration": 4,
    "start_time": "2025-06-05T15:46:31.645Z"
   },
   {
    "duration": 5,
    "start_time": "2025-06-05T15:46:33.546Z"
   },
   {
    "duration": 6,
    "start_time": "2025-06-05T15:46:41.635Z"
   },
   {
    "duration": 4,
    "start_time": "2025-06-05T15:46:42.546Z"
   },
   {
    "duration": 3,
    "start_time": "2025-06-05T15:46:46.435Z"
   },
   {
    "duration": 26,
    "start_time": "2025-06-05T15:46:55.236Z"
   },
   {
    "duration": 4,
    "start_time": "2025-06-05T15:46:56.644Z"
   },
   {
    "duration": 4,
    "start_time": "2025-06-05T15:47:11.654Z"
   },
   {
    "duration": 4,
    "start_time": "2025-06-05T15:47:13.345Z"
   },
   {
    "duration": 4,
    "start_time": "2025-06-05T15:47:16.925Z"
   },
   {
    "duration": 3,
    "start_time": "2025-06-05T15:47:18.915Z"
   },
   {
    "duration": 1465,
    "start_time": "2025-06-05T15:47:19.975Z"
   },
   {
    "duration": 37,
    "start_time": "2025-06-05T15:49:50.595Z"
   },
   {
    "duration": 1516,
    "start_time": "2025-06-05T15:50:03.675Z"
   },
   {
    "duration": 17,
    "start_time": "2025-06-05T15:50:24.265Z"
   },
   {
    "duration": 45,
    "start_time": "2025-06-05T15:50:24.844Z"
   },
   {
    "duration": 4,
    "start_time": "2025-06-05T15:50:27.314Z"
   },
   {
    "duration": 3,
    "start_time": "2025-06-05T15:50:27.815Z"
   },
   {
    "duration": 3,
    "start_time": "2025-06-05T15:50:28.365Z"
   },
   {
    "duration": 6,
    "start_time": "2025-06-05T15:50:29.464Z"
   },
   {
    "duration": 4,
    "start_time": "2025-06-05T15:50:30.815Z"
   },
   {
    "duration": 5,
    "start_time": "2025-06-05T15:50:31.974Z"
   },
   {
    "duration": 6,
    "start_time": "2025-06-05T15:50:32.884Z"
   },
   {
    "duration": 6,
    "start_time": "2025-06-05T15:50:34.544Z"
   },
   {
    "duration": 4,
    "start_time": "2025-06-05T15:50:36.015Z"
   },
   {
    "duration": 7,
    "start_time": "2025-06-05T15:50:36.805Z"
   },
   {
    "duration": 6,
    "start_time": "2025-06-05T15:50:44.694Z"
   },
   {
    "duration": 516,
    "start_time": "2025-06-05T15:50:45.944Z"
   },
   {
    "duration": 12,
    "start_time": "2025-06-05T15:50:50.884Z"
   },
   {
    "duration": 5,
    "start_time": "2025-06-05T15:50:54.425Z"
   },
   {
    "duration": 5,
    "start_time": "2025-06-05T15:50:55.324Z"
   },
   {
    "duration": 6,
    "start_time": "2025-06-05T15:50:56.034Z"
   },
   {
    "duration": 4,
    "start_time": "2025-06-05T15:50:56.704Z"
   },
   {
    "duration": 3,
    "start_time": "2025-06-05T15:50:57.534Z"
   },
   {
    "duration": 25,
    "start_time": "2025-06-05T15:50:58.854Z"
   },
   {
    "duration": 3,
    "start_time": "2025-06-05T15:50:59.554Z"
   },
   {
    "duration": 5,
    "start_time": "2025-06-05T15:51:03.205Z"
   },
   {
    "duration": 6,
    "start_time": "2025-06-05T15:51:06.214Z"
   },
   {
    "duration": 5,
    "start_time": "2025-06-05T15:51:08.585Z"
   },
   {
    "duration": 1694,
    "start_time": "2025-06-05T15:51:26.344Z"
   },
   {
    "duration": 5,
    "start_time": "2025-06-05T15:51:37.973Z"
   },
   {
    "duration": 5,
    "start_time": "2025-06-05T15:51:39.094Z"
   },
   {
    "duration": 4,
    "start_time": "2025-06-05T15:51:39.714Z"
   },
   {
    "duration": 3,
    "start_time": "2025-06-05T15:51:40.524Z"
   },
   {
    "duration": 783,
    "start_time": "2025-06-05T15:51:41.264Z"
   },
   {
    "duration": 29,
    "start_time": "2025-06-05T15:51:46.034Z"
   },
   {
    "duration": 20,
    "start_time": "2025-06-05T15:52:38.244Z"
   },
   {
    "duration": 5,
    "start_time": "2025-06-05T15:52:39.303Z"
   },
   {
    "duration": 5,
    "start_time": "2025-06-05T15:52:41.143Z"
   },
   {
    "duration": 6,
    "start_time": "2025-06-05T15:52:44.814Z"
   },
   {
    "duration": 3,
    "start_time": "2025-06-05T15:52:45.514Z"
   },
   {
    "duration": 3,
    "start_time": "2025-06-05T15:52:46.194Z"
   },
   {
    "duration": 30,
    "start_time": "2025-06-05T15:52:47.013Z"
   },
   {
    "duration": 4,
    "start_time": "2025-06-05T15:52:48.374Z"
   },
   {
    "duration": 5,
    "start_time": "2025-06-05T15:52:49.674Z"
   },
   {
    "duration": 4,
    "start_time": "2025-06-05T15:52:50.614Z"
   },
   {
    "duration": 4,
    "start_time": "2025-06-05T15:52:51.654Z"
   },
   {
    "duration": 3,
    "start_time": "2025-06-05T15:52:53.494Z"
   },
   {
    "duration": 805,
    "start_time": "2025-06-05T15:52:54.765Z"
   },
   {
    "duration": 5,
    "start_time": "2025-06-05T15:53:18.144Z"
   },
   {
    "duration": 6,
    "start_time": "2025-06-05T15:53:18.824Z"
   },
   {
    "duration": 4,
    "start_time": "2025-06-05T15:53:19.364Z"
   },
   {
    "duration": 3,
    "start_time": "2025-06-05T15:53:19.913Z"
   },
   {
    "duration": 26,
    "start_time": "2025-06-05T15:53:20.514Z"
   },
   {
    "duration": 4,
    "start_time": "2025-06-05T15:53:21.074Z"
   },
   {
    "duration": 5,
    "start_time": "2025-06-05T15:53:22.574Z"
   },
   {
    "duration": 5,
    "start_time": "2025-06-05T15:53:23.174Z"
   },
   {
    "duration": 5,
    "start_time": "2025-06-05T15:53:23.974Z"
   },
   {
    "duration": 4,
    "start_time": "2025-06-05T15:53:24.874Z"
   },
   {
    "duration": 51,
    "start_time": "2025-06-05T15:54:59.513Z"
   },
   {
    "duration": 18,
    "start_time": "2025-06-05T15:55:20.483Z"
   },
   {
    "duration": 42,
    "start_time": "2025-06-05T15:55:21.303Z"
   },
   {
    "duration": 4,
    "start_time": "2025-06-05T15:55:28.733Z"
   },
   {
    "duration": 3,
    "start_time": "2025-06-05T15:55:29.364Z"
   },
   {
    "duration": 4,
    "start_time": "2025-06-05T15:55:31.373Z"
   },
   {
    "duration": 8,
    "start_time": "2025-06-05T15:55:32.953Z"
   },
   {
    "duration": 5,
    "start_time": "2025-06-05T15:55:34.663Z"
   },
   {
    "duration": 4,
    "start_time": "2025-06-05T15:55:35.453Z"
   },
   {
    "duration": 7,
    "start_time": "2025-06-05T15:55:36.113Z"
   },
   {
    "duration": 6,
    "start_time": "2025-06-05T15:55:37.853Z"
   },
   {
    "duration": 5,
    "start_time": "2025-06-05T15:55:38.972Z"
   },
   {
    "duration": 6,
    "start_time": "2025-06-05T15:55:39.493Z"
   },
   {
    "duration": 5,
    "start_time": "2025-06-05T15:55:40.723Z"
   },
   {
    "duration": 12,
    "start_time": "2025-06-05T15:55:49.983Z"
   },
   {
    "duration": 4168,
    "start_time": "2025-06-05T15:56:34.243Z"
   },
   {
    "duration": 1261,
    "start_time": "2025-06-05T15:57:15.403Z"
   },
   {
    "duration": 1455,
    "start_time": "2025-06-05T15:58:50.662Z"
   },
   {
    "duration": 11,
    "start_time": "2025-06-05T15:59:02.452Z"
   },
   {
    "duration": 1363,
    "start_time": "2025-06-05T16:00:41.562Z"
   },
   {
    "duration": 53,
    "start_time": "2025-06-05T16:01:14.162Z"
   },
   {
    "duration": 6,
    "start_time": "2025-06-05T16:01:51.442Z"
   },
   {
    "duration": 4,
    "start_time": "2025-06-05T16:01:54.382Z"
   },
   {
    "duration": 4,
    "start_time": "2025-06-05T16:01:58.912Z"
   },
   {
    "duration": 12,
    "start_time": "2025-06-05T16:02:08.512Z"
   },
   {
    "duration": 12,
    "start_time": "2025-06-05T16:02:40.712Z"
   },
   {
    "duration": 5,
    "start_time": "2025-06-05T16:03:09.241Z"
   },
   {
    "duration": 20,
    "start_time": "2025-06-05T16:03:17.992Z"
   },
   {
    "duration": 12,
    "start_time": "2025-06-05T16:03:25.012Z"
   },
   {
    "duration": 13,
    "start_time": "2025-06-05T16:03:56.402Z"
   },
   {
    "duration": 38,
    "start_time": "2025-06-05T16:04:14.572Z"
   },
   {
    "duration": 5,
    "start_time": "2025-06-05T16:04:15.491Z"
   },
   {
    "duration": 3,
    "start_time": "2025-06-05T16:04:16.311Z"
   },
   {
    "duration": 21,
    "start_time": "2025-06-05T16:04:17.301Z"
   },
   {
    "duration": 12,
    "start_time": "2025-06-05T16:04:18.421Z"
   },
   {
    "duration": 6,
    "start_time": "2025-06-05T16:04:53.141Z"
   },
   {
    "duration": 7,
    "start_time": "2025-06-05T16:05:08.221Z"
   },
   {
    "duration": 6,
    "start_time": "2025-06-05T16:05:25.022Z"
   },
   {
    "duration": 2360,
    "start_time": "2025-06-05T16:05:51.023Z"
   },
   {
    "duration": 3259,
    "start_time": "2025-06-05T16:05:53.386Z"
   },
   {
    "duration": 3713,
    "start_time": "2025-06-05T16:05:56.647Z"
   },
   {
    "duration": 2509,
    "start_time": "2025-06-05T16:06:00.363Z"
   },
   {
    "duration": 1996,
    "start_time": "2025-06-05T16:06:02.874Z"
   },
   {
    "duration": 3,
    "start_time": "2025-06-05T16:06:04.872Z"
   },
   {
    "duration": 40,
    "start_time": "2025-06-05T16:06:04.876Z"
   },
   {
    "duration": 4,
    "start_time": "2025-06-05T16:06:04.918Z"
   },
   {
    "duration": 7,
    "start_time": "2025-06-05T16:06:04.923Z"
   },
   {
    "duration": 16,
    "start_time": "2025-06-05T16:06:04.931Z"
   },
   {
    "duration": 11,
    "start_time": "2025-06-05T16:06:04.948Z"
   },
   {
    "duration": 26,
    "start_time": "2025-06-05T16:06:04.960Z"
   },
   {
    "duration": 9,
    "start_time": "2025-06-05T16:06:04.987Z"
   },
   {
    "duration": 19,
    "start_time": "2025-06-05T16:06:04.999Z"
   },
   {
    "duration": 48,
    "start_time": "2025-06-05T16:06:05.019Z"
   },
   {
    "duration": 3,
    "start_time": "2025-06-05T16:06:05.069Z"
   },
   {
    "duration": 74,
    "start_time": "2025-06-05T16:06:05.074Z"
   },
   {
    "duration": 26,
    "start_time": "2025-06-05T16:06:05.149Z"
   },
   {
    "duration": 22,
    "start_time": "2025-06-05T16:06:05.177Z"
   },
   {
    "duration": 23,
    "start_time": "2025-06-05T16:06:05.200Z"
   },
   {
    "duration": 15,
    "start_time": "2025-06-05T16:06:05.224Z"
   },
   {
    "duration": 110,
    "start_time": "2025-06-05T16:06:05.241Z"
   },
   {
    "duration": 22,
    "start_time": "2025-06-05T16:06:05.353Z"
   },
   {
    "duration": 21,
    "start_time": "2025-06-05T16:06:05.376Z"
   },
   {
    "duration": 12,
    "start_time": "2025-06-05T16:06:05.399Z"
   },
   {
    "duration": 10,
    "start_time": "2025-06-05T16:06:05.412Z"
   },
   {
    "duration": 629,
    "start_time": "2025-06-05T16:06:05.423Z"
   },
   {
    "duration": 607,
    "start_time": "2025-06-05T16:06:06.053Z"
   },
   {
    "duration": 718,
    "start_time": "2025-06-05T16:06:06.661Z"
   },
   {
    "duration": 570,
    "start_time": "2025-06-05T16:06:07.380Z"
   },
   {
    "duration": 173,
    "start_time": "2025-06-05T16:06:07.952Z"
   },
   {
    "duration": 118,
    "start_time": "2025-06-05T16:06:08.127Z"
   },
   {
    "duration": 1018,
    "start_time": "2025-06-05T16:06:08.246Z"
   },
   {
    "duration": 5,
    "start_time": "2025-06-05T16:06:09.266Z"
   },
   {
    "duration": 1025,
    "start_time": "2025-06-05T16:06:09.272Z"
   },
   {
    "duration": 13,
    "start_time": "2025-06-05T16:06:10.298Z"
   },
   {
    "duration": 29,
    "start_time": "2025-06-05T16:06:10.312Z"
   },
   {
    "duration": 168,
    "start_time": "2025-06-05T16:06:10.343Z"
   },
   {
    "duration": 5,
    "start_time": "2025-06-05T16:06:10.513Z"
   },
   {
    "duration": 28,
    "start_time": "2025-06-05T16:06:10.520Z"
   },
   {
    "duration": 22,
    "start_time": "2025-06-05T16:06:10.552Z"
   },
   {
    "duration": 170,
    "start_time": "2025-06-05T16:06:10.576Z"
   },
   {
    "duration": 0,
    "start_time": "2025-06-05T16:06:10.747Z"
   },
   {
    "duration": 0,
    "start_time": "2025-06-05T16:06:10.748Z"
   },
   {
    "duration": 0,
    "start_time": "2025-06-05T16:06:10.749Z"
   },
   {
    "duration": 0,
    "start_time": "2025-06-05T16:06:10.750Z"
   },
   {
    "duration": 0,
    "start_time": "2025-06-05T16:06:10.751Z"
   },
   {
    "duration": 0,
    "start_time": "2025-06-05T16:06:10.753Z"
   },
   {
    "duration": 0,
    "start_time": "2025-06-05T16:06:10.754Z"
   },
   {
    "duration": 0,
    "start_time": "2025-06-05T16:06:10.755Z"
   },
   {
    "duration": 0,
    "start_time": "2025-06-05T16:06:10.757Z"
   },
   {
    "duration": 0,
    "start_time": "2025-06-05T16:06:10.758Z"
   },
   {
    "duration": 0,
    "start_time": "2025-06-05T16:06:10.759Z"
   },
   {
    "duration": 0,
    "start_time": "2025-06-05T16:06:10.760Z"
   },
   {
    "duration": 0,
    "start_time": "2025-06-05T16:06:10.761Z"
   },
   {
    "duration": 0,
    "start_time": "2025-06-05T16:06:10.762Z"
   },
   {
    "duration": 0,
    "start_time": "2025-06-05T16:06:10.763Z"
   },
   {
    "duration": 0,
    "start_time": "2025-06-05T16:06:10.765Z"
   },
   {
    "duration": 4,
    "start_time": "2025-06-05T16:06:20.011Z"
   },
   {
    "duration": 5,
    "start_time": "2025-06-05T16:06:29.331Z"
   },
   {
    "duration": 5,
    "start_time": "2025-06-05T16:07:27.631Z"
   },
   {
    "duration": 12,
    "start_time": "2025-06-05T16:07:37.802Z"
   },
   {
    "duration": 4,
    "start_time": "2025-06-05T16:08:09.880Z"
   },
   {
    "duration": 11,
    "start_time": "2025-06-05T16:08:24.641Z"
   },
   {
    "duration": 41,
    "start_time": "2025-06-05T16:09:15.740Z"
   },
   {
    "duration": 13,
    "start_time": "2025-06-05T16:09:18.821Z"
   },
   {
    "duration": 6,
    "start_time": "2025-06-05T16:09:29.880Z"
   },
   {
    "duration": 3,
    "start_time": "2025-06-05T16:09:30.801Z"
   },
   {
    "duration": 24,
    "start_time": "2025-06-05T16:09:31.771Z"
   },
   {
    "duration": 4,
    "start_time": "2025-06-05T16:09:33.691Z"
   },
   {
    "duration": 3,
    "start_time": "2025-06-05T16:09:37.881Z"
   },
   {
    "duration": 40,
    "start_time": "2025-06-05T16:09:54.191Z"
   },
   {
    "duration": 1588,
    "start_time": "2025-06-05T16:10:20.161Z"
   },
   {
    "duration": 15214,
    "start_time": "2025-06-05T16:10:39.261Z"
   },
   {
    "duration": 19,
    "start_time": "2025-06-05T16:12:46.460Z"
   },
   {
    "duration": 18,
    "start_time": "2025-06-05T16:13:38.720Z"
   },
   {
    "duration": 2385,
    "start_time": "2025-06-05T16:13:52.330Z"
   },
   {
    "duration": 2532,
    "start_time": "2025-06-05T16:13:54.717Z"
   },
   {
    "duration": 8322,
    "start_time": "2025-06-05T16:13:57.251Z"
   },
   {
    "duration": 2668,
    "start_time": "2025-06-05T16:14:05.576Z"
   },
   {
    "duration": 2138,
    "start_time": "2025-06-05T16:14:08.246Z"
   },
   {
    "duration": 4,
    "start_time": "2025-06-05T16:14:10.386Z"
   },
   {
    "duration": 17,
    "start_time": "2025-06-05T16:14:10.391Z"
   },
   {
    "duration": 21,
    "start_time": "2025-06-05T16:14:10.409Z"
   },
   {
    "duration": 8,
    "start_time": "2025-06-05T16:14:10.432Z"
   },
   {
    "duration": 14,
    "start_time": "2025-06-05T16:14:10.443Z"
   },
   {
    "duration": 16,
    "start_time": "2025-06-05T16:14:10.459Z"
   },
   {
    "duration": 11,
    "start_time": "2025-06-05T16:14:10.477Z"
   },
   {
    "duration": 13,
    "start_time": "2025-06-05T16:14:10.490Z"
   },
   {
    "duration": 20,
    "start_time": "2025-06-05T16:14:10.505Z"
   },
   {
    "duration": 53,
    "start_time": "2025-06-05T16:14:10.527Z"
   },
   {
    "duration": 3,
    "start_time": "2025-06-05T16:14:10.582Z"
   },
   {
    "duration": 11,
    "start_time": "2025-06-05T16:14:10.587Z"
   },
   {
    "duration": 9,
    "start_time": "2025-06-05T16:14:10.599Z"
   },
   {
    "duration": 28,
    "start_time": "2025-06-05T16:14:10.610Z"
   },
   {
    "duration": 5,
    "start_time": "2025-06-05T16:14:10.639Z"
   },
   {
    "duration": 75,
    "start_time": "2025-06-05T16:14:10.646Z"
   },
   {
    "duration": 12,
    "start_time": "2025-06-05T16:14:10.723Z"
   },
   {
    "duration": 11,
    "start_time": "2025-06-05T16:14:10.737Z"
   },
   {
    "duration": 120,
    "start_time": "2025-06-05T16:14:10.750Z"
   },
   {
    "duration": 19,
    "start_time": "2025-06-05T16:14:10.872Z"
   },
   {
    "duration": 77,
    "start_time": "2025-06-05T16:14:10.893Z"
   },
   {
    "duration": 608,
    "start_time": "2025-06-05T16:14:10.972Z"
   },
   {
    "duration": 570,
    "start_time": "2025-06-05T16:14:11.584Z"
   },
   {
    "duration": 721,
    "start_time": "2025-06-05T16:14:12.155Z"
   },
   {
    "duration": 584,
    "start_time": "2025-06-05T16:14:12.878Z"
   },
   {
    "duration": 183,
    "start_time": "2025-06-05T16:14:13.463Z"
   },
   {
    "duration": 119,
    "start_time": "2025-06-05T16:14:13.648Z"
   },
   {
    "duration": 1078,
    "start_time": "2025-06-05T16:14:13.770Z"
   },
   {
    "duration": 4,
    "start_time": "2025-06-05T16:14:14.850Z"
   },
   {
    "duration": 979,
    "start_time": "2025-06-05T16:14:14.856Z"
   },
   {
    "duration": 12,
    "start_time": "2025-06-05T16:14:15.837Z"
   },
   {
    "duration": 186,
    "start_time": "2025-06-05T16:14:15.851Z"
   },
   {
    "duration": 0,
    "start_time": "2025-06-05T16:14:16.039Z"
   },
   {
    "duration": 0,
    "start_time": "2025-06-05T16:14:16.040Z"
   },
   {
    "duration": 0,
    "start_time": "2025-06-05T16:14:16.041Z"
   },
   {
    "duration": 0,
    "start_time": "2025-06-05T16:14:16.042Z"
   },
   {
    "duration": 0,
    "start_time": "2025-06-05T16:14:16.043Z"
   },
   {
    "duration": 0,
    "start_time": "2025-06-05T16:14:16.045Z"
   },
   {
    "duration": 0,
    "start_time": "2025-06-05T16:14:16.046Z"
   },
   {
    "duration": 0,
    "start_time": "2025-06-05T16:14:16.047Z"
   },
   {
    "duration": 0,
    "start_time": "2025-06-05T16:14:16.048Z"
   },
   {
    "duration": 0,
    "start_time": "2025-06-05T16:14:16.049Z"
   },
   {
    "duration": 0,
    "start_time": "2025-06-05T16:14:16.051Z"
   },
   {
    "duration": 0,
    "start_time": "2025-06-05T16:14:16.052Z"
   },
   {
    "duration": 0,
    "start_time": "2025-06-05T16:14:16.053Z"
   },
   {
    "duration": 0,
    "start_time": "2025-06-05T16:14:16.054Z"
   },
   {
    "duration": 0,
    "start_time": "2025-06-05T16:14:16.055Z"
   },
   {
    "duration": 0,
    "start_time": "2025-06-05T16:14:16.056Z"
   },
   {
    "duration": 0,
    "start_time": "2025-06-05T16:14:16.057Z"
   },
   {
    "duration": 4,
    "start_time": "2025-06-05T16:15:39.159Z"
   },
   {
    "duration": 5,
    "start_time": "2025-06-05T16:15:40.010Z"
   },
   {
    "duration": 7,
    "start_time": "2025-06-05T16:15:40.800Z"
   },
   {
    "duration": 4,
    "start_time": "2025-06-05T16:15:41.709Z"
   },
   {
    "duration": 3,
    "start_time": "2025-06-05T16:15:42.509Z"
   },
   {
    "duration": 160,
    "start_time": "2025-06-05T16:15:43.219Z"
   },
   {
    "duration": 3,
    "start_time": "2025-06-05T16:15:43.939Z"
   },
   {
    "duration": 12,
    "start_time": "2025-06-05T16:15:45.559Z"
   },
   {
    "duration": 5,
    "start_time": "2025-06-05T16:15:52.498Z"
   },
   {
    "duration": 5,
    "start_time": "2025-06-05T16:15:57.970Z"
   },
   {
    "duration": 5,
    "start_time": "2025-06-05T16:16:00.179Z"
   },
   {
    "duration": 3,
    "start_time": "2025-06-05T16:16:02.339Z"
   },
   {
    "duration": 21,
    "start_time": "2025-06-05T16:16:50.408Z"
   },
   {
    "duration": 806,
    "start_time": "2025-06-05T16:17:10.708Z"
   },
   {
    "duration": 6,
    "start_time": "2025-06-05T16:20:44.118Z"
   },
   {
    "duration": 6,
    "start_time": "2025-06-05T16:20:45.258Z"
   },
   {
    "duration": 3,
    "start_time": "2025-06-05T16:20:45.888Z"
   },
   {
    "duration": 5,
    "start_time": "2025-06-05T16:20:46.518Z"
   },
   {
    "duration": 27,
    "start_time": "2025-06-05T16:20:47.168Z"
   },
   {
    "duration": 4,
    "start_time": "2025-06-05T16:20:47.869Z"
   },
   {
    "duration": 5,
    "start_time": "2025-06-05T16:20:49.868Z"
   },
   {
    "duration": 5,
    "start_time": "2025-06-05T16:20:50.568Z"
   },
   {
    "duration": 5,
    "start_time": "2025-06-05T16:20:51.508Z"
   },
   {
    "duration": 4,
    "start_time": "2025-06-05T16:20:52.888Z"
   },
   {
    "duration": 827,
    "start_time": "2025-06-05T16:20:54.088Z"
   },
   {
    "duration": 3,
    "start_time": "2025-06-05T16:23:30.447Z"
   },
   {
    "duration": 21,
    "start_time": "2025-06-05T16:23:49.417Z"
   },
   {
    "duration": 5,
    "start_time": "2025-06-05T16:23:51.957Z"
   },
   {
    "duration": 5,
    "start_time": "2025-06-05T16:23:58.418Z"
   },
   {
    "duration": 6,
    "start_time": "2025-06-05T16:23:59.227Z"
   },
   {
    "duration": 3,
    "start_time": "2025-06-05T16:23:59.997Z"
   },
   {
    "duration": 4,
    "start_time": "2025-06-05T16:24:00.737Z"
   },
   {
    "duration": 27,
    "start_time": "2025-06-05T16:24:01.597Z"
   },
   {
    "duration": 4,
    "start_time": "2025-06-05T16:24:02.467Z"
   },
   {
    "duration": 4,
    "start_time": "2025-06-05T16:24:03.798Z"
   },
   {
    "duration": 4,
    "start_time": "2025-06-05T16:24:04.818Z"
   },
   {
    "duration": 4,
    "start_time": "2025-06-05T16:24:08.078Z"
   },
   {
    "duration": 4,
    "start_time": "2025-06-05T16:24:11.088Z"
   },
   {
    "duration": 810,
    "start_time": "2025-06-05T16:24:11.978Z"
   },
   {
    "duration": 98,
    "start_time": "2025-06-05T16:25:48.727Z"
   },
   {
    "duration": 5,
    "start_time": "2025-06-05T16:28:37.256Z"
   },
   {
    "duration": 5,
    "start_time": "2025-06-05T16:28:37.986Z"
   },
   {
    "duration": 5,
    "start_time": "2025-06-05T16:28:38.646Z"
   },
   {
    "duration": 3,
    "start_time": "2025-06-05T16:28:39.527Z"
   },
   {
    "duration": 758,
    "start_time": "2025-06-05T16:28:40.217Z"
   },
   {
    "duration": 4,
    "start_time": "2025-06-05T16:29:12.526Z"
   },
   {
    "duration": 5,
    "start_time": "2025-06-05T16:29:13.466Z"
   },
   {
    "duration": 5,
    "start_time": "2025-06-05T16:29:31.776Z"
   },
   {
    "duration": 5,
    "start_time": "2025-06-05T16:29:32.356Z"
   },
   {
    "duration": 5,
    "start_time": "2025-06-05T16:29:33.087Z"
   },
   {
    "duration": 3,
    "start_time": "2025-06-05T16:29:37.337Z"
   },
   {
    "duration": 25,
    "start_time": "2025-06-05T16:29:38.146Z"
   },
   {
    "duration": 4,
    "start_time": "2025-06-05T16:30:10.976Z"
   },
   {
    "duration": 4,
    "start_time": "2025-06-05T16:30:11.836Z"
   },
   {
    "duration": 4,
    "start_time": "2025-06-05T16:30:12.836Z"
   },
   {
    "duration": 653,
    "start_time": "2025-06-05T16:30:13.466Z"
   },
   {
    "duration": 5,
    "start_time": "2025-06-05T16:30:41.376Z"
   },
   {
    "duration": 4,
    "start_time": "2025-06-05T16:30:42.216Z"
   },
   {
    "duration": 3,
    "start_time": "2025-06-05T16:30:47.496Z"
   },
   {
    "duration": 767,
    "start_time": "2025-06-05T16:30:48.377Z"
   },
   {
    "duration": 29,
    "start_time": "2025-06-05T16:34:22.185Z"
   },
   {
    "duration": 30,
    "start_time": "2025-06-05T16:34:41.126Z"
   },
   {
    "duration": 30,
    "start_time": "2025-06-05T16:36:36.595Z"
   },
   {
    "duration": 23,
    "start_time": "2025-06-05T16:37:16.174Z"
   },
   {
    "duration": 538,
    "start_time": "2025-06-05T16:37:39.124Z"
   },
   {
    "duration": 5,
    "start_time": "2025-06-05T16:39:18.535Z"
   },
   {
    "duration": 24,
    "start_time": "2025-06-05T16:39:22.174Z"
   },
   {
    "duration": 17,
    "start_time": "2025-06-05T16:41:38.655Z"
   },
   {
    "duration": 28,
    "start_time": "2025-06-05T16:46:13.003Z"
   },
   {
    "duration": 28,
    "start_time": "2025-06-05T16:47:16.813Z"
   },
   {
    "duration": 2412,
    "start_time": "2025-06-05T16:48:13.291Z"
   },
   {
    "duration": 2448,
    "start_time": "2025-06-05T16:48:15.705Z"
   },
   {
    "duration": 3297,
    "start_time": "2025-06-05T16:48:18.155Z"
   },
   {
    "duration": 2462,
    "start_time": "2025-06-05T16:48:21.454Z"
   },
   {
    "duration": 2019,
    "start_time": "2025-06-05T16:48:23.919Z"
   },
   {
    "duration": 3,
    "start_time": "2025-06-05T16:48:25.940Z"
   },
   {
    "duration": 7,
    "start_time": "2025-06-05T16:48:25.944Z"
   },
   {
    "duration": 18,
    "start_time": "2025-06-05T16:48:25.953Z"
   },
   {
    "duration": 10,
    "start_time": "2025-06-05T16:48:25.972Z"
   },
   {
    "duration": 9,
    "start_time": "2025-06-05T16:48:25.983Z"
   },
   {
    "duration": 53,
    "start_time": "2025-06-05T16:48:25.993Z"
   },
   {
    "duration": 4,
    "start_time": "2025-06-05T16:48:26.048Z"
   },
   {
    "duration": 8,
    "start_time": "2025-06-05T16:48:26.053Z"
   },
   {
    "duration": 20,
    "start_time": "2025-06-05T16:48:26.063Z"
   },
   {
    "duration": 48,
    "start_time": "2025-06-05T16:48:26.084Z"
   },
   {
    "duration": 4,
    "start_time": "2025-06-05T16:48:26.135Z"
   },
   {
    "duration": 5,
    "start_time": "2025-06-05T16:48:26.140Z"
   },
   {
    "duration": 5,
    "start_time": "2025-06-05T16:48:26.147Z"
   },
   {
    "duration": 9,
    "start_time": "2025-06-05T16:48:26.153Z"
   },
   {
    "duration": 5,
    "start_time": "2025-06-05T16:48:26.163Z"
   },
   {
    "duration": 5,
    "start_time": "2025-06-05T16:48:26.169Z"
   },
   {
    "duration": 7,
    "start_time": "2025-06-05T16:48:26.175Z"
   },
   {
    "duration": 8,
    "start_time": "2025-06-05T16:48:26.183Z"
   },
   {
    "duration": 9,
    "start_time": "2025-06-05T16:48:26.192Z"
   },
   {
    "duration": 36,
    "start_time": "2025-06-05T16:48:26.203Z"
   },
   {
    "duration": 4,
    "start_time": "2025-06-05T16:48:26.241Z"
   },
   {
    "duration": 621,
    "start_time": "2025-06-05T16:48:26.246Z"
   },
   {
    "duration": 558,
    "start_time": "2025-06-05T16:48:26.868Z"
   },
   {
    "duration": 666,
    "start_time": "2025-06-05T16:48:27.434Z"
   },
   {
    "duration": 622,
    "start_time": "2025-06-05T16:48:28.101Z"
   },
   {
    "duration": 174,
    "start_time": "2025-06-05T16:48:28.724Z"
   },
   {
    "duration": 112,
    "start_time": "2025-06-05T16:48:28.900Z"
   },
   {
    "duration": 1018,
    "start_time": "2025-06-05T16:48:29.013Z"
   },
   {
    "duration": 5,
    "start_time": "2025-06-05T16:48:30.033Z"
   },
   {
    "duration": 1033,
    "start_time": "2025-06-05T16:48:30.040Z"
   },
   {
    "duration": 12,
    "start_time": "2025-06-05T16:48:31.074Z"
   },
   {
    "duration": 13,
    "start_time": "2025-06-05T16:48:31.088Z"
   },
   {
    "duration": 28,
    "start_time": "2025-06-05T16:48:31.102Z"
   },
   {
    "duration": 20,
    "start_time": "2025-06-05T16:48:31.134Z"
   },
   {
    "duration": 87,
    "start_time": "2025-06-05T16:48:31.155Z"
   },
   {
    "duration": 10,
    "start_time": "2025-06-05T16:48:31.246Z"
   },
   {
    "duration": 8,
    "start_time": "2025-06-05T16:48:31.258Z"
   },
   {
    "duration": 31,
    "start_time": "2025-06-05T16:48:31.267Z"
   },
   {
    "duration": 36,
    "start_time": "2025-06-05T16:48:31.300Z"
   },
   {
    "duration": 159,
    "start_time": "2025-06-05T16:48:31.338Z"
   },
   {
    "duration": 6,
    "start_time": "2025-06-05T16:48:31.499Z"
   },
   {
    "duration": 28,
    "start_time": "2025-06-05T16:48:31.506Z"
   },
   {
    "duration": 5,
    "start_time": "2025-06-05T16:48:31.535Z"
   },
   {
    "duration": 7,
    "start_time": "2025-06-05T16:48:31.541Z"
   },
   {
    "duration": 11,
    "start_time": "2025-06-05T16:48:31.549Z"
   },
   {
    "duration": 805,
    "start_time": "2025-06-05T16:48:31.564Z"
   },
   {
    "duration": 4,
    "start_time": "2025-06-05T16:48:50.832Z"
   },
   {
    "duration": 5,
    "start_time": "2025-06-05T16:48:51.522Z"
   },
   {
    "duration": 5,
    "start_time": "2025-06-05T16:48:52.202Z"
   },
   {
    "duration": 3,
    "start_time": "2025-06-05T16:48:52.973Z"
   },
   {
    "duration": 807,
    "start_time": "2025-06-05T16:48:53.632Z"
   },
   {
    "duration": 4,
    "start_time": "2025-06-05T16:49:00.193Z"
   },
   {
    "duration": 4,
    "start_time": "2025-06-05T16:49:00.823Z"
   },
   {
    "duration": 4,
    "start_time": "2025-06-05T16:49:01.332Z"
   },
   {
    "duration": 4,
    "start_time": "2025-06-05T16:49:01.922Z"
   },
   {
    "duration": 775,
    "start_time": "2025-06-05T16:49:02.512Z"
   },
   {
    "duration": 5,
    "start_time": "2025-06-05T16:49:16.883Z"
   },
   {
    "duration": 5,
    "start_time": "2025-06-05T16:49:17.582Z"
   },
   {
    "duration": 4,
    "start_time": "2025-06-05T16:49:18.223Z"
   },
   {
    "duration": 3,
    "start_time": "2025-06-05T16:49:18.922Z"
   },
   {
    "duration": 1519,
    "start_time": "2025-06-05T16:49:20.413Z"
   },
   {
    "duration": 4,
    "start_time": "2025-06-05T16:49:33.472Z"
   },
   {
    "duration": 4,
    "start_time": "2025-06-05T16:49:34.912Z"
   },
   {
    "duration": 4,
    "start_time": "2025-06-05T16:49:35.522Z"
   },
   {
    "duration": 3,
    "start_time": "2025-06-05T16:49:36.222Z"
   },
   {
    "duration": 5745,
    "start_time": "2025-06-05T16:49:37.390Z"
   },
   {
    "duration": 5,
    "start_time": "2025-06-05T16:55:43.490Z"
   },
   {
    "duration": 5,
    "start_time": "2025-06-05T16:55:44.211Z"
   },
   {
    "duration": 4,
    "start_time": "2025-06-05T16:55:44.871Z"
   },
   {
    "duration": 3,
    "start_time": "2025-06-05T16:55:45.690Z"
   },
   {
    "duration": 6740,
    "start_time": "2025-06-05T16:55:46.551Z"
   },
   {
    "duration": 4,
    "start_time": "2025-06-05T16:56:00.901Z"
   },
   {
    "duration": 5,
    "start_time": "2025-06-05T16:56:01.640Z"
   },
   {
    "duration": 4,
    "start_time": "2025-06-05T16:56:02.221Z"
   },
   {
    "duration": 3,
    "start_time": "2025-06-05T16:56:02.911Z"
   },
   {
    "duration": 6567,
    "start_time": "2025-06-05T16:56:03.581Z"
   },
   {
    "duration": 6,
    "start_time": "2025-06-05T16:57:44.891Z"
   },
   {
    "duration": 5,
    "start_time": "2025-06-05T16:57:45.601Z"
   },
   {
    "duration": 3,
    "start_time": "2025-06-05T16:57:46.351Z"
   },
   {
    "duration": 3,
    "start_time": "2025-06-05T16:57:47.151Z"
   },
   {
    "duration": 25,
    "start_time": "2025-06-05T16:57:47.981Z"
   },
   {
    "duration": 11,
    "start_time": "2025-06-05T16:57:54.100Z"
   },
   {
    "duration": 3,
    "start_time": "2025-06-05T16:58:01.141Z"
   },
   {
    "duration": 5,
    "start_time": "2025-06-05T16:58:04.040Z"
   },
   {
    "duration": 4,
    "start_time": "2025-06-05T16:58:04.871Z"
   },
   {
    "duration": 5,
    "start_time": "2025-06-05T16:58:05.821Z"
   },
   {
    "duration": 4,
    "start_time": "2025-06-05T16:58:06.650Z"
   },
   {
    "duration": 6424,
    "start_time": "2025-06-05T16:58:07.591Z"
   },
   {
    "duration": 224,
    "start_time": "2025-06-05T16:58:40.930Z"
   },
   {
    "duration": 5,
    "start_time": "2025-06-05T17:00:00.191Z"
   },
   {
    "duration": 4,
    "start_time": "2025-06-05T17:00:16.431Z"
   },
   {
    "duration": 12,
    "start_time": "2025-06-05T17:00:36.829Z"
   },
   {
    "duration": 3,
    "start_time": "2025-06-05T17:00:38.190Z"
   },
   {
    "duration": 17,
    "start_time": "2025-06-05T17:00:38.940Z"
   },
   {
    "duration": 12,
    "start_time": "2025-06-05T17:00:55.710Z"
   },
   {
    "duration": 28,
    "start_time": "2025-06-05T17:01:36.650Z"
   },
   {
    "duration": 5,
    "start_time": "2025-06-05T17:01:37.620Z"
   },
   {
    "duration": 8,
    "start_time": "2025-06-05T17:01:38.490Z"
   },
   {
    "duration": 6,
    "start_time": "2025-06-05T17:01:39.550Z"
   },
   {
    "duration": 4,
    "start_time": "2025-06-05T17:01:40.300Z"
   },
   {
    "duration": 3,
    "start_time": "2025-06-05T17:01:41.130Z"
   },
   {
    "duration": 29,
    "start_time": "2025-06-05T17:01:42.370Z"
   },
   {
    "duration": 3,
    "start_time": "2025-06-05T17:01:43.110Z"
   },
   {
    "duration": 6,
    "start_time": "2025-06-05T17:01:44.169Z"
   },
   {
    "duration": 5,
    "start_time": "2025-06-05T17:01:44.969Z"
   },
   {
    "duration": 4,
    "start_time": "2025-06-05T17:01:45.960Z"
   },
   {
    "duration": 3,
    "start_time": "2025-06-05T17:01:48.060Z"
   },
   {
    "duration": 6560,
    "start_time": "2025-06-05T17:01:48.831Z"
   },
   {
    "duration": 4,
    "start_time": "2025-06-05T17:03:10.910Z"
   },
   {
    "duration": 4,
    "start_time": "2025-06-05T17:03:12.060Z"
   },
   {
    "duration": 5,
    "start_time": "2025-06-05T17:03:12.870Z"
   },
   {
    "duration": 3,
    "start_time": "2025-06-05T17:03:13.740Z"
   },
   {
    "duration": 6890,
    "start_time": "2025-06-05T17:03:14.679Z"
   },
   {
    "duration": 5,
    "start_time": "2025-06-05T17:04:47.319Z"
   },
   {
    "duration": 5,
    "start_time": "2025-06-05T17:04:48.009Z"
   },
   {
    "duration": 4,
    "start_time": "2025-06-05T17:04:48.600Z"
   },
   {
    "duration": 3,
    "start_time": "2025-06-05T17:04:49.330Z"
   },
   {
    "duration": 13000,
    "start_time": "2025-06-05T17:04:49.970Z"
   },
   {
    "duration": 4,
    "start_time": "2025-06-05T17:05:10.160Z"
   },
   {
    "duration": 5,
    "start_time": "2025-06-05T17:05:19.049Z"
   },
   {
    "duration": 5,
    "start_time": "2025-06-05T17:05:19.660Z"
   },
   {
    "duration": 4,
    "start_time": "2025-06-05T17:05:20.209Z"
   },
   {
    "duration": 3,
    "start_time": "2025-06-05T17:05:20.869Z"
   },
   {
    "duration": 3066,
    "start_time": "2025-06-05T17:05:21.460Z"
   },
   {
    "duration": 4,
    "start_time": "2025-06-05T17:05:36.659Z"
   },
   {
    "duration": 5,
    "start_time": "2025-06-05T17:05:37.361Z"
   },
   {
    "duration": 5,
    "start_time": "2025-06-05T17:05:37.779Z"
   },
   {
    "duration": 5,
    "start_time": "2025-06-05T17:05:38.359Z"
   },
   {
    "duration": 2991,
    "start_time": "2025-06-05T17:05:38.840Z"
   },
   {
    "duration": 5,
    "start_time": "2025-06-05T17:06:05.520Z"
   },
   {
    "duration": 3033,
    "start_time": "2025-06-05T17:06:09.109Z"
   },
   {
    "duration": 4,
    "start_time": "2025-06-05T17:06:20.209Z"
   },
   {
    "duration": 5,
    "start_time": "2025-06-05T17:06:21.159Z"
   },
   {
    "duration": 4,
    "start_time": "2025-06-05T17:06:21.810Z"
   },
   {
    "duration": 3,
    "start_time": "2025-06-05T17:06:22.640Z"
   },
   {
    "duration": 3057,
    "start_time": "2025-06-05T17:06:23.269Z"
   },
   {
    "duration": 5,
    "start_time": "2025-06-05T17:06:35.679Z"
   },
   {
    "duration": 4,
    "start_time": "2025-06-05T17:06:36.349Z"
   },
   {
    "duration": 4,
    "start_time": "2025-06-05T17:06:36.899Z"
   },
   {
    "duration": 3036,
    "start_time": "2025-06-05T17:06:37.409Z"
   },
   {
    "duration": 5,
    "start_time": "2025-06-05T17:07:51.779Z"
   },
   {
    "duration": 17,
    "start_time": "2025-06-05T17:07:52.608Z"
   },
   {
    "duration": 4,
    "start_time": "2025-06-05T17:08:01.508Z"
   },
   {
    "duration": 5,
    "start_time": "2025-06-05T17:08:02.319Z"
   },
   {
    "duration": 4,
    "start_time": "2025-06-05T17:08:03.079Z"
   },
   {
    "duration": 5,
    "start_time": "2025-06-05T17:08:08.478Z"
   },
   {
    "duration": 3,
    "start_time": "2025-06-05T17:08:09.779Z"
   },
   {
    "duration": 25,
    "start_time": "2025-06-05T17:08:10.638Z"
   },
   {
    "duration": 5,
    "start_time": "2025-06-05T17:08:30.058Z"
   },
   {
    "duration": 4,
    "start_time": "2025-06-05T17:08:30.758Z"
   },
   {
    "duration": 2,
    "start_time": "2025-06-05T17:08:35.919Z"
   },
   {
    "duration": 24,
    "start_time": "2025-06-05T17:08:36.699Z"
   },
   {
    "duration": 6,
    "start_time": "2025-06-05T17:09:24.338Z"
   },
   {
    "duration": 5,
    "start_time": "2025-06-05T17:09:25.328Z"
   },
   {
    "duration": 4,
    "start_time": "2025-06-05T17:09:26.368Z"
   },
   {
    "duration": 3704,
    "start_time": "2025-06-05T17:09:27.169Z"
   },
   {
    "duration": 4,
    "start_time": "2025-06-05T17:09:51.719Z"
   },
   {
    "duration": 5,
    "start_time": "2025-06-05T17:09:52.318Z"
   },
   {
    "duration": 5,
    "start_time": "2025-06-05T17:09:53.018Z"
   },
   {
    "duration": 4,
    "start_time": "2025-06-05T17:09:53.838Z"
   },
   {
    "duration": 5331,
    "start_time": "2025-06-05T17:09:54.558Z"
   },
   {
    "duration": 5,
    "start_time": "2025-06-05T17:10:03.958Z"
   },
   {
    "duration": 6,
    "start_time": "2025-06-05T17:10:04.508Z"
   },
   {
    "duration": 5,
    "start_time": "2025-06-05T17:10:05.050Z"
   },
   {
    "duration": 3,
    "start_time": "2025-06-05T17:10:05.618Z"
   },
   {
    "duration": 5425,
    "start_time": "2025-06-05T17:10:06.188Z"
   },
   {
    "duration": 5,
    "start_time": "2025-06-05T17:10:21.548Z"
   },
   {
    "duration": 5,
    "start_time": "2025-06-05T17:10:22.308Z"
   },
   {
    "duration": 4,
    "start_time": "2025-06-05T17:10:23.069Z"
   },
   {
    "duration": 3,
    "start_time": "2025-06-05T17:10:23.828Z"
   },
   {
    "duration": 5319,
    "start_time": "2025-06-05T17:10:24.799Z"
   },
   {
    "duration": 6,
    "start_time": "2025-06-05T17:13:50.037Z"
   },
   {
    "duration": 5159,
    "start_time": "2025-06-05T17:14:02.417Z"
   },
   {
    "duration": 16,
    "start_time": "2025-06-05T17:14:48.627Z"
   },
   {
    "duration": 7,
    "start_time": "2025-06-05T17:16:36.217Z"
   },
   {
    "duration": 5,
    "start_time": "2025-06-05T17:16:39.026Z"
   },
   {
    "duration": 36213,
    "start_time": "2025-06-05T17:17:12.926Z"
   },
   {
    "duration": 4,
    "start_time": "2025-06-05T17:18:03.577Z"
   },
   {
    "duration": 7,
    "start_time": "2025-06-05T17:18:04.186Z"
   },
   {
    "duration": 5,
    "start_time": "2025-06-05T17:18:05.106Z"
   },
   {
    "duration": 3,
    "start_time": "2025-06-05T17:18:06.566Z"
   },
   {
    "duration": 5350,
    "start_time": "2025-06-05T17:18:07.687Z"
   },
   {
    "duration": 5,
    "start_time": "2025-06-05T17:18:32.886Z"
   },
   {
    "duration": 6,
    "start_time": "2025-06-05T17:18:33.546Z"
   },
   {
    "duration": 6,
    "start_time": "2025-06-05T17:18:34.196Z"
   },
   {
    "duration": 5419,
    "start_time": "2025-06-05T17:18:38.237Z"
   },
   {
    "duration": 3,
    "start_time": "2025-06-05T17:18:46.016Z"
   },
   {
    "duration": 5313,
    "start_time": "2025-06-05T17:18:46.866Z"
   },
   {
    "duration": 4,
    "start_time": "2025-06-05T17:19:21.845Z"
   },
   {
    "duration": 6,
    "start_time": "2025-06-05T17:19:35.586Z"
   },
   {
    "duration": 4,
    "start_time": "2025-06-05T17:19:36.366Z"
   },
   {
    "duration": 3,
    "start_time": "2025-06-05T17:19:37.587Z"
   },
   {
    "duration": 42690,
    "start_time": "2025-06-05T17:19:38.166Z"
   },
   {
    "duration": 5,
    "start_time": "2025-06-05T17:20:38.956Z"
   },
   {
    "duration": 5,
    "start_time": "2025-06-05T17:20:39.946Z"
   },
   {
    "duration": 4,
    "start_time": "2025-06-05T17:20:40.586Z"
   },
   {
    "duration": 3,
    "start_time": "2025-06-05T17:20:41.426Z"
   },
   {
    "duration": 5160,
    "start_time": "2025-06-05T17:20:42.216Z"
   },
   {
    "duration": 6,
    "start_time": "2025-06-05T17:20:50.946Z"
   },
   {
    "duration": 4,
    "start_time": "2025-06-05T17:20:51.956Z"
   },
   {
    "duration": 3,
    "start_time": "2025-06-05T17:20:52.677Z"
   },
   {
    "duration": 18350,
    "start_time": "2025-06-05T17:20:53.395Z"
   },
   {
    "duration": 4,
    "start_time": "2025-06-05T17:22:03.296Z"
   },
   {
    "duration": 4,
    "start_time": "2025-06-05T17:22:04.286Z"
   },
   {
    "duration": 4,
    "start_time": "2025-06-05T17:22:04.936Z"
   },
   {
    "duration": 4,
    "start_time": "2025-06-05T17:22:05.665Z"
   },
   {
    "duration": 5097,
    "start_time": "2025-06-05T17:22:06.366Z"
   },
   {
    "duration": 5,
    "start_time": "2025-06-05T17:22:30.025Z"
   },
   {
    "duration": 5,
    "start_time": "2025-06-05T17:22:32.476Z"
   },
   {
    "duration": 4,
    "start_time": "2025-06-05T17:22:33.136Z"
   },
   {
    "duration": 3,
    "start_time": "2025-06-05T17:22:34.416Z"
   },
   {
    "duration": 30071,
    "start_time": "2025-06-05T17:22:35.676Z"
   },
   {
    "duration": 4,
    "start_time": "2025-06-05T17:23:51.826Z"
   },
   {
    "duration": 6,
    "start_time": "2025-06-05T17:23:52.375Z"
   },
   {
    "duration": 6,
    "start_time": "2025-06-05T17:23:54.036Z"
   },
   {
    "duration": 5,
    "start_time": "2025-06-05T17:23:54.636Z"
   },
   {
    "duration": 4,
    "start_time": "2025-06-05T17:23:55.356Z"
   },
   {
    "duration": 5227,
    "start_time": "2025-06-05T17:23:56.045Z"
   },
   {
    "duration": 4,
    "start_time": "2025-06-05T17:24:09.216Z"
   },
   {
    "duration": 5,
    "start_time": "2025-06-05T17:24:09.816Z"
   },
   {
    "duration": 4,
    "start_time": "2025-06-05T17:24:10.316Z"
   },
   {
    "duration": 2,
    "start_time": "2025-06-05T17:24:10.916Z"
   },
   {
    "duration": 5151,
    "start_time": "2025-06-05T17:24:11.466Z"
   },
   {
    "duration": 4,
    "start_time": "2025-06-05T17:24:22.146Z"
   },
   {
    "duration": 5,
    "start_time": "2025-06-05T17:24:22.735Z"
   },
   {
    "duration": 5,
    "start_time": "2025-06-05T17:24:23.295Z"
   },
   {
    "duration": 4,
    "start_time": "2025-06-05T17:24:24.015Z"
   },
   {
    "duration": 5268,
    "start_time": "2025-06-05T17:24:24.555Z"
   },
   {
    "duration": 5,
    "start_time": "2025-06-05T17:24:32.105Z"
   },
   {
    "duration": 4,
    "start_time": "2025-06-05T17:24:40.185Z"
   },
   {
    "duration": 5,
    "start_time": "2025-06-05T17:24:40.736Z"
   },
   {
    "duration": 4,
    "start_time": "2025-06-05T17:24:41.306Z"
   },
   {
    "duration": 4,
    "start_time": "2025-06-05T17:24:41.895Z"
   },
   {
    "duration": 14398,
    "start_time": "2025-06-05T17:24:42.515Z"
   },
   {
    "duration": 5,
    "start_time": "2025-06-05T17:25:04.805Z"
   },
   {
    "duration": 5,
    "start_time": "2025-06-05T17:25:05.675Z"
   },
   {
    "duration": 4,
    "start_time": "2025-06-05T17:25:06.265Z"
   },
   {
    "duration": 3,
    "start_time": "2025-06-05T17:25:06.865Z"
   },
   {
    "duration": 13903,
    "start_time": "2025-06-05T17:25:07.455Z"
   },
   {
    "duration": 4,
    "start_time": "2025-06-05T17:25:31.135Z"
   },
   {
    "duration": 5,
    "start_time": "2025-06-05T17:25:31.755Z"
   },
   {
    "duration": 4,
    "start_time": "2025-06-05T17:25:32.315Z"
   },
   {
    "duration": 3,
    "start_time": "2025-06-05T17:25:32.865Z"
   },
   {
    "duration": 14856,
    "start_time": "2025-06-05T17:25:33.425Z"
   },
   {
    "duration": 5,
    "start_time": "2025-06-05T17:25:57.475Z"
   },
   {
    "duration": 5,
    "start_time": "2025-06-05T17:25:58.066Z"
   },
   {
    "duration": 4,
    "start_time": "2025-06-05T17:25:58.625Z"
   },
   {
    "duration": 4,
    "start_time": "2025-06-05T17:25:59.255Z"
   },
   {
    "duration": 27560,
    "start_time": "2025-06-05T17:25:59.935Z"
   },
   {
    "duration": 5,
    "start_time": "2025-06-05T17:27:01.065Z"
   },
   {
    "duration": 6,
    "start_time": "2025-06-05T17:27:01.624Z"
   },
   {
    "duration": 5,
    "start_time": "2025-06-05T17:27:02.144Z"
   },
   {
    "duration": 4,
    "start_time": "2025-06-05T17:27:02.764Z"
   },
   {
    "duration": 7134,
    "start_time": "2025-06-05T17:27:03.325Z"
   },
   {
    "duration": 4,
    "start_time": "2025-06-05T17:27:18.925Z"
   },
   {
    "duration": 6,
    "start_time": "2025-06-05T17:27:20.155Z"
   },
   {
    "duration": 5,
    "start_time": "2025-06-05T17:27:20.724Z"
   },
   {
    "duration": 3,
    "start_time": "2025-06-05T17:27:21.424Z"
   },
   {
    "duration": 106141,
    "start_time": "2025-06-05T17:27:22.025Z"
   },
   {
    "duration": 5,
    "start_time": "2025-06-05T17:30:00.944Z"
   },
   {
    "duration": 7,
    "start_time": "2025-06-05T17:30:01.533Z"
   },
   {
    "duration": 4,
    "start_time": "2025-06-05T17:30:02.024Z"
   },
   {
    "duration": 3,
    "start_time": "2025-06-05T17:30:02.794Z"
   },
   {
    "duration": 25623,
    "start_time": "2025-06-05T17:30:03.444Z"
   },
   {
    "duration": 5,
    "start_time": "2025-06-05T17:30:41.114Z"
   },
   {
    "duration": 5,
    "start_time": "2025-06-05T17:30:41.754Z"
   },
   {
    "duration": 4,
    "start_time": "2025-06-05T17:30:42.364Z"
   },
   {
    "duration": 3,
    "start_time": "2025-06-05T17:30:43.055Z"
   },
   {
    "duration": 25491,
    "start_time": "2025-06-05T17:30:43.714Z"
   },
   {
    "duration": 5,
    "start_time": "2025-06-05T17:32:53.853Z"
   },
   {
    "duration": 4,
    "start_time": "2025-06-05T17:33:01.824Z"
   },
   {
    "duration": 5,
    "start_time": "2025-06-05T17:33:02.404Z"
   },
   {
    "duration": 5,
    "start_time": "2025-06-05T17:33:02.924Z"
   },
   {
    "duration": 3,
    "start_time": "2025-06-05T17:33:03.844Z"
   },
   {
    "duration": 4321,
    "start_time": "2025-06-05T17:33:07.614Z"
   },
   {
    "duration": 4,
    "start_time": "2025-06-05T17:33:20.554Z"
   },
   {
    "duration": 5,
    "start_time": "2025-06-05T17:33:22.554Z"
   },
   {
    "duration": 6,
    "start_time": "2025-06-05T17:33:23.163Z"
   },
   {
    "duration": 4,
    "start_time": "2025-06-05T17:33:23.713Z"
   },
   {
    "duration": 11786,
    "start_time": "2025-06-05T17:33:24.394Z"
   },
   {
    "duration": 6,
    "start_time": "2025-06-05T17:33:56.074Z"
   },
   {
    "duration": 4,
    "start_time": "2025-06-05T17:33:57.313Z"
   },
   {
    "duration": 3,
    "start_time": "2025-06-05T17:33:57.924Z"
   },
   {
    "duration": 26,
    "start_time": "2025-06-05T17:34:06.144Z"
   },
   {
    "duration": 5,
    "start_time": "2025-06-05T17:37:43.423Z"
   },
   {
    "duration": 7,
    "start_time": "2025-06-05T17:37:44.103Z"
   },
   {
    "duration": 5,
    "start_time": "2025-06-05T17:37:44.743Z"
   },
   {
    "duration": 6230,
    "start_time": "2025-06-05T17:37:49.223Z"
   },
   {
    "duration": 3,
    "start_time": "2025-06-05T17:37:58.033Z"
   },
   {
    "duration": 12414,
    "start_time": "2025-06-05T17:37:59.593Z"
   },
   {
    "duration": 5,
    "start_time": "2025-06-05T17:38:17.923Z"
   },
   {
    "duration": 5,
    "start_time": "2025-06-05T17:38:18.543Z"
   },
   {
    "duration": 5,
    "start_time": "2025-06-05T17:38:19.143Z"
   },
   {
    "duration": 3,
    "start_time": "2025-06-05T17:38:19.773Z"
   },
   {
    "duration": 6951,
    "start_time": "2025-06-05T17:38:22.342Z"
   },
   {
    "duration": 5,
    "start_time": "2025-06-05T17:38:37.872Z"
   },
   {
    "duration": 5,
    "start_time": "2025-06-05T17:38:39.393Z"
   },
   {
    "duration": 5,
    "start_time": "2025-06-05T17:38:39.982Z"
   },
   {
    "duration": 3,
    "start_time": "2025-06-05T17:38:40.562Z"
   },
   {
    "duration": 6844,
    "start_time": "2025-06-05T17:38:41.753Z"
   },
   {
    "duration": 4,
    "start_time": "2025-06-05T17:39:00.493Z"
   },
   {
    "duration": 5,
    "start_time": "2025-06-05T17:39:01.193Z"
   },
   {
    "duration": 4,
    "start_time": "2025-06-05T17:39:01.862Z"
   },
   {
    "duration": 3,
    "start_time": "2025-06-05T17:39:02.733Z"
   },
   {
    "duration": 34886,
    "start_time": "2025-06-05T17:39:07.962Z"
   },
   {
    "duration": 19208,
    "start_time": "2025-06-05T17:40:20.472Z"
   },
   {
    "duration": 3,
    "start_time": "2025-06-05T17:42:29.452Z"
   },
   {
    "duration": 23,
    "start_time": "2025-06-05T17:43:01.722Z"
   },
   {
    "duration": 28,
    "start_time": "2025-06-05T17:44:26.852Z"
   },
   {
    "duration": 26,
    "start_time": "2025-06-05T17:44:47.472Z"
   },
   {
    "duration": 3,
    "start_time": "2025-06-05T17:47:21.002Z"
   },
   {
    "duration": 50004,
    "start_time": "2025-06-05T17:47:27.082Z"
   },
   {
    "duration": 0,
    "start_time": "2025-06-05T17:48:17.088Z"
   },
   {
    "duration": 5,
    "start_time": "2025-06-05T17:48:28.421Z"
   },
   {
    "duration": 6,
    "start_time": "2025-06-05T17:48:32.642Z"
   },
   {
    "duration": 8,
    "start_time": "2025-06-05T17:48:33.412Z"
   },
   {
    "duration": 7,
    "start_time": "2025-06-05T17:48:34.182Z"
   },
   {
    "duration": 3,
    "start_time": "2025-06-05T17:48:36.221Z"
   },
   {
    "duration": 4,
    "start_time": "2025-06-05T17:48:43.301Z"
   },
   {
    "duration": 69239,
    "start_time": "2025-06-05T17:48:45.412Z"
   },
   {
    "duration": 13,
    "start_time": "2025-06-05T17:49:58.551Z"
   },
   {
    "duration": 4,
    "start_time": "2025-06-05T17:50:25.631Z"
   },
   {
    "duration": 5,
    "start_time": "2025-06-05T17:50:56.391Z"
   },
   {
    "duration": 5,
    "start_time": "2025-06-05T17:50:57.051Z"
   },
   {
    "duration": 5,
    "start_time": "2025-06-05T17:50:57.781Z"
   },
   {
    "duration": 3,
    "start_time": "2025-06-05T17:50:59.021Z"
   },
   {
    "duration": 3,
    "start_time": "2025-06-05T17:51:03.381Z"
   },
   {
    "duration": 68399,
    "start_time": "2025-06-05T17:51:05.021Z"
   },
   {
    "duration": 4,
    "start_time": "2025-06-05T17:52:13.423Z"
   },
   {
    "duration": 4,
    "start_time": "2025-06-05T17:52:32.711Z"
   },
   {
    "duration": 5,
    "start_time": "2025-06-05T17:53:32.720Z"
   },
   {
    "duration": 35192,
    "start_time": "2025-06-05T17:53:33.810Z"
   },
   {
    "duration": 4,
    "start_time": "2025-06-05T17:54:13.200Z"
   },
   {
    "duration": 6,
    "start_time": "2025-06-05T17:54:33.760Z"
   },
   {
    "duration": 5,
    "start_time": "2025-06-05T17:54:34.710Z"
   },
   {
    "duration": 5,
    "start_time": "2025-06-05T17:54:35.500Z"
   },
   {
    "duration": 3,
    "start_time": "2025-06-05T17:54:37.980Z"
   },
   {
    "duration": 4,
    "start_time": "2025-06-05T17:54:48.400Z"
   },
   {
    "duration": 4,
    "start_time": "2025-06-05T17:54:51.490Z"
   },
   {
    "duration": 9928,
    "start_time": "2025-06-05T17:54:53.270Z"
   },
   {
    "duration": 4,
    "start_time": "2025-06-05T17:55:15.580Z"
   },
   {
    "duration": 9526,
    "start_time": "2025-06-05T17:55:16.730Z"
   },
   {
    "duration": 3,
    "start_time": "2025-06-05T17:57:22.040Z"
   },
   {
    "duration": 4,
    "start_time": "2025-06-05T17:58:04.799Z"
   },
   {
    "duration": 7,
    "start_time": "2025-06-05T17:58:22.369Z"
   },
   {
    "duration": 6,
    "start_time": "2025-06-05T17:58:27.630Z"
   },
   {
    "duration": 10,
    "start_time": "2025-06-05T17:58:46.159Z"
   },
   {
    "duration": 2198616,
    "start_time": "2025-06-05T17:58:53.449Z"
   },
   {
    "duration": 0,
    "start_time": "2025-06-05T18:35:32.068Z"
   },
   {
    "duration": 5,
    "start_time": "2025-06-05T18:35:36.763Z"
   },
   {
    "duration": 713245,
    "start_time": "2025-06-05T18:36:31.813Z"
   },
   {
    "duration": 9,
    "start_time": "2025-06-05T18:49:25.321Z"
   },
   {
    "duration": 29,
    "start_time": "2025-06-05T18:50:01.041Z"
   },
   {
    "duration": 28,
    "start_time": "2025-06-05T18:50:13.090Z"
   },
   {
    "duration": 5,
    "start_time": "2025-06-05T18:51:41.329Z"
   },
   {
    "duration": 229826,
    "start_time": "2025-06-05T18:51:56.929Z"
   },
   {
    "duration": 22180,
    "start_time": "2025-06-07T09:17:57.666Z"
   },
   {
    "duration": 2715,
    "start_time": "2025-06-07T09:18:19.849Z"
   },
   {
    "duration": 6524,
    "start_time": "2025-06-07T09:18:22.566Z"
   },
   {
    "duration": 3625,
    "start_time": "2025-06-07T09:18:29.092Z"
   },
   {
    "duration": 2325,
    "start_time": "2025-06-07T09:18:32.720Z"
   },
   {
    "duration": 0,
    "start_time": "2025-06-07T09:18:35.048Z"
   },
   {
    "duration": 0,
    "start_time": "2025-06-07T09:18:35.048Z"
   },
   {
    "duration": 0,
    "start_time": "2025-06-07T09:18:35.050Z"
   },
   {
    "duration": 0,
    "start_time": "2025-06-07T09:18:35.051Z"
   },
   {
    "duration": 0,
    "start_time": "2025-06-07T09:18:35.052Z"
   },
   {
    "duration": 0,
    "start_time": "2025-06-07T09:18:35.054Z"
   },
   {
    "duration": 0,
    "start_time": "2025-06-07T09:18:35.055Z"
   },
   {
    "duration": 0,
    "start_time": "2025-06-07T09:18:35.056Z"
   },
   {
    "duration": 0,
    "start_time": "2025-06-07T09:18:35.057Z"
   },
   {
    "duration": 0,
    "start_time": "2025-06-07T09:18:35.058Z"
   },
   {
    "duration": 0,
    "start_time": "2025-06-07T09:18:35.059Z"
   },
   {
    "duration": 0,
    "start_time": "2025-06-07T09:18:35.061Z"
   },
   {
    "duration": 0,
    "start_time": "2025-06-07T09:18:35.062Z"
   },
   {
    "duration": 0,
    "start_time": "2025-06-07T09:18:35.062Z"
   },
   {
    "duration": 0,
    "start_time": "2025-06-07T09:18:35.064Z"
   },
   {
    "duration": 0,
    "start_time": "2025-06-07T09:18:35.065Z"
   },
   {
    "duration": 0,
    "start_time": "2025-06-07T09:18:35.066Z"
   },
   {
    "duration": 0,
    "start_time": "2025-06-07T09:18:35.067Z"
   },
   {
    "duration": 0,
    "start_time": "2025-06-07T09:18:35.068Z"
   },
   {
    "duration": 0,
    "start_time": "2025-06-07T09:18:35.070Z"
   },
   {
    "duration": 0,
    "start_time": "2025-06-07T09:18:35.071Z"
   },
   {
    "duration": 0,
    "start_time": "2025-06-07T09:18:35.072Z"
   },
   {
    "duration": 0,
    "start_time": "2025-06-07T09:18:35.073Z"
   },
   {
    "duration": 0,
    "start_time": "2025-06-07T09:18:35.075Z"
   },
   {
    "duration": 0,
    "start_time": "2025-06-07T09:18:35.076Z"
   },
   {
    "duration": 0,
    "start_time": "2025-06-07T09:18:35.078Z"
   },
   {
    "duration": 0,
    "start_time": "2025-06-07T09:18:35.080Z"
   },
   {
    "duration": 0,
    "start_time": "2025-06-07T09:18:35.081Z"
   },
   {
    "duration": 0,
    "start_time": "2025-06-07T09:18:35.136Z"
   },
   {
    "duration": 0,
    "start_time": "2025-06-07T09:18:35.138Z"
   },
   {
    "duration": 0,
    "start_time": "2025-06-07T09:18:35.140Z"
   },
   {
    "duration": 0,
    "start_time": "2025-06-07T09:18:35.141Z"
   },
   {
    "duration": 0,
    "start_time": "2025-06-07T09:18:35.143Z"
   },
   {
    "duration": 0,
    "start_time": "2025-06-07T09:18:35.147Z"
   },
   {
    "duration": 0,
    "start_time": "2025-06-07T09:18:35.148Z"
   },
   {
    "duration": 0,
    "start_time": "2025-06-07T09:18:35.150Z"
   },
   {
    "duration": 0,
    "start_time": "2025-06-07T09:18:35.151Z"
   },
   {
    "duration": 0,
    "start_time": "2025-06-07T09:18:35.153Z"
   },
   {
    "duration": 0,
    "start_time": "2025-06-07T09:18:35.155Z"
   },
   {
    "duration": 0,
    "start_time": "2025-06-07T09:18:35.156Z"
   },
   {
    "duration": 0,
    "start_time": "2025-06-07T09:18:35.157Z"
   },
   {
    "duration": 0,
    "start_time": "2025-06-07T09:18:35.158Z"
   },
   {
    "duration": 0,
    "start_time": "2025-06-07T09:18:35.159Z"
   },
   {
    "duration": 0,
    "start_time": "2025-06-07T09:18:35.160Z"
   },
   {
    "duration": 0,
    "start_time": "2025-06-07T09:18:35.161Z"
   },
   {
    "duration": 0,
    "start_time": "2025-06-07T09:18:35.162Z"
   },
   {
    "duration": 0,
    "start_time": "2025-06-07T09:18:35.163Z"
   },
   {
    "duration": 0,
    "start_time": "2025-06-07T09:18:35.164Z"
   },
   {
    "duration": 0,
    "start_time": "2025-06-07T09:18:35.166Z"
   },
   {
    "duration": 0,
    "start_time": "2025-06-07T09:18:35.167Z"
   },
   {
    "duration": 0,
    "start_time": "2025-06-07T09:18:35.168Z"
   },
   {
    "duration": 0,
    "start_time": "2025-06-07T09:18:35.169Z"
   },
   {
    "duration": 0,
    "start_time": "2025-06-07T09:18:35.170Z"
   },
   {
    "duration": 0,
    "start_time": "2025-06-07T09:18:35.171Z"
   },
   {
    "duration": 0,
    "start_time": "2025-06-07T09:18:35.172Z"
   },
   {
    "duration": 0,
    "start_time": "2025-06-07T09:18:35.236Z"
   },
   {
    "duration": 0,
    "start_time": "2025-06-07T09:18:35.237Z"
   },
   {
    "duration": 0,
    "start_time": "2025-06-07T09:18:35.238Z"
   },
   {
    "duration": 0,
    "start_time": "2025-06-07T09:18:35.239Z"
   },
   {
    "duration": 0,
    "start_time": "2025-06-07T09:18:35.240Z"
   },
   {
    "duration": 0,
    "start_time": "2025-06-07T09:18:35.241Z"
   },
   {
    "duration": 1922,
    "start_time": "2025-06-07T09:18:50.164Z"
   },
   {
    "duration": 3,
    "start_time": "2025-06-07T09:18:52.994Z"
   },
   {
    "duration": 3,
    "start_time": "2025-06-07T09:18:53.535Z"
   },
   {
    "duration": 5,
    "start_time": "2025-06-07T09:18:57.445Z"
   },
   {
    "duration": 6,
    "start_time": "2025-06-07T09:18:58.015Z"
   },
   {
    "duration": 12,
    "start_time": "2025-06-07T09:18:58.205Z"
   },
   {
    "duration": 21,
    "start_time": "2025-06-07T09:18:58.375Z"
   },
   {
    "duration": 5,
    "start_time": "2025-06-07T09:18:58.565Z"
   },
   {
    "duration": 4,
    "start_time": "2025-06-07T09:18:58.765Z"
   },
   {
    "duration": 28,
    "start_time": "2025-06-07T09:18:59.084Z"
   },
   {
    "duration": 46,
    "start_time": "2025-06-07T09:18:59.270Z"
   },
   {
    "duration": 4,
    "start_time": "2025-06-07T09:18:59.804Z"
   },
   {
    "duration": 3,
    "start_time": "2025-06-07T09:18:59.994Z"
   },
   {
    "duration": 4,
    "start_time": "2025-06-07T09:19:00.214Z"
   },
   {
    "duration": 7,
    "start_time": "2025-06-07T09:19:00.544Z"
   },
   {
    "duration": 5,
    "start_time": "2025-06-07T09:19:00.914Z"
   },
   {
    "duration": 4,
    "start_time": "2025-06-07T09:19:01.064Z"
   },
   {
    "duration": 7,
    "start_time": "2025-06-07T09:19:01.244Z"
   },
   {
    "duration": 5,
    "start_time": "2025-06-07T09:19:01.594Z"
   },
   {
    "duration": 5,
    "start_time": "2025-06-07T09:19:01.934Z"
   },
   {
    "duration": 5,
    "start_time": "2025-06-07T09:19:02.154Z"
   },
   {
    "duration": 6,
    "start_time": "2025-06-07T09:19:02.473Z"
   },
   {
    "duration": 611,
    "start_time": "2025-06-07T09:19:02.844Z"
   },
   {
    "duration": 580,
    "start_time": "2025-06-07T09:19:03.457Z"
   },
   {
    "duration": 704,
    "start_time": "2025-06-07T09:19:04.039Z"
   },
   {
    "duration": 559,
    "start_time": "2025-06-07T09:19:04.745Z"
   },
   {
    "duration": 155,
    "start_time": "2025-06-07T09:19:05.306Z"
   },
   {
    "duration": 106,
    "start_time": "2025-06-07T09:19:05.463Z"
   },
   {
    "duration": 941,
    "start_time": "2025-06-07T09:19:05.571Z"
   },
   {
    "duration": 5,
    "start_time": "2025-06-07T09:19:06.515Z"
   },
   {
    "duration": 1436,
    "start_time": "2025-06-07T09:19:06.522Z"
   },
   {
    "duration": 11,
    "start_time": "2025-06-07T09:19:07.960Z"
   },
   {
    "duration": 5,
    "start_time": "2025-06-07T09:19:07.973Z"
   },
   {
    "duration": 43,
    "start_time": "2025-06-07T09:19:12.275Z"
   },
   {
    "duration": 5,
    "start_time": "2025-06-07T09:19:13.025Z"
   },
   {
    "duration": 9,
    "start_time": "2025-06-07T09:19:13.865Z"
   },
   {
    "duration": 8,
    "start_time": "2025-06-07T09:19:14.775Z"
   },
   {
    "duration": 4,
    "start_time": "2025-06-07T09:19:15.335Z"
   },
   {
    "duration": 4,
    "start_time": "2025-06-07T09:19:15.904Z"
   },
   {
    "duration": 161,
    "start_time": "2025-06-07T09:19:16.464Z"
   },
   {
    "duration": 3,
    "start_time": "2025-06-07T09:19:17.304Z"
   },
   {
    "duration": 4,
    "start_time": "2025-06-07T09:20:35.184Z"
   },
   {
    "duration": 6,
    "start_time": "2025-06-07T09:21:47.374Z"
   },
   {
    "duration": 151,
    "start_time": "2025-06-07T09:21:48.684Z"
   },
   {
    "duration": 4,
    "start_time": "2025-06-07T09:21:53.014Z"
   },
   {
    "duration": 5,
    "start_time": "2025-06-07T09:21:53.774Z"
   },
   {
    "duration": 15,
    "start_time": "2025-06-07T09:21:54.504Z"
   },
   {
    "duration": 5,
    "start_time": "2025-06-07T09:22:10.694Z"
   },
   {
    "duration": 5,
    "start_time": "2025-06-07T09:22:11.433Z"
   },
   {
    "duration": 3,
    "start_time": "2025-06-07T09:22:29.444Z"
   },
   {
    "duration": 183273,
    "start_time": "2025-06-07T09:22:36.274Z"
   },
   {
    "duration": 4,
    "start_time": "2025-06-07T09:29:18.272Z"
   },
   {
    "duration": 5,
    "start_time": "2025-06-07T09:29:18.972Z"
   },
   {
    "duration": 4,
    "start_time": "2025-06-07T09:29:19.702Z"
   },
   {
    "duration": 3,
    "start_time": "2025-06-07T09:29:20.902Z"
   },
   {
    "duration": 1220,
    "start_time": "2025-06-07T09:29:21.732Z"
   },
   {
    "duration": 189327,
    "start_time": "2025-06-07T09:30:39.332Z"
   },
   {
    "duration": 149,
    "start_time": "2025-06-07T09:33:58.010Z"
   },
   {
    "duration": 16419,
    "start_time": "2025-06-07T09:36:45.330Z"
   },
   {
    "duration": 11,
    "start_time": "2025-06-07T09:37:19.120Z"
   },
   {
    "duration": 4,
    "start_time": "2025-06-07T09:38:42.600Z"
   },
   {
    "duration": 12,
    "start_time": "2025-06-07T09:38:55.259Z"
   },
   {
    "duration": 4,
    "start_time": "2025-06-07T09:39:27.249Z"
   },
   {
    "duration": 5,
    "start_time": "2025-06-07T09:39:27.920Z"
   },
   {
    "duration": 5,
    "start_time": "2025-06-07T09:39:28.651Z"
   },
   {
    "duration": 192721,
    "start_time": "2025-06-07T09:39:29.729Z"
   },
   {
    "duration": 162,
    "start_time": "2025-06-07T09:42:48.948Z"
   },
   {
    "duration": 5,
    "start_time": "2025-06-07T09:43:40.018Z"
   },
   {
    "duration": 6,
    "start_time": "2025-06-07T09:43:42.928Z"
   },
   {
    "duration": 4,
    "start_time": "2025-06-07T09:43:53.357Z"
   },
   {
    "duration": 543052,
    "start_time": "2025-06-07T09:44:07.788Z"
   },
   {
    "duration": 3,
    "start_time": "2025-06-07T09:53:18.156Z"
   },
   {
    "duration": 14,
    "start_time": "2025-06-07T09:56:30.594Z"
   },
   {
    "duration": 14,
    "start_time": "2025-06-07T09:57:18.155Z"
   },
   {
    "duration": 15,
    "start_time": "2025-06-07T09:59:25.754Z"
   },
   {
    "duration": 154,
    "start_time": "2025-06-07T09:59:35.133Z"
   },
   {
    "duration": 22,
    "start_time": "2025-06-07T10:02:57.503Z"
   },
   {
    "duration": 16,
    "start_time": "2025-06-07T10:03:21.963Z"
   },
   {
    "duration": 192,
    "start_time": "2025-06-07T10:04:17.313Z"
   },
   {
    "duration": 20,
    "start_time": "2025-06-07T10:06:02.742Z"
   },
   {
    "duration": 169,
    "start_time": "2025-06-07T10:07:38.562Z"
   },
   {
    "duration": 149,
    "start_time": "2025-06-07T10:10:09.272Z"
   },
   {
    "duration": 135,
    "start_time": "2025-06-07T10:10:42.881Z"
   },
   {
    "duration": 197,
    "start_time": "2025-06-07T10:11:47.532Z"
   },
   {
    "duration": 179,
    "start_time": "2025-06-07T10:12:05.971Z"
   },
   {
    "duration": 207,
    "start_time": "2025-06-07T10:12:32.051Z"
   },
   {
    "duration": 6,
    "start_time": "2025-06-07T10:16:17.211Z"
   },
   {
    "duration": 4,
    "start_time": "2025-06-07T10:16:18.401Z"
   },
   {
    "duration": 47136,
    "start_time": "2025-06-07T10:18:15.301Z"
   },
   {
    "duration": 6,
    "start_time": "2025-06-07T10:20:15.870Z"
   },
   {
    "duration": 4,
    "start_time": "2025-06-07T10:20:16.600Z"
   },
   {
    "duration": 206082,
    "start_time": "2025-06-07T10:20:19.060Z"
   },
   {
    "duration": 176,
    "start_time": "2025-06-07T10:24:26.199Z"
   },
   {
    "duration": 5,
    "start_time": "2025-06-07T10:24:47.069Z"
   },
   {
    "duration": 199779,
    "start_time": "2025-06-07T10:24:48.680Z"
   },
   {
    "duration": 178,
    "start_time": "2025-06-07T10:28:12.039Z"
   },
   {
    "duration": 262,
    "start_time": "2025-06-07T10:28:28.909Z"
   },
   {
    "duration": 6,
    "start_time": "2025-06-07T10:28:42.097Z"
   },
   {
    "duration": 6,
    "start_time": "2025-06-07T10:28:58.117Z"
   },
   {
    "duration": 4,
    "start_time": "2025-06-07T10:29:10.817Z"
   },
   {
    "duration": 410,
    "start_time": "2025-06-07T10:29:29.896Z"
   },
   {
    "duration": 294,
    "start_time": "2025-06-07T10:30:33.858Z"
   },
   {
    "duration": 300,
    "start_time": "2025-06-07T10:30:40.008Z"
   },
   {
    "duration": 5,
    "start_time": "2025-06-07T10:31:38.167Z"
   },
   {
    "duration": 4,
    "start_time": "2025-06-07T10:31:58.047Z"
   },
   {
    "duration": 5,
    "start_time": "2025-06-07T10:32:10.197Z"
   },
   {
    "duration": 300,
    "start_time": "2025-06-07T10:32:29.017Z"
   },
   {
    "duration": 5,
    "start_time": "2025-06-07T10:32:48.677Z"
   },
   {
    "duration": 6,
    "start_time": "2025-06-07T10:32:49.673Z"
   },
   {
    "duration": 5,
    "start_time": "2025-06-07T10:32:50.526Z"
   },
   {
    "duration": 191507,
    "start_time": "2025-06-07T10:32:51.537Z"
   },
   {
    "duration": 173,
    "start_time": "2025-06-07T10:37:52.876Z"
   },
   {
    "duration": 272,
    "start_time": "2025-06-07T10:37:54.806Z"
   },
   {
    "duration": 11,
    "start_time": "2025-06-07T10:38:16.446Z"
   },
   {
    "duration": 414,
    "start_time": "2025-06-07T10:38:50.345Z"
   },
   {
    "duration": 6,
    "start_time": "2025-06-07T10:39:17.236Z"
   },
   {
    "duration": 11,
    "start_time": "2025-06-07T10:39:25.195Z"
   },
   {
    "duration": 4,
    "start_time": "2025-06-07T10:39:27.916Z"
   },
   {
    "duration": 7,
    "start_time": "2025-06-07T10:39:35.575Z"
   },
   {
    "duration": 5,
    "start_time": "2025-06-07T10:39:36.166Z"
   },
   {
    "duration": 3,
    "start_time": "2025-06-07T10:39:36.735Z"
   },
   {
    "duration": 3,
    "start_time": "2025-06-07T10:39:37.345Z"
   },
   {
    "duration": 25,
    "start_time": "2025-06-07T10:39:38.025Z"
   },
   {
    "duration": 4,
    "start_time": "2025-06-07T10:39:39.195Z"
   },
   {
    "duration": 546,
    "start_time": "2025-06-07T10:39:54.175Z"
   },
   {
    "duration": 4,
    "start_time": "2025-06-07T10:40:53.895Z"
   },
   {
    "duration": 12,
    "start_time": "2025-06-07T10:41:03.335Z"
   },
   {
    "duration": 4,
    "start_time": "2025-06-07T10:41:04.175Z"
   },
   {
    "duration": 11,
    "start_time": "2025-06-07T10:41:04.776Z"
   },
   {
    "duration": 26,
    "start_time": "2025-06-07T10:41:05.485Z"
   },
   {
    "duration": 5,
    "start_time": "2025-06-07T10:41:06.415Z"
   },
   {
    "duration": 6,
    "start_time": "2025-06-07T10:41:07.256Z"
   },
   {
    "duration": 3,
    "start_time": "2025-06-07T10:41:08.016Z"
   },
   {
    "duration": 6,
    "start_time": "2025-06-07T10:41:08.715Z"
   },
   {
    "duration": 3,
    "start_time": "2025-06-07T10:41:09.635Z"
   },
   {
    "duration": 3,
    "start_time": "2025-06-07T10:41:10.495Z"
   },
   {
    "duration": 26,
    "start_time": "2025-06-07T10:41:11.865Z"
   },
   {
    "duration": 4,
    "start_time": "2025-06-07T10:41:12.435Z"
   },
   {
    "duration": 4,
    "start_time": "2025-06-07T10:41:13.456Z"
   },
   {
    "duration": 6,
    "start_time": "2025-06-07T10:41:15.765Z"
   },
   {
    "duration": 5,
    "start_time": "2025-06-07T10:41:16.755Z"
   },
   {
    "duration": 218148,
    "start_time": "2025-06-07T10:41:18.705Z"
   },
   {
    "duration": 241,
    "start_time": "2025-06-07T10:44:56.856Z"
   },
   {
    "duration": 340,
    "start_time": "2025-06-07T10:44:57.098Z"
   },
   {
    "duration": 7,
    "start_time": "2025-06-07T10:45:59.474Z"
   },
   {
    "duration": 5,
    "start_time": "2025-06-07T10:46:00.733Z"
   },
   {
    "duration": 12819,
    "start_time": "2025-06-07T10:46:01.834Z"
   },
   {
    "duration": 0,
    "start_time": "2025-06-07T10:46:14.655Z"
   },
   {
    "duration": 0,
    "start_time": "2025-06-07T10:46:14.656Z"
   },
   {
    "duration": 34842,
    "start_time": "2025-06-07T10:46:20.804Z"
   },
   {
    "duration": 0,
    "start_time": "2025-06-07T10:46:55.647Z"
   },
   {
    "duration": 0,
    "start_time": "2025-06-07T10:46:55.648Z"
   },
   {
    "duration": 5,
    "start_time": "2025-06-07T10:46:59.444Z"
   },
   {
    "duration": 5,
    "start_time": "2025-06-07T10:47:00.324Z"
   },
   {
    "duration": 58716,
    "start_time": "2025-06-07T10:47:01.134Z"
   },
   {
    "duration": 0,
    "start_time": "2025-06-07T10:47:59.852Z"
   },
   {
    "duration": 0,
    "start_time": "2025-06-07T10:47:59.853Z"
   },
   {
    "duration": 6,
    "start_time": "2025-06-07T10:48:09.504Z"
   },
   {
    "duration": 4,
    "start_time": "2025-06-07T10:48:10.213Z"
   },
   {
    "duration": 237222,
    "start_time": "2025-06-07T10:48:11.133Z"
   },
   {
    "duration": 240,
    "start_time": "2025-06-07T10:52:08.358Z"
   },
   {
    "duration": 332,
    "start_time": "2025-06-07T10:52:38.682Z"
   },
   {
    "duration": 333,
    "start_time": "2025-06-07T10:53:32.821Z"
   },
   {
    "duration": 4,
    "start_time": "2025-06-07T10:53:51.032Z"
   },
   {
    "duration": 6,
    "start_time": "2025-06-07T10:53:55.892Z"
   },
   {
    "duration": 4,
    "start_time": "2025-06-07T10:53:56.932Z"
   },
   {
    "duration": 4,
    "start_time": "2025-06-07T10:54:03.301Z"
   },
   {
    "duration": 4,
    "start_time": "2025-06-07T10:54:05.611Z"
   },
   {
    "duration": 6,
    "start_time": "2025-06-07T10:54:06.472Z"
   },
   {
    "duration": 3,
    "start_time": "2025-06-07T10:54:07.091Z"
   },
   {
    "duration": 3,
    "start_time": "2025-06-07T10:54:07.651Z"
   },
   {
    "duration": 25,
    "start_time": "2025-06-07T10:54:08.521Z"
   },
   {
    "duration": 3,
    "start_time": "2025-06-07T10:54:09.342Z"
   },
   {
    "duration": 4,
    "start_time": "2025-06-07T10:54:11.022Z"
   },
   {
    "duration": 124,
    "start_time": "2025-06-07T10:54:11.992Z"
   },
   {
    "duration": 5,
    "start_time": "2025-06-07T10:54:16.691Z"
   },
   {
    "duration": 249260,
    "start_time": "2025-06-07T10:54:18.192Z"
   },
   {
    "duration": 239,
    "start_time": "2025-06-07T10:58:27.454Z"
   },
   {
    "duration": 264,
    "start_time": "2025-06-07T10:58:27.694Z"
   },
   {
    "duration": 173,
    "start_time": "2025-06-07T10:58:43.111Z"
   },
   {
    "duration": 262,
    "start_time": "2025-06-07T10:58:51.761Z"
   },
   {
    "duration": 6,
    "start_time": "2025-06-07T10:59:07.961Z"
   },
   {
    "duration": 4,
    "start_time": "2025-06-07T10:59:08.701Z"
   },
   {
    "duration": 264894,
    "start_time": "2025-06-07T10:59:09.361Z"
   },
   {
    "duration": 262,
    "start_time": "2025-06-07T11:03:34.257Z"
   },
   {
    "duration": 242,
    "start_time": "2025-06-07T11:03:34.521Z"
   },
   {
    "duration": 258,
    "start_time": "2025-06-07T11:03:48.839Z"
   },
   {
    "duration": 259,
    "start_time": "2025-06-07T11:04:03.749Z"
   },
   {
    "duration": 4,
    "start_time": "2025-06-07T11:05:28.939Z"
   },
   {
    "duration": 10,
    "start_time": "2025-06-07T11:05:40.389Z"
   },
   {
    "duration": 15,
    "start_time": "2025-06-07T11:05:44.629Z"
   },
   {
    "duration": 6,
    "start_time": "2025-06-07T11:06:01.939Z"
   },
   {
    "duration": 261,
    "start_time": "2025-06-07T11:06:07.809Z"
   },
   {
    "duration": 274,
    "start_time": "2025-06-07T11:06:34.909Z"
   },
   {
    "duration": 550313,
    "start_time": "2025-06-07T11:07:05.329Z"
   },
   {
    "duration": 3,
    "start_time": "2025-06-07T11:16:15.644Z"
   },
   {
    "duration": 3,
    "start_time": "2025-06-07T11:21:02.566Z"
   },
   {
    "duration": 4,
    "start_time": "2025-06-07T11:53:14.658Z"
   },
   {
    "duration": 5,
    "start_time": "2025-06-07T11:53:15.688Z"
   },
   {
    "duration": 5,
    "start_time": "2025-06-07T11:53:16.438Z"
   },
   {
    "duration": 216346,
    "start_time": "2025-06-07T11:53:17.398Z"
   },
   {
    "duration": 211,
    "start_time": "2025-06-07T11:56:53.746Z"
   },
   {
    "duration": 300,
    "start_time": "2025-06-07T11:56:53.959Z"
   },
   {
    "duration": 3,
    "start_time": "2025-06-07T11:56:54.262Z"
   },
   {
    "duration": 471888,
    "start_time": "2025-06-07T11:56:54.267Z"
   },
   {
    "duration": 82,
    "start_time": "2025-06-07T12:04:46.156Z"
   },
   {
    "duration": 6,
    "start_time": "2025-06-07T12:04:46.239Z"
   },
   {
    "duration": 7,
    "start_time": "2025-06-07T12:04:46.247Z"
   },
   {
    "duration": 227187,
    "start_time": "2025-06-07T12:04:46.255Z"
   },
   {
    "duration": 207,
    "start_time": "2025-06-07T12:08:33.444Z"
   },
   {
    "duration": 262,
    "start_time": "2025-06-07T12:08:33.653Z"
   },
   {
    "duration": 88,
    "start_time": "2025-06-07T12:08:33.916Z"
   },
   {
    "duration": 0,
    "start_time": "2025-06-07T12:08:34.005Z"
   },
   {
    "duration": 0,
    "start_time": "2025-06-07T12:08:34.007Z"
   },
   {
    "duration": 268,
    "start_time": "2025-06-07T12:19:30.962Z"
   },
   {
    "duration": 5,
    "start_time": "2025-06-07T12:26:59.351Z"
   },
   {
    "duration": 5,
    "start_time": "2025-06-07T12:27:00.011Z"
   },
   {
    "duration": 6,
    "start_time": "2025-06-07T12:27:00.700Z"
   },
   {
    "duration": 44752,
    "start_time": "2025-06-07T12:27:01.601Z"
   },
   {
    "duration": 260,
    "start_time": "2025-06-07T12:27:46.355Z"
   },
   {
    "duration": 272,
    "start_time": "2025-06-07T12:27:46.617Z"
   },
   {
    "duration": 4,
    "start_time": "2025-06-07T12:29:14.040Z"
   },
   {
    "duration": 170,
    "start_time": "2025-06-07T12:29:15.030Z"
   },
   {
    "duration": 5,
    "start_time": "2025-06-07T12:29:15.730Z"
   },
   {
    "duration": 28605,
    "start_time": "2025-06-07T12:29:16.430Z"
   },
   {
    "duration": 187,
    "start_time": "2025-06-07T12:29:45.037Z"
   },
   {
    "duration": 276,
    "start_time": "2025-06-07T12:29:45.226Z"
   },
   {
    "duration": 5,
    "start_time": "2025-06-07T12:30:11.600Z"
   },
   {
    "duration": 5,
    "start_time": "2025-06-07T12:30:12.950Z"
   },
   {
    "duration": 4,
    "start_time": "2025-06-07T12:30:13.670Z"
   },
   {
    "duration": 109989,
    "start_time": "2025-06-07T12:30:14.450Z"
   },
   {
    "duration": 183,
    "start_time": "2025-06-07T12:32:04.441Z"
   },
   {
    "duration": 278,
    "start_time": "2025-06-07T12:32:04.626Z"
   },
   {
    "duration": 5,
    "start_time": "2025-06-07T12:33:12.239Z"
   },
   {
    "duration": 6,
    "start_time": "2025-06-07T12:33:12.889Z"
   },
   {
    "duration": 5,
    "start_time": "2025-06-07T12:33:13.599Z"
   },
   {
    "duration": 217916,
    "start_time": "2025-06-07T12:33:14.519Z"
   },
   {
    "duration": 201,
    "start_time": "2025-06-07T12:36:52.438Z"
   },
   {
    "duration": 269,
    "start_time": "2025-06-07T12:36:52.641Z"
   },
   {
    "duration": 4,
    "start_time": "2025-06-07T12:38:09.898Z"
   },
   {
    "duration": 5,
    "start_time": "2025-06-07T12:38:10.848Z"
   },
   {
    "duration": 4,
    "start_time": "2025-06-07T12:38:11.378Z"
   },
   {
    "duration": 104387,
    "start_time": "2025-06-07T12:38:12.848Z"
   },
   {
    "duration": 185,
    "start_time": "2025-06-07T12:40:01.867Z"
   },
   {
    "duration": 264,
    "start_time": "2025-06-07T12:40:06.717Z"
   },
   {
    "duration": 4,
    "start_time": "2025-06-07T12:40:33.357Z"
   },
   {
    "duration": 5,
    "start_time": "2025-06-07T12:40:34.058Z"
   },
   {
    "duration": 4,
    "start_time": "2025-06-07T12:40:34.767Z"
   },
   {
    "duration": 62622,
    "start_time": "2025-06-07T12:40:35.527Z"
   },
   {
    "duration": 236,
    "start_time": "2025-06-07T12:41:38.151Z"
   },
   {
    "duration": 264,
    "start_time": "2025-06-07T12:41:38.389Z"
   },
   {
    "duration": 1550,
    "start_time": "2025-06-07T12:42:37.987Z"
   },
   {
    "duration": 50968,
    "start_time": "2025-06-07T12:44:00.987Z"
   },
   {
    "duration": 171,
    "start_time": "2025-06-07T12:44:55.816Z"
   },
   {
    "duration": 6,
    "start_time": "2025-06-07T12:45:06.507Z"
   },
   {
    "duration": 5,
    "start_time": "2025-06-07T12:45:07.996Z"
   },
   {
    "duration": 7,
    "start_time": "2025-06-07T12:45:08.677Z"
   },
   {
    "duration": 62284,
    "start_time": "2025-06-07T12:45:09.457Z"
   },
   {
    "duration": 214,
    "start_time": "2025-06-07T12:46:11.743Z"
   },
   {
    "duration": 296,
    "start_time": "2025-06-07T12:46:11.959Z"
   },
   {
    "duration": 60606,
    "start_time": "2025-06-07T12:48:18.555Z"
   },
   {
    "duration": 265,
    "start_time": "2025-06-07T12:49:19.163Z"
   },
   {
    "duration": 281,
    "start_time": "2025-06-07T12:49:19.429Z"
   },
   {
    "duration": 440,
    "start_time": "2025-06-07T12:49:19.713Z"
   },
   {
    "duration": 6,
    "start_time": "2025-06-07T12:49:36.635Z"
   },
   {
    "duration": 6,
    "start_time": "2025-06-07T12:50:09.586Z"
   },
   {
    "duration": 11,
    "start_time": "2025-06-07T12:50:10.295Z"
   },
   {
    "duration": 6,
    "start_time": "2025-06-07T12:50:32.756Z"
   },
   {
    "duration": 4,
    "start_time": "2025-06-07T12:50:33.435Z"
   },
   {
    "duration": 228849,
    "start_time": "2025-06-07T12:50:34.205Z"
   },
   {
    "duration": 179,
    "start_time": "2025-06-07T12:54:34.204Z"
   },
   {
    "duration": 265,
    "start_time": "2025-06-07T12:54:47.104Z"
   },
   {
    "duration": 6,
    "start_time": "2025-06-07T12:56:02.845Z"
   },
   {
    "duration": 5,
    "start_time": "2025-06-07T12:56:04.164Z"
   },
   {
    "duration": 66845,
    "start_time": "2025-06-07T12:56:07.504Z"
   },
   {
    "duration": 231,
    "start_time": "2025-06-07T12:57:14.351Z"
   },
   {
    "duration": 268,
    "start_time": "2025-06-07T12:57:22.813Z"
   },
   {
    "duration": 7,
    "start_time": "2025-06-07T13:34:01.465Z"
   },
   {
    "duration": 4,
    "start_time": "2025-06-07T13:34:02.084Z"
   },
   {
    "duration": 65199,
    "start_time": "2025-06-07T13:34:02.755Z"
   },
   {
    "duration": 266,
    "start_time": "2025-06-07T13:35:07.956Z"
   },
   {
    "duration": 294,
    "start_time": "2025-06-07T13:35:08.224Z"
   },
   {
    "duration": 4,
    "start_time": "2025-06-07T13:35:25.444Z"
   },
   {
    "duration": 6,
    "start_time": "2025-06-07T13:35:28.525Z"
   },
   {
    "duration": 6,
    "start_time": "2025-06-07T13:35:29.224Z"
   },
   {
    "duration": 56065,
    "start_time": "2025-06-07T13:35:29.974Z"
   },
   {
    "duration": 200,
    "start_time": "2025-06-07T13:36:26.040Z"
   },
   {
    "duration": 302,
    "start_time": "2025-06-07T13:36:26.242Z"
   },
   {
    "duration": 4,
    "start_time": "2025-06-07T13:36:39.214Z"
   },
   {
    "duration": 74819,
    "start_time": "2025-06-07T13:36:39.934Z"
   },
   {
    "duration": 226,
    "start_time": "2025-06-07T13:37:54.755Z"
   },
   {
    "duration": 277,
    "start_time": "2025-06-07T13:37:54.983Z"
   },
   {
    "duration": 2293,
    "start_time": "2025-06-07T13:38:34.134Z"
   },
   {
    "duration": 2347,
    "start_time": "2025-06-07T13:38:36.430Z"
   },
   {
    "duration": 2861,
    "start_time": "2025-06-07T13:38:38.779Z"
   },
   {
    "duration": 2389,
    "start_time": "2025-06-07T13:38:41.641Z"
   },
   {
    "duration": 1975,
    "start_time": "2025-06-07T13:38:44.032Z"
   },
   {
    "duration": 3,
    "start_time": "2025-06-07T13:38:46.008Z"
   },
   {
    "duration": 5,
    "start_time": "2025-06-07T13:38:46.013Z"
   },
   {
    "duration": 49,
    "start_time": "2025-06-07T13:38:46.019Z"
   },
   {
    "duration": 126,
    "start_time": "2025-06-07T13:38:46.070Z"
   },
   {
    "duration": 14,
    "start_time": "2025-06-07T13:38:46.198Z"
   },
   {
    "duration": 9,
    "start_time": "2025-06-07T13:38:46.213Z"
   },
   {
    "duration": 4,
    "start_time": "2025-06-07T13:38:46.223Z"
   },
   {
    "duration": 6,
    "start_time": "2025-06-07T13:38:46.228Z"
   },
   {
    "duration": 5,
    "start_time": "2025-06-07T13:38:46.237Z"
   },
   {
    "duration": 18,
    "start_time": "2025-06-07T13:38:46.243Z"
   },
   {
    "duration": 45,
    "start_time": "2025-06-07T13:38:46.262Z"
   },
   {
    "duration": 3,
    "start_time": "2025-06-07T13:38:46.309Z"
   },
   {
    "duration": 22,
    "start_time": "2025-06-07T13:38:46.314Z"
   },
   {
    "duration": 6,
    "start_time": "2025-06-07T13:38:46.338Z"
   },
   {
    "duration": 9,
    "start_time": "2025-06-07T13:38:46.345Z"
   },
   {
    "duration": 4,
    "start_time": "2025-06-07T13:38:46.356Z"
   },
   {
    "duration": 7,
    "start_time": "2025-06-07T13:38:46.361Z"
   },
   {
    "duration": 13,
    "start_time": "2025-06-07T13:38:46.369Z"
   },
   {
    "duration": 13,
    "start_time": "2025-06-07T13:38:46.384Z"
   },
   {
    "duration": 19,
    "start_time": "2025-06-07T13:38:46.398Z"
   },
   {
    "duration": 6,
    "start_time": "2025-06-07T13:38:46.419Z"
   },
   {
    "duration": 9,
    "start_time": "2025-06-07T13:38:46.427Z"
   },
   {
    "duration": 633,
    "start_time": "2025-06-07T13:38:46.438Z"
   },
   {
    "duration": 554,
    "start_time": "2025-06-07T13:38:47.073Z"
   },
   {
    "duration": 662,
    "start_time": "2025-06-07T13:38:47.636Z"
   },
   {
    "duration": 528,
    "start_time": "2025-06-07T13:38:48.299Z"
   },
   {
    "duration": 160,
    "start_time": "2025-06-07T13:38:48.828Z"
   },
   {
    "duration": 109,
    "start_time": "2025-06-07T13:38:48.989Z"
   },
   {
    "duration": 880,
    "start_time": "2025-06-07T13:38:49.099Z"
   },
   {
    "duration": 3,
    "start_time": "2025-06-07T13:38:49.980Z"
   },
   {
    "duration": 12,
    "start_time": "2025-06-07T13:38:49.985Z"
   },
   {
    "duration": 42,
    "start_time": "2025-06-07T13:38:49.999Z"
   },
   {
    "duration": 59,
    "start_time": "2025-06-07T13:38:50.042Z"
   },
   {
    "duration": 113,
    "start_time": "2025-06-07T13:38:50.103Z"
   },
   {
    "duration": 4,
    "start_time": "2025-06-07T13:38:50.218Z"
   },
   {
    "duration": 5,
    "start_time": "2025-06-07T13:38:50.226Z"
   },
   {
    "duration": 4,
    "start_time": "2025-06-07T13:38:50.233Z"
   },
   {
    "duration": 4,
    "start_time": "2025-06-07T13:38:50.238Z"
   },
   {
    "duration": 26,
    "start_time": "2025-06-07T13:38:50.243Z"
   },
   {
    "duration": 3,
    "start_time": "2025-06-07T13:38:50.271Z"
   },
   {
    "duration": 13,
    "start_time": "2025-06-07T13:38:50.276Z"
   },
   {
    "duration": 5,
    "start_time": "2025-06-07T13:38:50.291Z"
   },
   {
    "duration": 9,
    "start_time": "2025-06-07T13:38:50.297Z"
   },
   {
    "duration": 70430,
    "start_time": "2025-06-07T13:38:50.307Z"
   },
   {
    "duration": 186,
    "start_time": "2025-06-07T13:40:00.738Z"
   },
   {
    "duration": 275,
    "start_time": "2025-06-07T13:40:00.926Z"
   },
   {
    "duration": 6,
    "start_time": "2025-06-07T13:40:01.203Z"
   },
   {
    "duration": 27,
    "start_time": "2025-06-07T13:40:01.211Z"
   },
   {
    "duration": 69600,
    "start_time": "2025-06-07T13:40:01.240Z"
   },
   {
    "duration": 173,
    "start_time": "2025-06-07T13:41:10.842Z"
   },
   {
    "duration": 261,
    "start_time": "2025-06-07T13:41:11.016Z"
   },
   {
    "duration": 12611,
    "start_time": "2025-06-08T00:23:27.538Z"
   },
   {
    "duration": 11892,
    "start_time": "2025-06-08T00:23:40.153Z"
   },
   {
    "duration": 29595,
    "start_time": "2025-06-08T00:23:52.047Z"
   },
   {
    "duration": 17310,
    "start_time": "2025-06-08T00:24:21.645Z"
   },
   {
    "duration": 9695,
    "start_time": "2025-06-08T00:24:38.957Z"
   },
   {
    "duration": 3,
    "start_time": "2025-06-08T00:24:48.655Z"
   },
   {
    "duration": 5,
    "start_time": "2025-06-08T00:24:48.740Z"
   },
   {
    "duration": 4,
    "start_time": "2025-06-08T00:24:48.747Z"
   },
   {
    "duration": 94,
    "start_time": "2025-06-08T00:24:48.753Z"
   },
   {
    "duration": 9,
    "start_time": "2025-06-08T00:24:48.850Z"
   },
   {
    "duration": 5,
    "start_time": "2025-06-08T00:24:48.940Z"
   },
   {
    "duration": 9,
    "start_time": "2025-06-08T00:24:48.946Z"
   },
   {
    "duration": 89,
    "start_time": "2025-06-08T00:24:48.956Z"
   },
   {
    "duration": 90,
    "start_time": "2025-06-08T00:24:49.049Z"
   },
   {
    "duration": 99,
    "start_time": "2025-06-08T00:24:49.142Z"
   },
   {
    "duration": 301,
    "start_time": "2025-06-08T00:24:49.243Z"
   },
   {
    "duration": 5,
    "start_time": "2025-06-08T00:24:49.547Z"
   },
   {
    "duration": 87,
    "start_time": "2025-06-08T00:24:49.554Z"
   },
   {
    "duration": 96,
    "start_time": "2025-06-08T00:24:49.644Z"
   },
   {
    "duration": 10,
    "start_time": "2025-06-08T00:24:49.743Z"
   },
   {
    "duration": 87,
    "start_time": "2025-06-08T00:24:49.755Z"
   },
   {
    "duration": 6,
    "start_time": "2025-06-08T00:24:49.845Z"
   },
   {
    "duration": 91,
    "start_time": "2025-06-08T00:24:49.852Z"
   },
   {
    "duration": 95,
    "start_time": "2025-06-08T00:24:49.945Z"
   },
   {
    "duration": 30,
    "start_time": "2025-06-08T00:24:50.042Z"
   },
   {
    "duration": 7,
    "start_time": "2025-06-08T00:24:50.141Z"
   },
   {
    "duration": 92,
    "start_time": "2025-06-08T00:24:50.149Z"
   },
   {
    "duration": 2300,
    "start_time": "2025-06-08T00:24:50.245Z"
   },
   {
    "duration": 3008,
    "start_time": "2025-06-08T00:24:52.547Z"
   },
   {
    "duration": 2797,
    "start_time": "2025-06-08T00:24:55.557Z"
   },
   {
    "duration": 2205,
    "start_time": "2025-06-08T00:24:58.440Z"
   },
   {
    "duration": 904,
    "start_time": "2025-06-08T00:25:00.647Z"
   },
   {
    "duration": 686,
    "start_time": "2025-06-08T00:25:01.553Z"
   },
   {
    "duration": 3806,
    "start_time": "2025-06-08T00:25:02.241Z"
   },
   {
    "duration": 4,
    "start_time": "2025-06-08T00:25:06.048Z"
   },
   {
    "duration": 105,
    "start_time": "2025-06-08T00:25:06.053Z"
   },
   {
    "duration": 217,
    "start_time": "2025-06-08T00:25:06.240Z"
   },
   {
    "duration": 81,
    "start_time": "2025-06-08T00:25:06.459Z"
   },
   {
    "duration": 9,
    "start_time": "2025-06-08T00:25:06.542Z"
   },
   {
    "duration": 27,
    "start_time": "2025-06-08T00:25:06.552Z"
   },
   {
    "duration": 7,
    "start_time": "2025-06-08T00:25:06.640Z"
   },
   {
    "duration": 93,
    "start_time": "2025-06-08T00:25:06.648Z"
   },
   {
    "duration": 97,
    "start_time": "2025-06-08T00:25:06.742Z"
   },
   {
    "duration": 204,
    "start_time": "2025-06-08T00:25:06.842Z"
   },
   {
    "duration": 4,
    "start_time": "2025-06-08T00:25:07.048Z"
   },
   {
    "duration": 6,
    "start_time": "2025-06-08T00:25:07.138Z"
   },
   {
    "duration": 295,
    "start_time": "2025-06-08T00:25:07.147Z"
   },
   {
    "duration": 98,
    "start_time": "2025-06-08T00:25:07.444Z"
   },
   {
    "duration": 165802,
    "start_time": "2025-06-08T00:25:07.544Z"
   },
   {
    "duration": 1297,
    "start_time": "2025-06-08T00:27:53.348Z"
   },
   {
    "duration": 1400,
    "start_time": "2025-06-08T00:27:54.647Z"
   },
   {
    "duration": 92,
    "start_time": "2025-06-08T00:27:56.049Z"
   },
   {
    "duration": 95,
    "start_time": "2025-06-08T00:27:56.145Z"
   },
   {
    "duration": 171898,
    "start_time": "2025-06-08T00:27:56.242Z"
   },
   {
    "duration": 802,
    "start_time": "2025-06-08T00:30:48.142Z"
   },
   {
    "duration": 1604,
    "start_time": "2025-06-08T00:30:48.947Z"
   },
   {
    "duration": 927,
    "start_time": "2025-06-08T08:31:49.661Z"
   },
   {
    "duration": 23057,
    "start_time": "2025-06-08T08:31:53.951Z"
   },
   {
    "duration": 2787,
    "start_time": "2025-06-08T08:32:17.010Z"
   },
   {
    "duration": 6169,
    "start_time": "2025-06-08T08:32:19.799Z"
   },
   {
    "duration": 5140,
    "start_time": "2025-06-08T08:32:25.970Z"
   },
   {
    "duration": 1358,
    "start_time": "2025-06-08T08:32:31.112Z"
   },
   {
    "duration": 1957,
    "start_time": "2025-06-08T08:32:42.962Z"
   },
   {
    "duration": 3,
    "start_time": "2025-06-08T08:32:47.702Z"
   },
   {
    "duration": 3,
    "start_time": "2025-06-08T08:32:49.232Z"
   },
   {
    "duration": 3,
    "start_time": "2025-06-08T08:32:49.972Z"
   },
   {
    "duration": 7,
    "start_time": "2025-06-08T08:32:50.192Z"
   },
   {
    "duration": 84,
    "start_time": "2025-06-08T08:32:50.382Z"
   },
   {
    "duration": 101,
    "start_time": "2025-06-08T08:32:50.562Z"
   },
   {
    "duration": 4,
    "start_time": "2025-06-08T08:32:50.812Z"
   },
   {
    "duration": 110,
    "start_time": "2025-06-08T08:32:51.072Z"
   },
   {
    "duration": 30,
    "start_time": "2025-06-08T08:32:52.351Z"
   },
   {
    "duration": 45,
    "start_time": "2025-06-08T08:32:54.852Z"
   },
   {
    "duration": 3,
    "start_time": "2025-06-08T08:32:59.322Z"
   },
   {
    "duration": 3,
    "start_time": "2025-06-08T08:32:59.692Z"
   },
   {
    "duration": 3,
    "start_time": "2025-06-08T08:33:00.062Z"
   },
   {
    "duration": 5,
    "start_time": "2025-06-08T08:35:22.921Z"
   },
   {
    "duration": 4,
    "start_time": "2025-06-08T08:35:36.411Z"
   },
   {
    "duration": 6,
    "start_time": "2025-06-08T08:35:37.611Z"
   },
   {
    "duration": 5,
    "start_time": "2025-06-08T08:35:39.991Z"
   },
   {
    "duration": 3,
    "start_time": "2025-06-08T08:35:53.411Z"
   },
   {
    "duration": 7,
    "start_time": "2025-06-08T08:35:54.741Z"
   },
   {
    "duration": 4,
    "start_time": "2025-06-08T08:35:59.131Z"
   },
   {
    "duration": 544,
    "start_time": "2025-06-08T08:36:00.231Z"
   },
   {
    "duration": 498,
    "start_time": "2025-06-08T08:36:13.951Z"
   },
   {
    "duration": 640,
    "start_time": "2025-06-08T08:36:16.631Z"
   },
   {
    "duration": 523,
    "start_time": "2025-06-08T08:36:19.301Z"
   },
   {
    "duration": 144,
    "start_time": "2025-06-08T08:36:21.171Z"
   },
   {
    "duration": 122,
    "start_time": "2025-06-08T08:36:23.031Z"
   },
   {
    "duration": 841,
    "start_time": "2025-06-08T08:37:01.911Z"
   },
   {
    "duration": 957,
    "start_time": "2025-06-08T08:38:39.420Z"
   },
   {
    "duration": 4,
    "start_time": "2025-06-08T08:54:41.537Z"
   },
   {
    "duration": 3,
    "start_time": "2025-06-08T08:54:46.717Z"
   },
   {
    "duration": 4,
    "start_time": "2025-06-08T08:54:49.757Z"
   },
   {
    "duration": 2,
    "start_time": "2025-06-08T08:54:58.677Z"
   },
   {
    "duration": 5,
    "start_time": "2025-06-08T08:55:00.457Z"
   },
   {
    "duration": 169,
    "start_time": "2025-06-08T08:55:31.377Z"
   },
   {
    "duration": 4,
    "start_time": "2025-06-08T08:55:40.606Z"
   },
   {
    "duration": 4,
    "start_time": "2025-06-08T08:55:42.097Z"
   },
   {
    "duration": 4,
    "start_time": "2025-06-08T08:55:52.797Z"
   },
   {
    "duration": 1105,
    "start_time": "2025-06-08T08:56:03.536Z"
   },
   {
    "duration": 4,
    "start_time": "2025-06-08T08:58:29.227Z"
   },
   {
    "duration": 1074,
    "start_time": "2025-06-08T08:58:40.126Z"
   },
   {
    "duration": 29,
    "start_time": "2025-06-08T08:59:06.086Z"
   },
   {
    "duration": 43,
    "start_time": "2025-06-08T08:59:06.256Z"
   },
   {
    "duration": 4,
    "start_time": "2025-06-08T08:59:09.416Z"
   },
   {
    "duration": 3,
    "start_time": "2025-06-08T08:59:09.585Z"
   },
   {
    "duration": 4,
    "start_time": "2025-06-08T08:59:09.766Z"
   },
   {
    "duration": 8,
    "start_time": "2025-06-08T08:59:10.127Z"
   },
   {
    "duration": 5,
    "start_time": "2025-06-08T08:59:11.946Z"
   },
   {
    "duration": 5,
    "start_time": "2025-06-08T08:59:12.126Z"
   },
   {
    "duration": 7,
    "start_time": "2025-06-08T08:59:12.306Z"
   },
   {
    "duration": 6,
    "start_time": "2025-06-08T08:59:12.676Z"
   },
   {
    "duration": 5,
    "start_time": "2025-06-08T08:59:13.076Z"
   },
   {
    "duration": 6,
    "start_time": "2025-06-08T08:59:13.246Z"
   },
   {
    "duration": 5,
    "start_time": "2025-06-08T08:59:13.616Z"
   },
   {
    "duration": 563,
    "start_time": "2025-06-08T08:59:14.016Z"
   },
   {
    "duration": 570,
    "start_time": "2025-06-08T08:59:14.581Z"
   },
   {
    "duration": 716,
    "start_time": "2025-06-08T08:59:15.152Z"
   },
   {
    "duration": 570,
    "start_time": "2025-06-08T08:59:15.870Z"
   },
   {
    "duration": 172,
    "start_time": "2025-06-08T08:59:16.441Z"
   },
   {
    "duration": 149,
    "start_time": "2025-06-08T08:59:16.615Z"
   },
   {
    "duration": 908,
    "start_time": "2025-06-08T08:59:16.976Z"
   },
   {
    "duration": 965,
    "start_time": "2025-06-08T08:59:18.026Z"
   },
   {
    "duration": 3,
    "start_time": "2025-06-08T09:00:46.556Z"
   },
   {
    "duration": 12,
    "start_time": "2025-06-08T09:00:47.226Z"
   },
   {
    "duration": 24,
    "start_time": "2025-06-08T09:00:49.856Z"
   },
   {
    "duration": 4,
    "start_time": "2025-06-08T09:00:50.435Z"
   },
   {
    "duration": 7,
    "start_time": "2025-06-08T09:00:51.165Z"
   },
   {
    "duration": 4,
    "start_time": "2025-06-08T09:00:52.046Z"
   },
   {
    "duration": 5,
    "start_time": "2025-06-08T09:00:53.166Z"
   },
   {
    "duration": 2,
    "start_time": "2025-06-08T09:00:53.766Z"
   },
   {
    "duration": 3,
    "start_time": "2025-06-08T09:00:54.295Z"
   },
   {
    "duration": 150,
    "start_time": "2025-06-08T09:00:54.846Z"
   },
   {
    "duration": 3,
    "start_time": "2025-06-08T09:00:55.506Z"
   },
   {
    "duration": 4,
    "start_time": "2025-06-08T09:01:24.375Z"
   },
   {
    "duration": 6,
    "start_time": "2025-06-08T09:03:54.235Z"
   },
   {
    "duration": 7,
    "start_time": "2025-06-08T09:03:56.054Z"
   },
   {
    "duration": 4,
    "start_time": "2025-06-08T09:05:45.714Z"
   },
   {
    "duration": 3,
    "start_time": "2025-06-08T09:06:30.935Z"
   },
   {
    "duration": 2235,
    "start_time": "2025-06-08T09:08:51.364Z"
   },
   {
    "duration": 2396,
    "start_time": "2025-06-08T09:08:53.601Z"
   },
   {
    "duration": 3027,
    "start_time": "2025-06-08T09:08:55.999Z"
   },
   {
    "duration": 2368,
    "start_time": "2025-06-08T09:08:59.028Z"
   },
   {
    "duration": 1950,
    "start_time": "2025-06-08T09:09:01.399Z"
   },
   {
    "duration": 3,
    "start_time": "2025-06-08T09:09:03.351Z"
   },
   {
    "duration": 7,
    "start_time": "2025-06-08T09:09:03.361Z"
   },
   {
    "duration": 106,
    "start_time": "2025-06-08T09:09:03.369Z"
   },
   {
    "duration": 20,
    "start_time": "2025-06-08T09:09:03.476Z"
   },
   {
    "duration": 44,
    "start_time": "2025-06-08T09:09:03.498Z"
   },
   {
    "duration": 17,
    "start_time": "2025-06-08T09:09:03.543Z"
   },
   {
    "duration": 46,
    "start_time": "2025-06-08T09:09:03.561Z"
   },
   {
    "duration": 26,
    "start_time": "2025-06-08T09:09:03.609Z"
   },
   {
    "duration": 144,
    "start_time": "2025-06-08T09:09:03.638Z"
   },
   {
    "duration": 0,
    "start_time": "2025-06-08T09:09:03.784Z"
   },
   {
    "duration": 0,
    "start_time": "2025-06-08T09:09:03.786Z"
   },
   {
    "duration": 0,
    "start_time": "2025-06-08T09:09:03.787Z"
   },
   {
    "duration": 0,
    "start_time": "2025-06-08T09:09:03.788Z"
   },
   {
    "duration": 0,
    "start_time": "2025-06-08T09:09:03.789Z"
   },
   {
    "duration": 0,
    "start_time": "2025-06-08T09:09:03.790Z"
   },
   {
    "duration": 0,
    "start_time": "2025-06-08T09:09:03.791Z"
   },
   {
    "duration": 0,
    "start_time": "2025-06-08T09:09:03.792Z"
   },
   {
    "duration": 0,
    "start_time": "2025-06-08T09:09:03.793Z"
   },
   {
    "duration": 0,
    "start_time": "2025-06-08T09:09:03.794Z"
   },
   {
    "duration": 0,
    "start_time": "2025-06-08T09:09:03.795Z"
   },
   {
    "duration": 0,
    "start_time": "2025-06-08T09:09:03.796Z"
   },
   {
    "duration": 0,
    "start_time": "2025-06-08T09:09:03.797Z"
   },
   {
    "duration": 0,
    "start_time": "2025-06-08T09:09:03.798Z"
   },
   {
    "duration": 0,
    "start_time": "2025-06-08T09:09:03.799Z"
   },
   {
    "duration": 0,
    "start_time": "2025-06-08T09:09:03.800Z"
   },
   {
    "duration": 1,
    "start_time": "2025-06-08T09:09:03.800Z"
   },
   {
    "duration": 0,
    "start_time": "2025-06-08T09:09:03.801Z"
   },
   {
    "duration": 0,
    "start_time": "2025-06-08T09:09:03.802Z"
   },
   {
    "duration": 0,
    "start_time": "2025-06-08T09:09:03.803Z"
   },
   {
    "duration": 0,
    "start_time": "2025-06-08T09:09:03.804Z"
   },
   {
    "duration": 0,
    "start_time": "2025-06-08T09:09:03.805Z"
   },
   {
    "duration": 0,
    "start_time": "2025-06-08T09:09:03.806Z"
   },
   {
    "duration": 0,
    "start_time": "2025-06-08T09:09:03.807Z"
   },
   {
    "duration": 0,
    "start_time": "2025-06-08T09:09:03.808Z"
   },
   {
    "duration": 0,
    "start_time": "2025-06-08T09:09:03.810Z"
   },
   {
    "duration": 0,
    "start_time": "2025-06-08T09:09:03.811Z"
   },
   {
    "duration": 0,
    "start_time": "2025-06-08T09:09:03.811Z"
   },
   {
    "duration": 0,
    "start_time": "2025-06-08T09:09:03.812Z"
   },
   {
    "duration": 0,
    "start_time": "2025-06-08T09:09:03.861Z"
   },
   {
    "duration": 0,
    "start_time": "2025-06-08T09:09:03.862Z"
   },
   {
    "duration": 0,
    "start_time": "2025-06-08T09:09:03.863Z"
   },
   {
    "duration": 0,
    "start_time": "2025-06-08T09:09:03.864Z"
   },
   {
    "duration": 0,
    "start_time": "2025-06-08T09:09:03.866Z"
   },
   {
    "duration": 0,
    "start_time": "2025-06-08T09:09:03.867Z"
   },
   {
    "duration": 0,
    "start_time": "2025-06-08T09:09:03.868Z"
   },
   {
    "duration": 0,
    "start_time": "2025-06-08T09:09:03.869Z"
   },
   {
    "duration": 0,
    "start_time": "2025-06-08T09:09:03.870Z"
   },
   {
    "duration": 0,
    "start_time": "2025-06-08T09:09:03.871Z"
   },
   {
    "duration": 0,
    "start_time": "2025-06-08T09:09:03.872Z"
   },
   {
    "duration": 0,
    "start_time": "2025-06-08T09:09:03.873Z"
   },
   {
    "duration": 0,
    "start_time": "2025-06-08T09:09:03.874Z"
   },
   {
    "duration": 0,
    "start_time": "2025-06-08T09:09:03.875Z"
   },
   {
    "duration": 0,
    "start_time": "2025-06-08T09:09:03.876Z"
   },
   {
    "duration": 2296,
    "start_time": "2025-06-08T09:10:47.573Z"
   },
   {
    "duration": 2395,
    "start_time": "2025-06-08T09:10:49.871Z"
   },
   {
    "duration": 3007,
    "start_time": "2025-06-08T09:10:52.268Z"
   },
   {
    "duration": 2503,
    "start_time": "2025-06-08T09:10:55.277Z"
   },
   {
    "duration": 1997,
    "start_time": "2025-06-08T09:10:57.783Z"
   },
   {
    "duration": 4,
    "start_time": "2025-06-08T09:10:59.782Z"
   },
   {
    "duration": 10,
    "start_time": "2025-06-08T09:10:59.787Z"
   },
   {
    "duration": 10,
    "start_time": "2025-06-08T09:10:59.799Z"
   },
   {
    "duration": 16,
    "start_time": "2025-06-08T09:10:59.811Z"
   },
   {
    "duration": 10,
    "start_time": "2025-06-08T09:10:59.829Z"
   },
   {
    "duration": 9,
    "start_time": "2025-06-08T09:10:59.841Z"
   },
   {
    "duration": 22,
    "start_time": "2025-06-08T09:10:59.851Z"
   },
   {
    "duration": 16,
    "start_time": "2025-06-08T09:10:59.875Z"
   },
   {
    "duration": 19,
    "start_time": "2025-06-08T09:10:59.894Z"
   },
   {
    "duration": 45,
    "start_time": "2025-06-08T09:10:59.914Z"
   },
   {
    "duration": 9,
    "start_time": "2025-06-08T09:10:59.964Z"
   },
   {
    "duration": 28,
    "start_time": "2025-06-08T09:10:59.975Z"
   },
   {
    "duration": 61,
    "start_time": "2025-06-08T09:11:00.005Z"
   },
   {
    "duration": 43,
    "start_time": "2025-06-08T09:11:00.067Z"
   },
   {
    "duration": 50,
    "start_time": "2025-06-08T09:11:00.111Z"
   },
   {
    "duration": 71,
    "start_time": "2025-06-08T09:11:00.164Z"
   },
   {
    "duration": 14,
    "start_time": "2025-06-08T09:11:00.237Z"
   },
   {
    "duration": 27,
    "start_time": "2025-06-08T09:11:00.252Z"
   },
   {
    "duration": 46,
    "start_time": "2025-06-08T09:11:00.280Z"
   },
   {
    "duration": 48,
    "start_time": "2025-06-08T09:11:00.328Z"
   },
   {
    "duration": 9,
    "start_time": "2025-06-08T09:11:00.378Z"
   },
   {
    "duration": 599,
    "start_time": "2025-06-08T09:11:00.388Z"
   },
   {
    "duration": 562,
    "start_time": "2025-06-08T09:11:00.988Z"
   },
   {
    "duration": 735,
    "start_time": "2025-06-08T09:11:01.560Z"
   },
   {
    "duration": 606,
    "start_time": "2025-06-08T09:11:02.297Z"
   },
   {
    "duration": 313,
    "start_time": "2025-06-08T09:11:02.965Z"
   },
   {
    "duration": 284,
    "start_time": "2025-06-08T09:11:03.279Z"
   },
   {
    "duration": 1408,
    "start_time": "2025-06-08T09:11:03.564Z"
   },
   {
    "duration": 1412,
    "start_time": "2025-06-08T09:11:04.974Z"
   },
   {
    "duration": 3,
    "start_time": "2025-06-08T09:11:06.388Z"
   },
   {
    "duration": 39,
    "start_time": "2025-06-08T09:11:06.392Z"
   },
   {
    "duration": 56,
    "start_time": "2025-06-08T09:11:06.432Z"
   },
   {
    "duration": 155,
    "start_time": "2025-06-08T09:11:06.489Z"
   },
   {
    "duration": 27,
    "start_time": "2025-06-08T09:11:06.645Z"
   },
   {
    "duration": 5,
    "start_time": "2025-06-08T09:11:06.674Z"
   },
   {
    "duration": 6,
    "start_time": "2025-06-08T09:11:06.683Z"
   },
   {
    "duration": 16,
    "start_time": "2025-06-08T09:11:06.690Z"
   },
   {
    "duration": 14,
    "start_time": "2025-06-08T09:11:06.708Z"
   },
   {
    "duration": 171,
    "start_time": "2025-06-08T09:11:06.724Z"
   },
   {
    "duration": 11,
    "start_time": "2025-06-08T09:11:06.897Z"
   },
   {
    "duration": 34,
    "start_time": "2025-06-08T09:11:06.909Z"
   },
   {
    "duration": 34,
    "start_time": "2025-06-08T09:11:06.945Z"
   },
   {
    "duration": 29,
    "start_time": "2025-06-08T09:11:06.981Z"
   },
   {
    "duration": 60961,
    "start_time": "2025-06-08T09:11:07.011Z"
   },
   {
    "duration": 196,
    "start_time": "2025-06-08T09:12:07.973Z"
   },
   {
    "duration": 243,
    "start_time": "2025-06-08T09:12:08.170Z"
   },
   {
    "duration": 6,
    "start_time": "2025-06-08T09:12:08.415Z"
   },
   {
    "duration": 18,
    "start_time": "2025-06-08T09:12:08.422Z"
   },
   {
    "duration": 67232,
    "start_time": "2025-06-08T09:12:08.442Z"
   },
   {
    "duration": 210,
    "start_time": "2025-06-08T09:13:15.676Z"
   },
   {
    "duration": 252,
    "start_time": "2025-06-08T09:13:15.887Z"
   },
   {
    "duration": 5,
    "start_time": "2025-06-08T09:16:38.641Z"
   },
   {
    "duration": 6,
    "start_time": "2025-06-08T09:16:41.041Z"
   },
   {
    "duration": 6,
    "start_time": "2025-06-08T09:16:41.711Z"
   },
   {
    "duration": 62789,
    "start_time": "2025-06-08T09:16:42.291Z"
   },
   {
    "duration": 237,
    "start_time": "2025-06-08T09:17:45.082Z"
   },
   {
    "duration": 252,
    "start_time": "2025-06-08T09:17:45.320Z"
   },
   {
    "duration": 6,
    "start_time": "2025-06-08T09:17:45.574Z"
   },
   {
    "duration": 15,
    "start_time": "2025-06-08T09:17:45.581Z"
   },
   {
    "duration": 67386,
    "start_time": "2025-06-08T09:17:45.597Z"
   },
   {
    "duration": 234,
    "start_time": "2025-06-08T09:18:52.985Z"
   },
   {
    "duration": 244,
    "start_time": "2025-06-08T09:18:53.221Z"
   },
   {
    "duration": 4,
    "start_time": "2025-06-08T09:21:09.010Z"
   },
   {
    "duration": 5,
    "start_time": "2025-06-08T09:21:10.489Z"
   },
   {
    "duration": 5,
    "start_time": "2025-06-08T09:21:11.091Z"
   },
   {
    "duration": 6,
    "start_time": "2025-06-08T09:21:11.270Z"
   },
   {
    "duration": 5,
    "start_time": "2025-06-08T09:21:12.670Z"
   },
   {
    "duration": 5,
    "start_time": "2025-06-08T09:21:12.850Z"
   },
   {
    "duration": 63516,
    "start_time": "2025-06-08T09:21:13.050Z"
   },
   {
    "duration": 200,
    "start_time": "2025-06-08T09:22:16.567Z"
   },
   {
    "duration": 256,
    "start_time": "2025-06-08T09:22:16.770Z"
   },
   {
    "duration": 6,
    "start_time": "2025-06-08T09:22:17.027Z"
   },
   {
    "duration": 32,
    "start_time": "2025-06-08T09:22:17.034Z"
   },
   {
    "duration": 26706,
    "start_time": "2025-06-08T09:22:17.068Z"
   },
   {
    "duration": 0,
    "start_time": "2025-06-08T09:22:43.776Z"
   },
   {
    "duration": 0,
    "start_time": "2025-06-08T09:22:43.777Z"
   },
   {
    "duration": 4,
    "start_time": "2025-06-08T09:22:56.300Z"
   },
   {
    "duration": 4,
    "start_time": "2025-06-08T09:22:58.350Z"
   },
   {
    "duration": 6,
    "start_time": "2025-06-08T09:22:58.849Z"
   },
   {
    "duration": 6,
    "start_time": "2025-06-08T09:22:59.020Z"
   },
   {
    "duration": 5,
    "start_time": "2025-06-08T09:23:00.889Z"
   },
   {
    "duration": 5,
    "start_time": "2025-06-08T09:23:01.079Z"
   },
   {
    "duration": 64105,
    "start_time": "2025-06-08T09:23:01.269Z"
   },
   {
    "duration": 214,
    "start_time": "2025-06-08T09:24:05.376Z"
   },
   {
    "duration": 386,
    "start_time": "2025-06-08T09:24:05.592Z"
   },
   {
    "duration": 6,
    "start_time": "2025-06-08T09:24:05.980Z"
   },
   {
    "duration": 15,
    "start_time": "2025-06-08T09:24:05.987Z"
   },
   {
    "duration": 66081,
    "start_time": "2025-06-08T09:24:06.003Z"
   },
   {
    "duration": 166,
    "start_time": "2025-06-08T09:25:12.161Z"
   },
   {
    "duration": 255,
    "start_time": "2025-06-08T09:25:12.329Z"
   },
   {
    "duration": 4,
    "start_time": "2025-06-08T09:32:39.098Z"
   },
   {
    "duration": 5,
    "start_time": "2025-06-08T09:32:39.607Z"
   },
   {
    "duration": 5,
    "start_time": "2025-06-08T09:32:41.798Z"
   },
   {
    "duration": 4,
    "start_time": "2025-06-08T09:32:41.968Z"
   },
   {
    "duration": 105934,
    "start_time": "2025-06-08T09:32:42.138Z"
   },
   {
    "duration": 200,
    "start_time": "2025-06-08T09:34:28.074Z"
   },
   {
    "duration": 261,
    "start_time": "2025-06-08T09:34:28.275Z"
   },
   {
    "duration": 6,
    "start_time": "2025-06-08T09:34:28.538Z"
   },
   {
    "duration": 15,
    "start_time": "2025-06-08T09:34:28.546Z"
   },
   {
    "duration": 116217,
    "start_time": "2025-06-08T09:34:28.563Z"
   },
   {
    "duration": 233,
    "start_time": "2025-06-08T09:36:24.782Z"
   },
   {
    "duration": 243,
    "start_time": "2025-06-08T09:36:25.017Z"
   },
   {
    "duration": 5,
    "start_time": "2025-06-08T09:36:48.296Z"
   },
   {
    "duration": 5,
    "start_time": "2025-06-08T09:36:50.186Z"
   },
   {
    "duration": 5,
    "start_time": "2025-06-08T09:36:51.316Z"
   },
   {
    "duration": 110689,
    "start_time": "2025-06-08T09:36:52.187Z"
   },
   {
    "duration": 225,
    "start_time": "2025-06-08T09:38:42.878Z"
   },
   {
    "duration": 279,
    "start_time": "2025-06-08T09:38:43.104Z"
   },
   {
    "duration": 6,
    "start_time": "2025-06-08T09:38:43.385Z"
   },
   {
    "duration": 17,
    "start_time": "2025-06-08T09:38:43.392Z"
   },
   {
    "duration": 117761,
    "start_time": "2025-06-08T09:38:43.411Z"
   },
   {
    "duration": 199,
    "start_time": "2025-06-08T09:40:41.174Z"
   },
   {
    "duration": 246,
    "start_time": "2025-06-08T09:40:41.374Z"
   },
   {
    "duration": 5,
    "start_time": "2025-06-08T09:41:47.215Z"
   },
   {
    "duration": 3,
    "start_time": "2025-06-08T09:41:51.485Z"
   },
   {
    "duration": 11,
    "start_time": "2025-06-08T09:41:51.665Z"
   },
   {
    "duration": 25,
    "start_time": "2025-06-08T09:41:51.826Z"
   },
   {
    "duration": 3,
    "start_time": "2025-06-08T09:41:52.006Z"
   },
   {
    "duration": 7,
    "start_time": "2025-06-08T09:41:52.175Z"
   },
   {
    "duration": 3,
    "start_time": "2025-06-08T09:41:52.355Z"
   },
   {
    "duration": 6,
    "start_time": "2025-06-08T09:41:52.525Z"
   },
   {
    "duration": 4,
    "start_time": "2025-06-08T09:41:52.685Z"
   },
   {
    "duration": 2,
    "start_time": "2025-06-08T09:41:52.876Z"
   },
   {
    "duration": 157,
    "start_time": "2025-06-08T09:41:54.585Z"
   },
   {
    "duration": 3,
    "start_time": "2025-06-08T09:41:54.754Z"
   },
   {
    "duration": 5,
    "start_time": "2025-06-08T09:41:55.445Z"
   },
   {
    "duration": 5,
    "start_time": "2025-06-08T09:41:55.986Z"
   },
   {
    "duration": 4,
    "start_time": "2025-06-08T09:41:56.166Z"
   },
   {
    "duration": 105659,
    "start_time": "2025-06-08T09:41:56.326Z"
   },
   {
    "duration": 161,
    "start_time": "2025-06-08T09:43:42.060Z"
   },
   {
    "duration": 254,
    "start_time": "2025-06-08T09:43:42.222Z"
   },
   {
    "duration": 6,
    "start_time": "2025-06-08T09:43:42.478Z"
   },
   {
    "duration": 11,
    "start_time": "2025-06-08T09:43:42.486Z"
   },
   {
    "duration": 117078,
    "start_time": "2025-06-08T09:43:42.498Z"
   },
   {
    "duration": 216,
    "start_time": "2025-06-08T09:45:39.577Z"
   },
   {
    "duration": 248,
    "start_time": "2025-06-08T09:45:39.794Z"
   },
   {
    "duration": 5,
    "start_time": "2025-06-08T09:45:58.345Z"
   },
   {
    "duration": 3,
    "start_time": "2025-06-08T09:46:02.754Z"
   },
   {
    "duration": 11,
    "start_time": "2025-06-08T09:46:02.904Z"
   },
   {
    "duration": 26,
    "start_time": "2025-06-08T09:46:03.135Z"
   },
   {
    "duration": 4,
    "start_time": "2025-06-08T09:46:03.275Z"
   },
   {
    "duration": 7,
    "start_time": "2025-06-08T09:46:03.442Z"
   },
   {
    "duration": 4,
    "start_time": "2025-06-08T09:46:03.584Z"
   },
   {
    "duration": 5,
    "start_time": "2025-06-08T09:46:03.745Z"
   },
   {
    "duration": 3,
    "start_time": "2025-06-08T09:46:03.894Z"
   },
   {
    "duration": 3,
    "start_time": "2025-06-08T09:46:04.034Z"
   },
   {
    "duration": 25,
    "start_time": "2025-06-08T09:46:04.194Z"
   },
   {
    "duration": 3,
    "start_time": "2025-06-08T09:46:04.325Z"
   },
   {
    "duration": 4,
    "start_time": "2025-06-08T09:46:04.864Z"
   },
   {
    "duration": 5,
    "start_time": "2025-06-08T09:46:05.644Z"
   },
   {
    "duration": 6,
    "start_time": "2025-06-08T09:46:05.794Z"
   },
   {
    "duration": 112316,
    "start_time": "2025-06-08T09:46:05.964Z"
   },
   {
    "duration": 212,
    "start_time": "2025-06-08T09:47:58.282Z"
   },
   {
    "duration": 244,
    "start_time": "2025-06-08T09:47:58.496Z"
   },
   {
    "duration": 6,
    "start_time": "2025-06-08T09:47:58.742Z"
   },
   {
    "duration": 13,
    "start_time": "2025-06-08T09:47:58.749Z"
   },
   {
    "duration": 82809,
    "start_time": "2025-06-08T09:47:58.764Z"
   },
   {
    "duration": 0,
    "start_time": "2025-06-08T09:49:21.575Z"
   },
   {
    "duration": 0,
    "start_time": "2025-06-08T09:49:21.577Z"
   },
   {
    "duration": 5,
    "start_time": "2025-06-08T09:49:23.304Z"
   },
   {
    "duration": 3,
    "start_time": "2025-06-08T09:49:32.313Z"
   },
   {
    "duration": 11,
    "start_time": "2025-06-08T09:49:32.614Z"
   },
   {
    "duration": 28,
    "start_time": "2025-06-08T09:49:34.043Z"
   },
   {
    "duration": 4,
    "start_time": "2025-06-08T09:49:34.393Z"
   },
   {
    "duration": 6,
    "start_time": "2025-06-08T09:49:34.694Z"
   },
   {
    "duration": 3,
    "start_time": "2025-06-08T09:49:34.994Z"
   },
   {
    "duration": 5,
    "start_time": "2025-06-08T09:49:35.283Z"
   },
   {
    "duration": 3,
    "start_time": "2025-06-08T09:49:35.564Z"
   },
   {
    "duration": 3,
    "start_time": "2025-06-08T09:49:35.863Z"
   },
   {
    "duration": 25,
    "start_time": "2025-06-08T09:49:36.183Z"
   },
   {
    "duration": 3,
    "start_time": "2025-06-08T09:49:36.584Z"
   },
   {
    "duration": 4,
    "start_time": "2025-06-08T09:49:38.203Z"
   },
   {
    "duration": 5,
    "start_time": "2025-06-08T09:49:39.104Z"
   },
   {
    "duration": 5,
    "start_time": "2025-06-08T09:49:39.434Z"
   },
   {
    "duration": 108479,
    "start_time": "2025-06-08T09:49:39.803Z"
   },
   {
    "duration": 236,
    "start_time": "2025-06-08T09:51:28.284Z"
   },
   {
    "duration": 292,
    "start_time": "2025-06-08T09:51:28.522Z"
   },
   {
    "duration": 6,
    "start_time": "2025-06-08T09:51:28.815Z"
   },
   {
    "duration": 12,
    "start_time": "2025-06-08T09:51:28.822Z"
   },
   {
    "duration": 116040,
    "start_time": "2025-06-08T09:51:28.835Z"
   },
   {
    "duration": 211,
    "start_time": "2025-06-08T09:53:24.876Z"
   },
   {
    "duration": 251,
    "start_time": "2025-06-08T09:53:25.089Z"
   },
   {
    "duration": 2889,
    "start_time": "2025-06-08T09:54:45.315Z"
   },
   {
    "duration": 2305,
    "start_time": "2025-06-08T09:54:48.207Z"
   },
   {
    "duration": 2900,
    "start_time": "2025-06-08T09:54:50.515Z"
   },
   {
    "duration": 2355,
    "start_time": "2025-06-08T09:54:53.416Z"
   },
   {
    "duration": 1969,
    "start_time": "2025-06-08T09:54:55.774Z"
   },
   {
    "duration": 4,
    "start_time": "2025-06-08T09:54:57.745Z"
   },
   {
    "duration": 12,
    "start_time": "2025-06-08T09:54:57.750Z"
   },
   {
    "duration": 9,
    "start_time": "2025-06-08T09:54:57.763Z"
   },
   {
    "duration": 10,
    "start_time": "2025-06-08T09:54:57.773Z"
   },
   {
    "duration": 28,
    "start_time": "2025-06-08T09:54:57.784Z"
   },
   {
    "duration": 5,
    "start_time": "2025-06-08T09:54:57.814Z"
   },
   {
    "duration": 22,
    "start_time": "2025-06-08T09:54:57.820Z"
   },
   {
    "duration": 5,
    "start_time": "2025-06-08T09:54:57.843Z"
   },
   {
    "duration": 21,
    "start_time": "2025-06-08T09:54:57.850Z"
   },
   {
    "duration": 57,
    "start_time": "2025-06-08T09:54:57.872Z"
   },
   {
    "duration": 3,
    "start_time": "2025-06-08T09:54:57.931Z"
   },
   {
    "duration": 31,
    "start_time": "2025-06-08T09:54:57.935Z"
   },
   {
    "duration": 8,
    "start_time": "2025-06-08T09:54:57.968Z"
   },
   {
    "duration": 14,
    "start_time": "2025-06-08T09:54:57.977Z"
   },
   {
    "duration": 5,
    "start_time": "2025-06-08T09:54:57.993Z"
   },
   {
    "duration": 7,
    "start_time": "2025-06-08T09:54:58.000Z"
   },
   {
    "duration": 8,
    "start_time": "2025-06-08T09:54:58.008Z"
   },
   {
    "duration": 5,
    "start_time": "2025-06-08T09:54:58.017Z"
   },
   {
    "duration": 4,
    "start_time": "2025-06-08T09:54:58.023Z"
   },
   {
    "duration": 18,
    "start_time": "2025-06-08T09:54:58.028Z"
   },
   {
    "duration": 13,
    "start_time": "2025-06-08T09:54:58.047Z"
   },
   {
    "duration": 603,
    "start_time": "2025-06-08T09:54:58.062Z"
   },
   {
    "duration": 526,
    "start_time": "2025-06-08T09:54:58.666Z"
   },
   {
    "duration": 666,
    "start_time": "2025-06-08T09:54:59.193Z"
   },
   {
    "duration": 580,
    "start_time": "2025-06-08T09:54:59.861Z"
   },
   {
    "duration": 161,
    "start_time": "2025-06-08T09:55:00.442Z"
   },
   {
    "duration": 127,
    "start_time": "2025-06-08T09:55:00.604Z"
   },
   {
    "duration": 898,
    "start_time": "2025-06-08T09:55:00.733Z"
   },
   {
    "duration": 1029,
    "start_time": "2025-06-08T09:55:01.632Z"
   },
   {
    "duration": 3,
    "start_time": "2025-06-08T09:55:02.663Z"
   },
   {
    "duration": 167,
    "start_time": "2025-06-08T09:55:02.667Z"
   },
   {
    "duration": 68,
    "start_time": "2025-06-08T09:55:02.835Z"
   },
   {
    "duration": 45,
    "start_time": "2025-06-08T09:55:02.904Z"
   },
   {
    "duration": 23,
    "start_time": "2025-06-08T09:55:02.951Z"
   },
   {
    "duration": 91,
    "start_time": "2025-06-08T09:55:02.976Z"
   },
   {
    "duration": 83,
    "start_time": "2025-06-08T09:55:03.071Z"
   },
   {
    "duration": 19,
    "start_time": "2025-06-08T09:55:03.155Z"
   },
   {
    "duration": 9,
    "start_time": "2025-06-08T09:55:03.175Z"
   },
   {
    "duration": 182,
    "start_time": "2025-06-08T09:55:03.185Z"
   },
   {
    "duration": 201,
    "start_time": "2025-06-08T09:55:03.368Z"
   },
   {
    "duration": 138,
    "start_time": "2025-06-08T09:55:03.571Z"
   },
   {
    "duration": 49,
    "start_time": "2025-06-08T09:55:03.711Z"
   },
   {
    "duration": 18,
    "start_time": "2025-06-08T09:55:03.761Z"
   },
   {
    "duration": 65108,
    "start_time": "2025-06-08T09:55:03.780Z"
   },
   {
    "duration": 174,
    "start_time": "2025-06-08T09:56:08.962Z"
   },
   {
    "duration": 243,
    "start_time": "2025-06-08T09:56:09.137Z"
   },
   {
    "duration": 5,
    "start_time": "2025-06-08T09:56:09.382Z"
   },
   {
    "duration": 81,
    "start_time": "2025-06-08T09:56:09.388Z"
   },
   {
    "duration": 66810,
    "start_time": "2025-06-08T09:56:09.471Z"
   },
   {
    "duration": 231,
    "start_time": "2025-06-08T09:57:16.282Z"
   },
   {
    "duration": 266,
    "start_time": "2025-06-08T09:57:16.515Z"
   }
  ],
  "kernelspec": {
   "display_name": "Python 3 (ipykernel)",
   "language": "python",
   "name": "python3"
  },
  "language_info": {
   "codemirror_mode": {
    "name": "ipython",
    "version": 3
   },
   "file_extension": ".py",
   "mimetype": "text/x-python",
   "name": "python",
   "nbconvert_exporter": "python",
   "pygments_lexer": "ipython3",
   "version": "3.9.19"
  },
  "toc": {
   "base_numbering": 1,
   "nav_menu": {},
   "number_sections": false,
   "sideBar": true,
   "skip_h1_title": false,
   "title_cell": "Table of Contents",
   "title_sidebar": "Contents",
   "toc_cell": false,
   "toc_position": {
    "height": "calc(100% - 180px)",
    "left": "10px",
    "top": "150px",
    "width": "165px"
   },
   "toc_section_display": true,
   "toc_window_display": true
  },
  "varInspector": {
   "cols": {
    "lenName": 16,
    "lenType": 16,
    "lenVar": 40
   },
   "kernels_config": {
    "python": {
     "delete_cmd_postfix": "",
     "delete_cmd_prefix": "del ",
     "library": "var_list.py",
     "varRefreshCmd": "print(var_dic_list())"
    },
    "r": {
     "delete_cmd_postfix": ") ",
     "delete_cmd_prefix": "rm(",
     "library": "var_list.r",
     "varRefreshCmd": "cat(var_dic_list()) "
    }
   },
   "types_to_exclude": [
    "module",
    "function",
    "builtin_function_or_method",
    "instance",
    "_Feature"
   ],
   "window_display": false
  }
 },
 "nbformat": 4,
 "nbformat_minor": 5
}
